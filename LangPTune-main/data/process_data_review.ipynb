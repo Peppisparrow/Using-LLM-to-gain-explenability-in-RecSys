{
 "cells": [
  {
   "cell_type": "markdown",
   "metadata": {},
   "source": [
    "# Process Dataset"
   ]
  },
  {
   "cell_type": "code",
   "execution_count": 2,
   "metadata": {},
   "outputs": [
    {
     "name": "stderr",
     "output_type": "stream",
     "text": [
      "/Users/lucapagano/miniconda3/envs/THESIS/lib/python3.10/site-packages/tqdm/auto.py:21: TqdmWarning: IProgress not found. Please update jupyter and ipywidgets. See https://ipywidgets.readthedocs.io/en/stable/user_install.html\n",
      "  from .autonotebook import tqdm as notebook_tqdm\n"
     ]
    }
   ],
   "source": [
    "import pandas as pd\n",
    "\n",
    "pd.set_option('display.max_rows', 500)\n",
    "pd.set_option('display.max_columns', 500)\n",
    "pd.set_option('max_colwidth', 400)\n",
    "\n",
    "import ast\n",
    "import json\n",
    "import math\n",
    "import pickle\n",
    "import numpy as np\n",
    "import matplotlib.pyplot as plt\n",
    "from transformers import AutoTokenizer\n",
    "from tqdm import tqdm\n",
    "\n",
    "tokenizer_emb = AutoTokenizer.from_pretrained(\"mixedbread-ai/mxbai-embed-large-v1\")\n",
    "tokenizer_lm = AutoTokenizer.from_pretrained(\"google/gemma-2b-it\")"
   ]
  },
  {
   "cell_type": "markdown",
   "metadata": {},
   "source": [
    "#### Load Reviews"
   ]
  },
  {
   "cell_type": "code",
   "execution_count": 1,
   "metadata": {},
   "outputs": [],
   "source": [
    "import os\n",
    "os.chdir('../../')"
   ]
  },
  {
   "cell_type": "code",
   "execution_count": 11,
   "metadata": {},
   "outputs": [
    {
     "data": {
      "application/vnd.microsoft.datawrangler.viewer.v0+json": {
       "columns": [
        {
         "name": "index",
         "rawType": "int64",
         "type": "integer"
        },
        {
         "name": "SessionId",
         "rawType": "object",
         "type": "string"
        },
        {
         "name": "ItemId",
         "rawType": "object",
         "type": "string"
        },
        {
         "name": "Time",
         "rawType": "int64",
         "type": "integer"
        },
        {
         "name": "Rating",
         "rawType": "float64",
         "type": "float"
        },
        {
         "name": "Text",
         "rawType": "object",
         "type": "string"
        }
       ],
       "ref": "17e3df31-cc23-4964-9146-aca64102c71d",
       "rows": [
        [
         "0",
         "AGGZ357AO26RQZVRLGU4D4N52DZQ",
         "B013488XFS",
         "1440385637000",
         "5.0",
         "Amazon, please buy the show! I'm hooked!"
        ],
        [
         "1",
         "AGKASBHYZPGTEPO6LWZPVJWB2BVA",
         "B00CB6VTDS",
         "1461100610000",
         "5.0",
         "My Kiddos LOVE this show!!"
        ],
        [
         "2",
         "AG2L7H23R5LLKDKLBEF2Q3L2MVDA",
         "B096Z8Z3R6",
         "1646271834582",
         "3.0",
         "Annabella Sciorra did her character justice with her portrayal of a mentally ill, depressed and traumatized individual who projects much of her inner wounds onto others. The challenges she faces with her father were sensitively portrayed and resonate with understanding and love. The ending really isn't an ending, though and feels like it was abandoned with not enough of a closure but other than that, its a decent movie to sit through if you're the type of person who likes to people-watch or analyze the actions of others. Has an independent-movie feel which is also somewhat comforting."
        ],
        [
         "3",
         "AG2L7H23R5LLKDKLBEF2Q3L2MVDA",
         "B09M14D9FZ",
         "1645937761864",
         "4.0",
         "...there should be more of a range of characters with high-functioning autism, too. Jack is the closest representation but also falls on the more severe scale, socially. I love that the storyline of some episodes tie in heartwarming, moving moments which depict the struggles often faced by those on the spectrum. This show definitely has a ton of potential and I hope future seasons bring in more diverse and complex characters on the spectrum."
        ],
        [
         "4",
         "AG2L7H23R5LLKDKLBEF2Q3L2MVDA",
         "B001H1SVZC",
         "1590639227074",
         "5.0",
         "...isn't always how you expect it to be, but when its there, you know. That is what this movie is all about. Deep struggles within a broken home and a mother with an addiction and a best friend whom nobody else seems to understand but him. There's loss, there's triumph. There's a bit of magic with a psychic neighbor who makes quite an impact on the boy. This is one definitely worth your time."
        ]
       ],
       "shape": {
        "columns": 5,
        "rows": 5
       }
      },
      "text/html": [
       "<div>\n",
       "<style scoped>\n",
       "    .dataframe tbody tr th:only-of-type {\n",
       "        vertical-align: middle;\n",
       "    }\n",
       "\n",
       "    .dataframe tbody tr th {\n",
       "        vertical-align: top;\n",
       "    }\n",
       "\n",
       "    .dataframe thead th {\n",
       "        text-align: right;\n",
       "    }\n",
       "</style>\n",
       "<table border=\"1\" class=\"dataframe\">\n",
       "  <thead>\n",
       "    <tr style=\"text-align: right;\">\n",
       "      <th></th>\n",
       "      <th>SessionId</th>\n",
       "      <th>ItemId</th>\n",
       "      <th>Time</th>\n",
       "      <th>Rating</th>\n",
       "      <th>Text</th>\n",
       "    </tr>\n",
       "  </thead>\n",
       "  <tbody>\n",
       "    <tr>\n",
       "      <th>0</th>\n",
       "      <td>AGGZ357AO26RQZVRLGU4D4N52DZQ</td>\n",
       "      <td>B013488XFS</td>\n",
       "      <td>1440385637000</td>\n",
       "      <td>5.0</td>\n",
       "      <td>Amazon, please buy the show! I'm hooked!</td>\n",
       "    </tr>\n",
       "    <tr>\n",
       "      <th>1</th>\n",
       "      <td>AGKASBHYZPGTEPO6LWZPVJWB2BVA</td>\n",
       "      <td>B00CB6VTDS</td>\n",
       "      <td>1461100610000</td>\n",
       "      <td>5.0</td>\n",
       "      <td>My Kiddos LOVE this show!!</td>\n",
       "    </tr>\n",
       "    <tr>\n",
       "      <th>2</th>\n",
       "      <td>AG2L7H23R5LLKDKLBEF2Q3L2MVDA</td>\n",
       "      <td>B096Z8Z3R6</td>\n",
       "      <td>1646271834582</td>\n",
       "      <td>3.0</td>\n",
       "      <td>Annabella Sciorra did her character justice with her portrayal of a mentally ill, depressed and traumatized individual who projects much of her inner wounds onto others. The challenges she faces with her father were sensitively portrayed and resonate with understanding and love. The ending really isn't an ending, though and feels like it was abandoned with not enough of a closure but other tha...</td>\n",
       "    </tr>\n",
       "    <tr>\n",
       "      <th>3</th>\n",
       "      <td>AG2L7H23R5LLKDKLBEF2Q3L2MVDA</td>\n",
       "      <td>B09M14D9FZ</td>\n",
       "      <td>1645937761864</td>\n",
       "      <td>4.0</td>\n",
       "      <td>...there should be more of a range of characters with high-functioning autism, too. Jack is the closest representation but also falls on the more severe scale, socially. I love that the storyline of some episodes tie in heartwarming, moving moments which depict the struggles often faced by those on the spectrum. This show definitely has a ton of potential and I hope future seasons bring in mor...</td>\n",
       "    </tr>\n",
       "    <tr>\n",
       "      <th>4</th>\n",
       "      <td>AG2L7H23R5LLKDKLBEF2Q3L2MVDA</td>\n",
       "      <td>B001H1SVZC</td>\n",
       "      <td>1590639227074</td>\n",
       "      <td>5.0</td>\n",
       "      <td>...isn't always how you expect it to be, but when its there, you know. That is what this movie is all about. Deep struggles within a broken home and a mother with an addiction and a best friend whom nobody else seems to understand but him. There's loss, there's triumph. There's a bit of magic with a psychic neighbor who makes quite an impact on the boy. This is one definitely worth your time.</td>\n",
       "    </tr>\n",
       "  </tbody>\n",
       "</table>\n",
       "</div>"
      ],
      "text/plain": [
       "                      SessionId      ItemId           Time  Rating  \\\n",
       "0  AGGZ357AO26RQZVRLGU4D4N52DZQ  B013488XFS  1440385637000     5.0   \n",
       "1  AGKASBHYZPGTEPO6LWZPVJWB2BVA  B00CB6VTDS  1461100610000     5.0   \n",
       "2  AG2L7H23R5LLKDKLBEF2Q3L2MVDA  B096Z8Z3R6  1646271834582     3.0   \n",
       "3  AG2L7H23R5LLKDKLBEF2Q3L2MVDA  B09M14D9FZ  1645937761864     4.0   \n",
       "4  AG2L7H23R5LLKDKLBEF2Q3L2MVDA  B001H1SVZC  1590639227074     5.0   \n",
       "\n",
       "                                                                                                                                                                                                                                                                                                                                                                                                              Text  \n",
       "0                                                                                                                                                                                                                                                                                                                                                                         Amazon, please buy the show! I'm hooked!  \n",
       "1                                                                                                                                                                                                                                                                                                                                                                                       My Kiddos LOVE this show!!  \n",
       "2  Annabella Sciorra did her character justice with her portrayal of a mentally ill, depressed and traumatized individual who projects much of her inner wounds onto others. The challenges she faces with her father were sensitively portrayed and resonate with understanding and love. The ending really isn't an ending, though and feels like it was abandoned with not enough of a closure but other tha...  \n",
       "3  ...there should be more of a range of characters with high-functioning autism, too. Jack is the closest representation but also falls on the more severe scale, socially. I love that the storyline of some episodes tie in heartwarming, moving moments which depict the struggles often faced by those on the spectrum. This show definitely has a ton of potential and I hope future seasons bring in mor...  \n",
       "4      ...isn't always how you expect it to be, but when its there, you know. That is what this movie is all about. Deep struggles within a broken home and a mother with an addiction and a best friend whom nobody else seems to understand but him. There's loss, there's triumph. There's a bit of magic with a psychic neighbor who makes quite an impact on the boy. This is one definitely worth your time.  "
      ]
     },
     "execution_count": 11,
     "metadata": {},
     "output_type": "execute_result"
    }
   ],
   "source": [
    "sessions = []\n",
    "items = []\n",
    "timestamp = [] \n",
    "rating = []\n",
    "text = []\n",
    "\n",
    "with open(\"Dataset/amazon-tv/Movies_and_TV.jsonl\") as f: \n",
    "    for l in f:\n",
    "        interaction = json.loads(l.strip())\n",
    "        sessions.append(interaction[\"user_id\"])\n",
    "        items.append(interaction[\"parent_asin\"])\n",
    "        timestamp.append(interaction[\"timestamp\"])\n",
    "        rating.append(interaction[\"rating\"])\n",
    "        text.append(interaction[\"text\"])\n",
    "\n",
    "raw_session_df = pd.DataFrame({\"SessionId\": sessions, \"ItemId\": items, \"Time\": timestamp, \"Rating\": rating, \"Text\": text})\n",
    "raw_session_df.head()"
   ]
  },
  {
   "cell_type": "code",
   "execution_count": 13,
   "metadata": {},
   "outputs": [],
   "source": [
    "# Save csv to Dataset folder\n",
    "raw_session_df.to_csv(\"Dataset/amazon-tv/langptune/amazon_tv_raw.csv\", index=False)"
   ]
  },
  {
   "cell_type": "code",
   "execution_count": 3,
   "metadata": {},
   "outputs": [],
   "source": [
    "raw_session_df = pd.read_csv(\"Dataset/amazon-tv/langptune/amazon_tv_raw.csv\")"
   ]
  },
  {
   "cell_type": "code",
   "execution_count": 5,
   "metadata": {},
   "outputs": [
    {
     "data": {
      "image/png": "[encoded data removed]",
      "text/plain": [
       "<Figure size 640x480 with 1 Axes>"
      ]
     },
     "metadata": {},
     "output_type": "display_data"
    }
   ],
   "source": [
    "# plt.yscale('log')\n",
    "plt.xlabel('session length')\n",
    "plt.ylabel('count')\n",
    "plt.hist(list(dict(raw_session_df[\"SessionId\"].value_counts()).values()), bins=np.arange(1, 200))\n",
    "plt.show()"
   ]
  },
  {
   "cell_type": "markdown",
   "metadata": {},
   "source": [
    "#### Load Metadata"
   ]
  },
  {
   "cell_type": "code",
   "execution_count": 6,
   "metadata": {},
   "outputs": [],
   "source": [
    "descriptions = []\n",
    "items = []\n",
    "categories = []\n",
    "titles = []\n",
    "prices = []\n",
    "details = []\n",
    "average_rating = []\n",
    "\n",
    "with open(\"Dataset/amazon-tv/meta_Movies_and_TV.jsonl\") as f:\n",
    "    for l in f:\n",
    "        item = json.loads(l.strip())\n",
    "\n",
    "        if item['title'] == None:\n",
    "            continue\n",
    "\n",
    "        titles.append(str(item['title']))\n",
    "\n",
    "        try:\n",
    "            descriptions.append(' '.join(item['description']))\n",
    "        except:\n",
    "            descriptions.append('None')\n",
    "\n",
    "        items.append(item['parent_asin'])\n",
    "\n",
    "        if item['categories'] == None:\n",
    "            categories.append('None')\n",
    "        else:\n",
    "            categories.append(', '.join(item['categories']))\n",
    "\n",
    "        prices.append(str(item['price']))\n",
    "        details.append(item['details'])\n",
    "        average_rating.append(item['average_rating'])"
   ]
  },
  {
   "cell_type": "code",
   "execution_count": 7,
   "metadata": {},
   "outputs": [
    {
     "data": {
      "application/vnd.microsoft.datawrangler.viewer.v0+json": {
       "columns": [
        {
         "name": "index",
         "rawType": "int64",
         "type": "integer"
        },
        {
         "name": "ItemId",
         "rawType": "object",
         "type": "string"
        },
        {
         "name": "Title",
         "rawType": "object",
         "type": "string"
        },
        {
         "name": "Description",
         "rawType": "object",
         "type": "string"
        },
        {
         "name": "Category",
         "rawType": "object",
         "type": "string"
        },
        {
         "name": "price",
         "rawType": "object",
         "type": "string"
        },
        {
         "name": "details",
         "rawType": "object",
         "type": "unknown"
        },
        {
         "name": "average_rating",
         "rawType": "float64",
         "type": "float"
        }
       ],
       "ref": "d78e56cf-0c98-4ee3-b1ab-040edf0f3d94",
       "rows": [
        [
         "0",
         "B00ABWKL3I",
         "Glee",
         "Entering its fourth season, this year the members of New Directions compete amongst themselves to be the \"new Rachel\" and hold auditions to find new students. Meanwhile, the graduating class leaves the comforts of McKinley where Rachel struggles to please her demanding NYADA teacher (Kate Hudson) and Kurt second-guesses his decision to stay in Lima. Four newcomers also join the musical comedy.",
         "Comedy, Drama, Arts, Entertainment, and Culture, Music Videos and Concerts",
         "22.39",
         "{'Content advisory': ['Violence', 'substance use', 'alcohol use', 'smoking', 'foul language', 'sexual content'], 'Audio languages': ['English'], 'Subtitles': ['English [CC]'], 'Directors': ['Bradley Buecker', 'Brad Falchuk', 'Eric Stoltz', 'Paris Barclay', 'Ian Brennan', 'Ryan Murphy', 'Alfonso Gomez-Rejon', 'Elodie Keene', 'Adam Shankman', 'Paul McCrane']}",
         "4.7"
        ],
        [
         "1",
         "B09WDLJ4HP",
         "One Perfect Wedding",
         "With her book tour in two weeks and his expanding business plans, Cara and Ben put their long engagement behind them and book the chalet for a small wedding with friends and family. Starring Taylor Cole and Jack Turner.",
         "Comedy, Drama, Romance",
         "None",
         "{'Audio languages': ['English'], 'Subtitles': ['English [CC]'], 'Directors': ['Gary Yates'], 'Producers': ['Anthony Fankhauser', 'Graem Luis', 'Melinda Wells McCabe', 'Emily Merlin', 'Stan Spry', 'Eric Scott Woods']}",
         "3.0"
        ],
        [
         "2",
         "B00AHN851G",
         "How to Make Animatronic Characters - Organic Mechanics Part 2",
         "Product Description In PART TWO of this incredible journey through the world of animatronics, the master of The Character Shop, Rick Lazzarini, not only builds upon the lessons he introduced in Part One, but also shares a host of additional mechanical techniques, as he continues with the construction of his lifelike puma. Here, Rick creates expressiveness in his animatronic creature by focusing on the movement of the jaw and the snarl of the lips. By the end, the range of emotion on display by the sum of these parts is truly amazing. WEBCOURSE HIGHLIGHTS Prepping & setting teeth into the vacuform skull Prepping & setting teeth into the vacuform skull Overview of cables, liners & housings Overview of cables, liners & housings Mounting & moving the jaw Mounting & moving the jaw Snarl of both the upper & lower lips Snarl of both the upper & lower lips Programming & troubleshooting ranges of motion Programming & troubleshooting ranges of motion About the Actor Rick makes creatures, animals, robots, and crazy things for a living. Steven Spielberg has called him a \"genius\". To his FACE! John Candy laughed at his jokes during the filming of SPACEBALLS, and Mel Brooks even cast him as both Pizza the Hut and a horseback riding chimp for the film's end sequence. Rick has thrown up on Charlie Sheen's boat. Guillermo Del Toro told him he makes the \"most realistic blood I've ever seen.\" Jim Cameron shared a banana with him once. In a limo. Rick brings the skills and technologies of prosthetics, animatronics and puppetry together to make a world of incredible beings. Rick's amazing work has been featured in such films as PIRATES OF THE CARRIBEAN: ON STRANGER TIDES, SNAKES ON A PLANE, WILLARD, BIG TROUBLE, MIMIC, DUDE, WHERE'S MY CAR, CASPER, OUTBREAK, THE SANTA CLAUSE, HOCUS POCUS, GHOSTBUSTERS II, SPACEBALLS and many more. He's known for creating the running Facehugger mechanism, and inner Queen Alien animatronics for the Oscar-Winning ALIENS while working for Stan Winston Studio. Few can match the quality or quantity of memorable, iconic creatures and characters he's created for major feature films, and hundreds of television commercials that are recognized worldwide, such as the Foster Farms Chickens, an animatronic Alligator for Verizon, and others. Lazzarini has built and puppeteered creations from a miniature six inch replica of Julia Roberts as Tinkerbell for HOOK, to life- sized elephants for OPERATION: DUMBO DROP, all the way up to a beautiful 20 foot tall marionette for Mayflower Moving. The menagerie of animatronic animals in residence at Lazzarini's Character Shop include a gigantic raven, scores of snakes, a realistic puma, a trio of hyenas, several chickens, a sheep, turtles, apes, rats, a chipmunk, a water buffalo, and two dolphins ready to take a road trip. He's created Buzzards, Frogs, Dogs, Aliens, Anteaters, Tortoises, Lobsters, and so many more for Commercial clients such as Ford, Chevy, Coca Cola, McDonald's, Cheerios, Budweiser, Sony, Duracell...and the list just goes on and on. Rick had an early love of comic books and apes, behind-the-scenes revelations about PLANET OF THE APES, making Super 8 Movies with ambitious yet adorably amateur effects, and being a super-geek. Combined with tenacity, persistence, and hard work (and even a little bit of talent) this developed into a life-long passion for animatronics and effects. A graduate of Loyola Marymount University, Rick got his start at prop houses and working at Makeup Effects Labs, John Dykstra's Apogee, Richard Edlund's Boss Films, and Stan Winston Studio. He opened up his own studio, The Character Shop, in 1986, and has been an industry leader from the start. Lazzarini can sculpt, make molds, research and develop in the lab, come up with incredible animatronic designs and mechanisms, and then bring his characters to life with virtuoso puppeteering skills. He is one of the top Creature Makers in Hollywood and he's always innovating, always looking for a new or more clever way to make something. Rick s forte is putting together great crews, then challenging himself and his crew to fulfill their potential. Under his tutelage, Rick's team is able to combine many disciplines to create incredibly lifelike and complex moving creatures. Rick is a man of honor who knows his stuff. He delivers the very best to his clients, on time and under budget. He has been a consultant to the medical community for which he was contracted to create lifelike surgical training models for Cedars Sinai. He is an excellent teacher, having taught courses at UCLA, AFI and USC. He heads his own Animatronics Institute, giving hands on lessons to eager students in animatronic creature design and creation. And he is honored to share his knowledge and expertise with you. About the Director ONLINE Special Effects Makeup and Creature Creation training by the world's finest artists and technicians. Stan Winston School of Character Arts is an educational media company dedicated to teaching the art and science of character creation. SWSCA is partnered with the majority of Hollywood's top effects artists and studios to develop, produce, and distribute ultra-high quality online Creature FX video tutorials teaching the innovative techniques and processes used to create cinema's most memorable characters. SWSCA's educational content is subscription-based and will cover the full spectrum of character effects, from traditional approaches to the state-of-the-art Hybrid Practical/Digital Approach that has become the cornerstone of today's box office hits. See more",
         "Movies & TV, Genre for Featured Categories, Special Interests",
         "64.99",
         "{'Package Dimensions': '7.52 x 5.31 x 0.71 inches; 3.84 Ounces', 'Director': 'Stan Winston School of Character Arts', 'Media Format': 'Multiple Formats, Dolby, NTSC, Widescreen', 'Run time': '4 hours and 18 minutes', 'Release date': 'August 19, 2012', 'Actors': 'Rick Lazzarini', 'Studio': 'Stan Winston School of Character Arts', 'Country of Origin': 'USA', 'Number of discs': '2'}",
         "5.0"
        ],
        [
         "3",
         "B01G9ILXXE",
         "Ode to Joy: Beethoven's Symphony No. 9",
         "This special Ode to Joy: Beethoven's Symphony No. 9 showcases this musical masterpiece in a rare television recording by the Vienna Chamber Orchestra with the Westminster Symphonic Choir, under the direction of conductor Mark Laycock.",
         "Documentary",
         "5.99",
         "{'Audio languages': ['English'], 'Subtitles': ['English [CC]'], 'Directors': ['Karen McLaughlin'], 'Producers': ['Eric Schultz', 'Susan Wallner']}",
         "4.3"
        ],
        [
         "4",
         "B009SIYXDA",
         "Ben 10: Alien Force (Classic)",
         "Itâ€™s hero time again for Ben as he saves the Earth from Vilgaxâ€™s power. This season, Ben, Gwen and Kevin go head-to-head with repo men, bounty hunters and a charming long, lost villain. Ben winds up lending a hand to a popcorn-munching alien and Julie (literally!). If Ben can keep the Omnitrix under control, he might stand a chance at saving Grandpa Max once and for all.",
         "Science Fiction, Comedy, Animation, Drama",
         "24.49",
         "{'Audio languages': ['English'], 'Subtitles': ['English [CC]'], 'Directors': ['Dan Riba', 'Butch Lukic', 'John Fang', 'Rick Morales'], 'Producers': ['Dwayne McDuffie', 'Donna Smith', 'Glen Murakami', 'Brian A. Miller', 'Jennifer Pelphrey', 'Sam Register']}",
         "4.7"
        ]
       ],
       "shape": {
        "columns": 7,
        "rows": 5
       }
      },
      "text/html": [
       "<div>\n",
       "<style scoped>\n",
       "    .dataframe tbody tr th:only-of-type {\n",
       "        vertical-align: middle;\n",
       "    }\n",
       "\n",
       "    .dataframe tbody tr th {\n",
       "        vertical-align: top;\n",
       "    }\n",
       "\n",
       "    .dataframe thead th {\n",
       "        text-align: right;\n",
       "    }\n",
       "</style>\n",
       "<table border=\"1\" class=\"dataframe\">\n",
       "  <thead>\n",
       "    <tr style=\"text-align: right;\">\n",
       "      <th></th>\n",
       "      <th>ItemId</th>\n",
       "      <th>Title</th>\n",
       "      <th>Description</th>\n",
       "      <th>Category</th>\n",
       "      <th>price</th>\n",
       "      <th>details</th>\n",
       "      <th>average_rating</th>\n",
       "    </tr>\n",
       "  </thead>\n",
       "  <tbody>\n",
       "    <tr>\n",
       "      <th>0</th>\n",
       "      <td>B00ABWKL3I</td>\n",
       "      <td>Glee</td>\n",
       "      <td>Entering its fourth season, this year the members of New Directions compete amongst themselves to be the \"new Rachel\" and hold auditions to find new students. Meanwhile, the graduating class leaves the comforts of McKinley where Rachel struggles to please her demanding NYADA teacher (Kate Hudson) and Kurt second-guesses his decision to stay in Lima. Four newcomers also join the musical comedy.</td>\n",
       "      <td>Comedy, Drama, Arts, Entertainment, and Culture, Music Videos and Concerts</td>\n",
       "      <td>22.39</td>\n",
       "      <td>{'Content advisory': ['Violence', 'substance use', 'alcohol use', 'smoking', 'foul language', 'sexual content'], 'Audio languages': ['English'], 'Subtitles': ['English [CC]'], 'Directors': ['Bradley Buecker', 'Brad Falchuk', 'Eric Stoltz', 'Paris Barclay', 'Ian Brennan', 'Ryan Murphy', 'Alfonso Gomez-Rejon', 'Elodie Keene', 'Adam Shankman', 'Paul McCrane']}</td>\n",
       "      <td>4.7</td>\n",
       "    </tr>\n",
       "    <tr>\n",
       "      <th>1</th>\n",
       "      <td>B09WDLJ4HP</td>\n",
       "      <td>One Perfect Wedding</td>\n",
       "      <td>With her book tour in two weeks and his expanding business plans, Cara and Ben put their long engagement behind them and book the chalet for a small wedding with friends and family. Starring Taylor Cole and Jack Turner.</td>\n",
       "      <td>Comedy, Drama, Romance</td>\n",
       "      <td>None</td>\n",
       "      <td>{'Audio languages': ['English'], 'Subtitles': ['English [CC]'], 'Directors': ['Gary Yates'], 'Producers': ['Anthony Fankhauser', 'Graem Luis', 'Melinda Wells McCabe', 'Emily Merlin', 'Stan Spry', 'Eric Scott Woods']}</td>\n",
       "      <td>3.0</td>\n",
       "    </tr>\n",
       "    <tr>\n",
       "      <th>2</th>\n",
       "      <td>B00AHN851G</td>\n",
       "      <td>How to Make Animatronic Characters - Organic Mechanics Part 2</td>\n",
       "      <td>Product Description In PART TWO of this incredible journey through the world of animatronics, the master of The Character Shop, Rick Lazzarini, not only builds upon the lessons he introduced in Part One, but also shares a host of additional mechanical techniques, as he continues with the construction of his lifelike puma. Here, Rick creates expressiveness in his animatronic creature by focusin...</td>\n",
       "      <td>Movies &amp; TV, Genre for Featured Categories, Special Interests</td>\n",
       "      <td>64.99</td>\n",
       "      <td>{'Package Dimensions': '7.52 x 5.31 x 0.71 inches; 3.84 Ounces', 'Director': 'Stan Winston School of Character Arts', 'Media Format': 'Multiple Formats, Dolby, NTSC, Widescreen', 'Run time': '4 hours and 18 minutes', 'Release date': 'August 19, 2012', 'Actors': 'Rick Lazzarini', 'Studio': 'Stan Winston School of Character Arts', 'Country of Origin': 'USA', 'Number of discs': '2'}</td>\n",
       "      <td>5.0</td>\n",
       "    </tr>\n",
       "    <tr>\n",
       "      <th>3</th>\n",
       "      <td>B01G9ILXXE</td>\n",
       "      <td>Ode to Joy: Beethoven's Symphony No. 9</td>\n",
       "      <td>This special Ode to Joy: Beethoven's Symphony No. 9 showcases this musical masterpiece in a rare television recording by the Vienna Chamber Orchestra with the Westminster Symphonic Choir, under the direction of conductor Mark Laycock.</td>\n",
       "      <td>Documentary</td>\n",
       "      <td>5.99</td>\n",
       "      <td>{'Audio languages': ['English'], 'Subtitles': ['English [CC]'], 'Directors': ['Karen McLaughlin'], 'Producers': ['Eric Schultz', 'Susan Wallner']}</td>\n",
       "      <td>4.3</td>\n",
       "    </tr>\n",
       "    <tr>\n",
       "      <th>4</th>\n",
       "      <td>B009SIYXDA</td>\n",
       "      <td>Ben 10: Alien Force (Classic)</td>\n",
       "      <td>Itâ€™s hero time again for Ben as he saves the Earth from Vilgaxâ€™s power. This season, Ben, Gwen and Kevin go head-to-head with repo men, bounty hunters and a charming long, lost villain. Ben winds up lending a hand to a popcorn-munching alien and Julie (literally!). If Ben can keep the Omnitrix under control, he might stand a chance at saving Grandpa Max once and for all.</td>\n",
       "      <td>Science Fiction, Comedy, Animation, Drama</td>\n",
       "      <td>24.49</td>\n",
       "      <td>{'Audio languages': ['English'], 'Subtitles': ['English [CC]'], 'Directors': ['Dan Riba', 'Butch Lukic', 'John Fang', 'Rick Morales'], 'Producers': ['Dwayne McDuffie', 'Donna Smith', 'Glen Murakami', 'Brian A. Miller', 'Jennifer Pelphrey', 'Sam Register']}</td>\n",
       "      <td>4.7</td>\n",
       "    </tr>\n",
       "  </tbody>\n",
       "</table>\n",
       "</div>"
      ],
      "text/plain": [
       "       ItemId                                                          Title  \\\n",
       "0  B00ABWKL3I                                                           Glee   \n",
       "1  B09WDLJ4HP                                            One Perfect Wedding   \n",
       "2  B00AHN851G  How to Make Animatronic Characters - Organic Mechanics Part 2   \n",
       "3  B01G9ILXXE                         Ode to Joy: Beethoven's Symphony No. 9   \n",
       "4  B009SIYXDA                                  Ben 10: Alien Force (Classic)   \n",
       "\n",
       "                                                                                                                                                                                                                                                                                                                                                                                                       Description  \\\n",
       "0     Entering its fourth season, this year the members of New Directions compete amongst themselves to be the \"new Rachel\" and hold auditions to find new students. Meanwhile, the graduating class leaves the comforts of McKinley where Rachel struggles to please her demanding NYADA teacher (Kate Hudson) and Kurt second-guesses his decision to stay in Lima. Four newcomers also join the musical comedy.   \n",
       "1                                                                                                                                                                                      With her book tour in two weeks and his expanding business plans, Cara and Ben put their long engagement behind them and book the chalet for a small wedding with friends and family. Starring Taylor Cole and Jack Turner.   \n",
       "2  Product Description In PART TWO of this incredible journey through the world of animatronics, the master of The Character Shop, Rick Lazzarini, not only builds upon the lessons he introduced in Part One, but also shares a host of additional mechanical techniques, as he continues with the construction of his lifelike puma. Here, Rick creates expressiveness in his animatronic creature by focusin...   \n",
       "3                                                                                                                                                                       This special Ode to Joy: Beethoven's Symphony No. 9 showcases this musical masterpiece in a rare television recording by the Vienna Chamber Orchestra with the Westminster Symphonic Choir, under the direction of conductor Mark Laycock.   \n",
       "4                        Itâ€™s hero time again for Ben as he saves the Earth from Vilgaxâ€™s power. This season, Ben, Gwen and Kevin go head-to-head with repo men, bounty hunters and a charming long, lost villain. Ben winds up lending a hand to a popcorn-munching alien and Julie (literally!). If Ben can keep the Omnitrix under control, he might stand a chance at saving Grandpa Max once and for all.   \n",
       "\n",
       "                                                                     Category  \\\n",
       "0  Comedy, Drama, Arts, Entertainment, and Culture, Music Videos and Concerts   \n",
       "1                                                      Comedy, Drama, Romance   \n",
       "2               Movies & TV, Genre for Featured Categories, Special Interests   \n",
       "3                                                                 Documentary   \n",
       "4                                   Science Fiction, Comedy, Animation, Drama   \n",
       "\n",
       "   price  \\\n",
       "0  22.39   \n",
       "1   None   \n",
       "2  64.99   \n",
       "3   5.99   \n",
       "4  24.49   \n",
       "\n",
       "                                                                                                                                                                                                                                                                                                                                                                                          details  \\\n",
       "0                         {'Content advisory': ['Violence', 'substance use', 'alcohol use', 'smoking', 'foul language', 'sexual content'], 'Audio languages': ['English'], 'Subtitles': ['English [CC]'], 'Directors': ['Bradley Buecker', 'Brad Falchuk', 'Eric Stoltz', 'Paris Barclay', 'Ian Brennan', 'Ryan Murphy', 'Alfonso Gomez-Rejon', 'Elodie Keene', 'Adam Shankman', 'Paul McCrane']}   \n",
       "1                                                                                                                                                                        {'Audio languages': ['English'], 'Subtitles': ['English [CC]'], 'Directors': ['Gary Yates'], 'Producers': ['Anthony Fankhauser', 'Graem Luis', 'Melinda Wells McCabe', 'Emily Merlin', 'Stan Spry', 'Eric Scott Woods']}   \n",
       "2  {'Package Dimensions': '7.52 x 5.31 x 0.71 inches; 3.84 Ounces', 'Director': 'Stan Winston School of Character Arts', 'Media Format': 'Multiple Formats, Dolby, NTSC, Widescreen', 'Run time': '4 hours and 18 minutes', 'Release date': 'August 19, 2012', 'Actors': 'Rick Lazzarini', 'Studio': 'Stan Winston School of Character Arts', 'Country of Origin': 'USA', 'Number of discs': '2'}   \n",
       "3                                                                                                                                                                                                                                              {'Audio languages': ['English'], 'Subtitles': ['English [CC]'], 'Directors': ['Karen McLaughlin'], 'Producers': ['Eric Schultz', 'Susan Wallner']}   \n",
       "4                                                                                                                                {'Audio languages': ['English'], 'Subtitles': ['English [CC]'], 'Directors': ['Dan Riba', 'Butch Lukic', 'John Fang', 'Rick Morales'], 'Producers': ['Dwayne McDuffie', 'Donna Smith', 'Glen Murakami', 'Brian A. Miller', 'Jennifer Pelphrey', 'Sam Register']}   \n",
       "\n",
       "   average_rating  \n",
       "0             4.7  \n",
       "1             3.0  \n",
       "2             5.0  \n",
       "3             4.3  \n",
       "4             4.7  "
      ]
     },
     "execution_count": 7,
     "metadata": {},
     "output_type": "execute_result"
    }
   ],
   "source": [
    "item_des_dict = {}\n",
    "for i in range(len(items)):\n",
    "    assert items[i] not in item_des_dict\n",
    "    item_des_dict[items[i]] = {\"Title\": titles[i], \"Description\": descriptions[i], \"Category\": categories[i], \"price\": prices[i], \"details\": details[i], \"average_rating\": average_rating[i]}\n",
    "\n",
    "raw_item_des_df = pd.DataFrame({\"ItemId\": items, \"Title\": titles, \"Description\": descriptions, \"Category\": categories, \"price\": prices, \"details\": details, \"average_rating\": average_rating})\n",
    "raw_item_des_df.head()"
   ]
  },
  {
   "cell_type": "code",
   "execution_count": 8,
   "metadata": {},
   "outputs": [
    {
     "data": {
      "image/png": "[encoded data removed]",
      "text/plain": [
       "<Figure size 640x480 with 1 Axes>"
      ]
     },
     "metadata": {},
     "output_type": "display_data"
    }
   ],
   "source": [
    "word_counts = []\n",
    "for index, row in raw_item_des_df.iterrows():\n",
    "    d = row['Description']\n",
    "    word_counts.append(len(d.split()))\n",
    "\n",
    "plt.clf()\n",
    "# plt.yscale('log')\n",
    "plt.xlabel('description length')\n",
    "plt.ylabel('count')\n",
    "plt.hist(word_counts, bins=np.arange(0, 500))\n",
    "plt.show()"
   ]
  },
  {
   "cell_type": "markdown",
   "metadata": {},
   "source": [
    "# Process Reviews"
   ]
  },
  {
   "cell_type": "code",
   "execution_count": 9,
   "metadata": {},
   "outputs": [
    {
     "name": "stdout",
     "output_type": "stream",
     "text": [
      "Drop ratio:  0.543655834029785\n",
      "Length before drop:  17328314\n",
      "Length after drop:  7907675\n",
      "                      SessionId      ItemId           Time  Rating  \\\n",
      "0  AGGZ357AO26RQZVRLGU4D4N52DZQ  B013488XFS  1440385637000     5.0   \n",
      "1  AGKASBHYZPGTEPO6LWZPVJWB2BVA  B00CB6VTDS  1461100610000     5.0   \n",
      "2  AGCI7FAH4GL5FI65HYLKWTMFZ2CQ  B01BZ4DOGQ  1493616276000     5.0   \n",
      "3  AGXVBIUFLFGMVLATYXHJYL4A5Q7Q  B0002J58ME  1146713492000     5.0   \n",
      "4  AHITBJSS7KYUBVZPX7M2WJCOIVKQ  B079FLYB41  1560014052867     5.0   \n",
      "\n",
      "                                                                                                                                                                                                                                                                                                                                                                                                              Text  \n",
      "0                                                                                                                                                                                                                                                                                                                                                                         Amazon, please buy the show! I'm hooked!  \n",
      "1                                                                                                                                                                                                                                                                                                                                                                                       My Kiddos LOVE this show!!  \n",
      "2                                                                                                                                                                                                                                                                                                                                       Great film all around. Some films about Jesus can be rough. This is legit.  \n",
      "3  This DVD was GREAT!  I am a stay at home mom who is totally out of shape.  I don't have alot of time for myself & this workout DVD fits the bill.  It has 5 different 10 minute workouts that you can do each individually or 2, 3, 4 or all 5 at one time.  The menu gives you the option of personalizing your workout to do how little or how many workouts.  Plus it targets 5 different areas of your b...  \n",
      "4                                                                                                                                                                                                                                                                                                                                                                                         Awesome movie! Must see.  \n"
     ]
    }
   ],
   "source": [
    "# filter reviews with items that are not in the meta description file\n",
    "drop_idx = []\n",
    "for i in range(len(raw_session_df[\"ItemId\"])):\n",
    "    if raw_session_df[\"ItemId\"][i] not in item_des_dict:\n",
    "        drop_idx.append(i)\n",
    "\n",
    "print(\"Drop ratio: \", len(drop_idx)/len(raw_session_df))\n",
    "print(\"Length before drop: \", len(raw_session_df))\n",
    "raw_session_df = raw_session_df.drop(drop_idx).reset_index(drop=True)\n",
    "print(\"Length after drop: \", len(raw_session_df))\n",
    "print(raw_session_df.head())"
   ]
  },
  {
   "cell_type": "code",
   "execution_count": 10,
   "metadata": {},
   "outputs": [
    {
     "name": "stdout",
     "output_type": "stream",
     "text": [
      "Iteration \n",
      "Iteration \n",
      "Iteration \n",
      "Iteration \n",
      "Iteration \n",
      "Iteration \n",
      "Iteration \n",
      "Number of sessions: 238405\n",
      "Number of items: 106391\n"
     ]
    },
    {
     "data": {
      "application/vnd.microsoft.datawrangler.viewer.v0+json": {
       "columns": [
        {
         "name": "index",
         "rawType": "int64",
         "type": "integer"
        },
        {
         "name": "SessionId",
         "rawType": "object",
         "type": "string"
        },
        {
         "name": "ItemId",
         "rawType": "object",
         "type": "string"
        },
        {
         "name": "Time",
         "rawType": "int64",
         "type": "integer"
        },
        {
         "name": "Rating",
         "rawType": "float64",
         "type": "float"
        },
        {
         "name": "Text",
         "rawType": "object",
         "type": "string"
        }
       ],
       "ref": "dd50f66a-adf9-4815-915f-055892b6afc2",
       "rows": [
        [
         "3321942",
         "AGNELUVI3HO2U62UADN6ZDEEQWIA",
         "6300181553",
         "883582160000",
         "5.0",
         "This is one of the finest holiday films ever made.<br />Inspired by a story by Irving Berlin, the film features many wonderful Berlin holiday tunes, from &quot;White Christmas&quot; to &quot;Easter Parade&quot;. This is the film that introduced &quot;White Christmas&quot;, Bing Crosby's signature song (which was almost cut from the final version!).<br />Holiday hijinks ensue when Jim Hardy (Bing Crosby), decides that he's had enough of show business and chooses to retire to a farm in Connecticut. His pal and partner Ted Hanover (Fred Astaire) steals his gal Lyla at the last minute, so Jim takes up the life of a farmer on his own. Unfortunately for Jim, the farm life drives him nuts. He decides to turn the farm into an inn, where he can do entertainment shows for every holiday. The result is Holiday Inn, &quot;open holidays only&quot;.<br />Jim meets and falls in love with Linda Mason (Marjorie Reynolds), a fellow entertainer, and she helps out with the shows.<br />Things are looking up for Jim, but about this time, Ted's girl Lyla leaves him. Heartbroken (and crocked), Ted shows up at Holiday Inn on New Year's Eve and does a new dance number with Linda. It looks like he's found himself a new dance partner. Trouble is, he was so drunk, he can't remember who she is! Jim knows if Ted hooks up with Linda, he'll take her away from the Inn (and him!), so Jim begins some comedic conniving to keep Ted and Linda from meeting up. But poor Jim isn't out of the stewpot yet!<br />Walter Abel turns in a wonderful supporting perfomance as a scheming talent agent, and Irving Bacon is the quintissential New Englander as Gus the handyman. Fred does an inspired July Fourth dance routine, and Bing is in fine voice.<br />Holiday Inn has it all. Romance, laughter, crooning, catchy Irving Berlin tunes, and Bing and Fred at their best! We also get a sneak peek at the soundstage and set for Holiday Inn, as a Hollywood crew make a movie within the movie! A Christmas classic you're sure to love, not only at Christmastime, but at any time of the year.<br />If you need a lift, then come to Holiday Inn!"
        ],
        [
         "3219182",
         "AGGIKKF5GCB5MZLCUJ364EMPFNTQ",
         "6302098475",
         "883861394000",
         "4.0",
         "This verison (which was first made as a theatrical film for European cinema, then shown on FOX TV, and then shortened for video by about forty minutes) stars Patrick Bergin as the outlawed Earl of Huntington (portrayed with some touches of humor and plenty of physical action and presence); Uma Thurman as a very independent Lady Marian; Jeroen Krabbe as the Norman lord who was once Robin's friend but must now hunt him down; and Jurgen Prochnow as an extremely pouty and self-important Guy of Guisbourne.  This version does not attempt to clean up the legend of Robin Hood (as in some previous versions), but instead reveals it in all its down-and-dirtiness, especially when showing all the opression that Robin is fighting against.  If it could be released in its full length, this would be a must for any collection, but even in its shortened state it's well worth seeing.  END"
        ],
        [
         "6870182",
         "AEYKLLDB3WOTU25O2PMRFVE6I3IA",
         "0800184319",
         "890780757000",
         "5.0",
         "After I saw this movie it instantly became one of my all time favorites.  After reading  the novel by Lois Duncan I felt that it may have deviated from the original story a bit too much.  Nevertheless, Jennifer Love Hewitt gave an incredible performance.  I do feel though that too  many characters got killed in it.  Should have kept some for the sequal.  END"
        ],
        [
         "6674907",
         "AHIESZVUWCPHZC7QEANXAI5OCGBA",
         "6302484502",
         "891105363000",
         "4.0",
         "Any film directed by Orson Welles is engrossing and worth the time.  MACBETH is no exception.  For those of you familiar with the 1971 Roman Polanski version, Welles  brought to the screen a darker, more nightmarish world than Polanski could envision.  The lighting is stark and the shadows ominous.  Macbeth's madness increasingly pervades the atmosphere of the entire film, making the viewer unwilling to view this film with the lights out.  The restored version presents Welles's original conception; the actors speak their lines with authentic Scottish burrs (Welles was forced to redo the soundtrack by the studio brass).  A fascinating journey and imaginative interpretation of Shakespeare, Welles's MACBETH remains a major additon to American cinema and reveals the classical literary talents of one of the US's greatest visual artists.  END"
        ],
        [
         "2914409",
         "AF4OM67Q62MWNQEL7TPEYBRLSUUA",
         "6303567126",
         "891124916000",
         "5.0",
         "If Leonardo diCaprio had not already made this film, he would be cast immediately for the role of lifetime. Mr. diCaprio's performance as the lanky, audacious, and attitude-heavy high school basketball player whose descent into heroin-hell is the true story of the author, Jim Carroll, can only be described as superb. As often as diCaprio is cited for his Titanic performance, &quot;Basketball Diaries&quot; is one for his resume of fine, solid performances. With cameras in streets of lower Manhattan, the junkie life of a street urchin is neither fun nor games, it is pathos and crime. Teens who flock to diCaprio films should see &quot;Basketball Diaries&quot; as a point of information. When the glamorous veneer of heroin and cocaine wears off, all that is left is the sight of diCaprio -- frothing at the mouth, twisting, and screaming in pain as the cold turkey rehabilitation program of friend, Ernie Hudson takes over his body. Most young girls, the rabid diCaprio fans, would find this scene too realistic and too ugly. But that is what the author intended. In a too brief cameo appearance, Carroll's words are at times glorious poems of haiku grace, but his own speed rap about his memories of a Catholic ceremony is a monologue chilling in its irony, for he is cooking up to fix while he speaks. Fine performances from the young supporting cast including a thuggish Marky Mark Walberg and a heart wrenching Lorraine Bracco as the mother who can do nothing for her son but call the police make &quot;Basketball Diaries&quot; worthy of everyone's attention. END"
        ],
        [
         "7452255",
         "AFMCLVQVJZKGFGIZHPZDP53SLPSA",
         "6301963636",
         "891637238000",
         "4.0",
         "In certain scenes, you can see the weariness in Errol Flynn's face. At times, the years of drinking and brawling and general misbehavior are shockingly apparent. Yet despite that, Flynn's portrayal of a jaded, world-weary -- but ultimately humorous and carefree -- Don Juan is a delight to watch. It was the last great swashbuckling film he would make, and the last in which any great care was taken by Warner Brothers to promote him as a major star.  END"
        ],
        [
         "7452252",
         "AFMCLVQVJZKGFGIZHPZDP53SLPSA",
         "6302120527",
         "891718786000",
         "5.0",
         "In his autobiography, Jack L. Warner said Errol Flynn's sudden rise to stardom was like a &quot;wildfire&quot; sweeping across the landscape. In &quot;Captain Blood,&quot; a 26-year-old Errol Flynn burst on the scene with drop-dead good looks, a knack for generating excitement, and one of the most powerful screen personas of any star in the history of film. This story of a doctor-turned-pirate is rousing entertainment from beginning to end, and represents a milestone for both Flynn and Warner Brothers. For Flynn, the movie made him an international star. For Warner Brothers, it gave them their first matinee idol and one of their biggest income-producers. &quot;Captain Blood&quot; also began the wonderful partnership of Flynn and Olivia DeHavilland, who would go on to make another six films together. NOTE: Beware of 99-minute versions of &quot;Captain Blood.&quot; At all costs, get the full, 119-minute version. It's like a whole different film.  END"
        ],
        [
         "7452251",
         "AFMCLVQVJZKGFGIZHPZDP53SLPSA",
         "6302682622",
         "891887185000",
         "5.0",
         "In real life, Errol Flynn was no pushover. Despite devastating good looks and a wickedly easygoing charm, he could hold his own in either a one-on-one fightfight or a barroom brawl. He was, in fact, one of the most feared fighters in Hollywood.<br />&quot;Gentleman Jim,&quot; the story of 19th century boxer James J. Corbett, gave Warner Brothers a chance to put their bad boy on display at his physical best -- exhibiting a lean, mean physique and an undeniable flair for ring work. His toothy grin, devil-may-care charm and boyish glee in a good fight all combined to make &quot;Gentleman Jim&quot; one of the 1940s' most compelling films, and one of Warner Brothers' biggest hits.<br />It is interesting to note that during the filming of &quot;Gentleman Jim,&quot; Flynn collapsed and was carted off to the hospital. He was diagnosed, at the ripe old age of 32, of having had a mild heart attack. His co-star in the film, Alexis Smith, visited him and begged him to slow down his destructive lifestyle. Flynn, she later said, flashed that beautiful smile of his and shook his head.<br />&quot;I enjoy this side of life,&quot; he told her, &quot;and don't care to see the other side.&quot;  END"
        ],
        [
         "7452250",
         "AFMCLVQVJZKGFGIZHPZDP53SLPSA",
         "6302120616",
         "892748741000",
         "5.0",
         "&quot;The Charge of the Light Brigade,&quot; which was released in 1936, was Errol Flynn's second starring role. Already an international sensation thanks to &quot;Captain Blood,&quot; Flynn shot to even higher levels of stardom with the release of this action-packed desert drama that co-starred Olivia DeHavilland.<br />Although the script is largely fictional -- Warner Brothers rarely let history stand in the way of a good story -- the film is exciting, beautifully photographed and well mounted. The final charge, in which Flynn leads the Light Brigade into the &quot;Valley of Death,&quot; is spine-tingling even to this day. Flynn is unbelievably handsome and dashing, DeHavilland is top notch as his love interest, and the entire cast makes &quot;The Charge of the Light Brigade&quot; a joy to watch.<br />As an interesting note, co-star David Niven wrote in his autobiography &quot;The Moon's a Balloon&quot; of a fistfight between Flynn and a huge, brawny extra on the set of &quot;The Charge of the Light Brigade.&quot; Flynn -- whom the extras thought was a spoiled pretty boy -- so severely thrashed the big extra that an ambulance came to take him to the hospital. After that, said Niven, Flynn was regarded with a newfound and healthy respect.  END"
        ],
        [
         "7452249",
         "AFMCLVQVJZKGFGIZHPZDP53SLPSA",
         "6302682606",
         "892833103000",
         "5.0",
         "&quot;The Edge of Darkness&quot; is one of the few movies made during World War II about World War II that holds up as more than just a propaganda piece. Warner Brothers pulled out all the stops with this intense and compelling drama about Norwegian villagers who rebel against their Nazi occupiers, giving the film a superior script, eye-popping camera work and a cast remarkable for its strength and versatility.<br />It may at first seem odd that Errol Flynn -- who gained stardom as the screen's premier swashbuckler -- was cast as a Norwegian fisherman/guerilla fighter. However, the wisdom of Warner Brothers in putting him in this role quickly becomes evident. His performance is restrained and believable, and he plays off the powerful ensemble cast with on-target accuracy.<br />&quot;The Edge of Darkness&quot; is a classic tale of good versus evil as only wartime Warner Brothers could have achieved it. The climactic uprising of villagers against their Nazi oppressors is enough to bring one to the edge of his seat and send chills of excitement dancing up his spine. This film is one of the best of its type, and shouldn't be missed.  END"
        ]
       ],
       "shape": {
        "columns": 5,
        "rows": 10
       }
      },
      "text/html": [
       "<div>\n",
       "<style scoped>\n",
       "    .dataframe tbody tr th:only-of-type {\n",
       "        vertical-align: middle;\n",
       "    }\n",
       "\n",
       "    .dataframe tbody tr th {\n",
       "        vertical-align: top;\n",
       "    }\n",
       "\n",
       "    .dataframe thead th {\n",
       "        text-align: right;\n",
       "    }\n",
       "</style>\n",
       "<table border=\"1\" class=\"dataframe\">\n",
       "  <thead>\n",
       "    <tr style=\"text-align: right;\">\n",
       "      <th></th>\n",
       "      <th>SessionId</th>\n",
       "      <th>ItemId</th>\n",
       "      <th>Time</th>\n",
       "      <th>Rating</th>\n",
       "      <th>Text</th>\n",
       "    </tr>\n",
       "  </thead>\n",
       "  <tbody>\n",
       "    <tr>\n",
       "      <th>3321942</th>\n",
       "      <td>AGNELUVI3HO2U62UADN6ZDEEQWIA</td>\n",
       "      <td>6300181553</td>\n",
       "      <td>883582160000</td>\n",
       "      <td>5.0</td>\n",
       "      <td>This is one of the finest holiday films ever made.&lt;br /&gt;Inspired by a story by Irving Berlin, the film features many wonderful Berlin holiday tunes, from &amp;quot;White Christmas&amp;quot; to &amp;quot;Easter Parade&amp;quot;. This is the film that introduced &amp;quot;White Christmas&amp;quot;, Bing Crosby's signature song (which was almost cut from the final version!).&lt;br /&gt;Holiday hijinks ensue when Jim Hardy (Bi...</td>\n",
       "    </tr>\n",
       "    <tr>\n",
       "      <th>3219182</th>\n",
       "      <td>AGGIKKF5GCB5MZLCUJ364EMPFNTQ</td>\n",
       "      <td>6302098475</td>\n",
       "      <td>883861394000</td>\n",
       "      <td>4.0</td>\n",
       "      <td>This verison (which was first made as a theatrical film for European cinema, then shown on FOX TV, and then shortened for video by about forty minutes) stars Patrick Bergin as the outlawed Earl of Huntington (portrayed with some touches of humor and plenty of physical action and presence); Uma Thurman as a very independent Lady Marian; Jeroen Krabbe as the Norman lord who was once Robin's frie...</td>\n",
       "    </tr>\n",
       "    <tr>\n",
       "      <th>6870182</th>\n",
       "      <td>AEYKLLDB3WOTU25O2PMRFVE6I3IA</td>\n",
       "      <td>0800184319</td>\n",
       "      <td>890780757000</td>\n",
       "      <td>5.0</td>\n",
       "      <td>After I saw this movie it instantly became one of my all time favorites.  After reading  the novel by Lois Duncan I felt that it may have deviated from the original story a bit too much.  Nevertheless, Jennifer Love Hewitt gave an incredible performance.  I do feel though that too  many characters got killed in it.  Should have kept some for the sequal.  END</td>\n",
       "    </tr>\n",
       "    <tr>\n",
       "      <th>6674907</th>\n",
       "      <td>AHIESZVUWCPHZC7QEANXAI5OCGBA</td>\n",
       "      <td>6302484502</td>\n",
       "      <td>891105363000</td>\n",
       "      <td>4.0</td>\n",
       "      <td>Any film directed by Orson Welles is engrossing and worth the time.  MACBETH is no exception.  For those of you familiar with the 1971 Roman Polanski version, Welles  brought to the screen a darker, more nightmarish world than Polanski could envision.  The lighting is stark and the shadows ominous.  Macbeth's madness increasingly pervades the atmosphere of the entire film, making the viewer un...</td>\n",
       "    </tr>\n",
       "    <tr>\n",
       "      <th>2914409</th>\n",
       "      <td>AF4OM67Q62MWNQEL7TPEYBRLSUUA</td>\n",
       "      <td>6303567126</td>\n",
       "      <td>891124916000</td>\n",
       "      <td>5.0</td>\n",
       "      <td>If Leonardo diCaprio had not already made this film, he would be cast immediately for the role of lifetime. Mr. diCaprio's performance as the lanky, audacious, and attitude-heavy high school basketball player whose descent into heroin-hell is the true story of the author, Jim Carroll, can only be described as superb. As often as diCaprio is cited for his Titanic performance, &amp;quot;Basketball D...</td>\n",
       "    </tr>\n",
       "    <tr>\n",
       "      <th>7452255</th>\n",
       "      <td>AFMCLVQVJZKGFGIZHPZDP53SLPSA</td>\n",
       "      <td>6301963636</td>\n",
       "      <td>891637238000</td>\n",
       "      <td>4.0</td>\n",
       "      <td>In certain scenes, you can see the weariness in Errol Flynn's face. At times, the years of drinking and brawling and general misbehavior are shockingly apparent. Yet despite that, Flynn's portrayal of a jaded, world-weary -- but ultimately humorous and carefree -- Don Juan is a delight to watch. It was the last great swashbuckling film he would make, and the last in which any great care was ta...</td>\n",
       "    </tr>\n",
       "    <tr>\n",
       "      <th>7452252</th>\n",
       "      <td>AFMCLVQVJZKGFGIZHPZDP53SLPSA</td>\n",
       "      <td>6302120527</td>\n",
       "      <td>891718786000</td>\n",
       "      <td>5.0</td>\n",
       "      <td>In his autobiography, Jack L. Warner said Errol Flynn's sudden rise to stardom was like a &amp;quot;wildfire&amp;quot; sweeping across the landscape. In &amp;quot;Captain Blood,&amp;quot; a 26-year-old Errol Flynn burst on the scene with drop-dead good looks, a knack for generating excitement, and one of the most powerful screen personas of any star in the history of film. This story of a doctor-turned-pirate...</td>\n",
       "    </tr>\n",
       "    <tr>\n",
       "      <th>7452251</th>\n",
       "      <td>AFMCLVQVJZKGFGIZHPZDP53SLPSA</td>\n",
       "      <td>6302682622</td>\n",
       "      <td>891887185000</td>\n",
       "      <td>5.0</td>\n",
       "      <td>In real life, Errol Flynn was no pushover. Despite devastating good looks and a wickedly easygoing charm, he could hold his own in either a one-on-one fightfight or a barroom brawl. He was, in fact, one of the most feared fighters in Hollywood.&lt;br /&gt;&amp;quot;Gentleman Jim,&amp;quot; the story of 19th century boxer James J. Corbett, gave Warner Brothers a chance to put their bad boy on display at his ...</td>\n",
       "    </tr>\n",
       "    <tr>\n",
       "      <th>7452250</th>\n",
       "      <td>AFMCLVQVJZKGFGIZHPZDP53SLPSA</td>\n",
       "      <td>6302120616</td>\n",
       "      <td>892748741000</td>\n",
       "      <td>5.0</td>\n",
       "      <td>&amp;quot;The Charge of the Light Brigade,&amp;quot; which was released in 1936, was Errol Flynn's second starring role. Already an international sensation thanks to &amp;quot;Captain Blood,&amp;quot; Flynn shot to even higher levels of stardom with the release of this action-packed desert drama that co-starred Olivia DeHavilland.&lt;br /&gt;Although the script is largely fictional -- Warner Brothers rarely let his...</td>\n",
       "    </tr>\n",
       "    <tr>\n",
       "      <th>7452249</th>\n",
       "      <td>AFMCLVQVJZKGFGIZHPZDP53SLPSA</td>\n",
       "      <td>6302682606</td>\n",
       "      <td>892833103000</td>\n",
       "      <td>5.0</td>\n",
       "      <td>&amp;quot;The Edge of Darkness&amp;quot; is one of the few movies made during World War II about World War II that holds up as more than just a propaganda piece. Warner Brothers pulled out all the stops with this intense and compelling drama about Norwegian villagers who rebel against their Nazi occupiers, giving the film a superior script, eye-popping camera work and a cast remarkable for its strengt...</td>\n",
       "    </tr>\n",
       "  </tbody>\n",
       "</table>\n",
       "</div>"
      ],
      "text/plain": [
       "                            SessionId      ItemId          Time  Rating  \\\n",
       "3321942  AGNELUVI3HO2U62UADN6ZDEEQWIA  6300181553  883582160000     5.0   \n",
       "3219182  AGGIKKF5GCB5MZLCUJ364EMPFNTQ  6302098475  883861394000     4.0   \n",
       "6870182  AEYKLLDB3WOTU25O2PMRFVE6I3IA  0800184319  890780757000     5.0   \n",
       "6674907  AHIESZVUWCPHZC7QEANXAI5OCGBA  6302484502  891105363000     4.0   \n",
       "2914409  AF4OM67Q62MWNQEL7TPEYBRLSUUA  6303567126  891124916000     5.0   \n",
       "7452255  AFMCLVQVJZKGFGIZHPZDP53SLPSA  6301963636  891637238000     4.0   \n",
       "7452252  AFMCLVQVJZKGFGIZHPZDP53SLPSA  6302120527  891718786000     5.0   \n",
       "7452251  AFMCLVQVJZKGFGIZHPZDP53SLPSA  6302682622  891887185000     5.0   \n",
       "7452250  AFMCLVQVJZKGFGIZHPZDP53SLPSA  6302120616  892748741000     5.0   \n",
       "7452249  AFMCLVQVJZKGFGIZHPZDP53SLPSA  6302682606  892833103000     5.0   \n",
       "\n",
       "                                                                                                                                                                                                                                                                                                                                                                                                                    Text  \n",
       "3321942  This is one of the finest holiday films ever made.<br />Inspired by a story by Irving Berlin, the film features many wonderful Berlin holiday tunes, from &quot;White Christmas&quot; to &quot;Easter Parade&quot;. This is the film that introduced &quot;White Christmas&quot;, Bing Crosby's signature song (which was almost cut from the final version!).<br />Holiday hijinks ensue when Jim Hardy (Bi...  \n",
       "3219182  This verison (which was first made as a theatrical film for European cinema, then shown on FOX TV, and then shortened for video by about forty minutes) stars Patrick Bergin as the outlawed Earl of Huntington (portrayed with some touches of humor and plenty of physical action and presence); Uma Thurman as a very independent Lady Marian; Jeroen Krabbe as the Norman lord who was once Robin's frie...  \n",
       "6870182                                         After I saw this movie it instantly became one of my all time favorites.  After reading  the novel by Lois Duncan I felt that it may have deviated from the original story a bit too much.  Nevertheless, Jennifer Love Hewitt gave an incredible performance.  I do feel though that too  many characters got killed in it.  Should have kept some for the sequal.  END  \n",
       "6674907  Any film directed by Orson Welles is engrossing and worth the time.  MACBETH is no exception.  For those of you familiar with the 1971 Roman Polanski version, Welles  brought to the screen a darker, more nightmarish world than Polanski could envision.  The lighting is stark and the shadows ominous.  Macbeth's madness increasingly pervades the atmosphere of the entire film, making the viewer un...  \n",
       "2914409  If Leonardo diCaprio had not already made this film, he would be cast immediately for the role of lifetime. Mr. diCaprio's performance as the lanky, audacious, and attitude-heavy high school basketball player whose descent into heroin-hell is the true story of the author, Jim Carroll, can only be described as superb. As often as diCaprio is cited for his Titanic performance, &quot;Basketball D...  \n",
       "7452255  In certain scenes, you can see the weariness in Errol Flynn's face. At times, the years of drinking and brawling and general misbehavior are shockingly apparent. Yet despite that, Flynn's portrayal of a jaded, world-weary -- but ultimately humorous and carefree -- Don Juan is a delight to watch. It was the last great swashbuckling film he would make, and the last in which any great care was ta...  \n",
       "7452252  In his autobiography, Jack L. Warner said Errol Flynn's sudden rise to stardom was like a &quot;wildfire&quot; sweeping across the landscape. In &quot;Captain Blood,&quot; a 26-year-old Errol Flynn burst on the scene with drop-dead good looks, a knack for generating excitement, and one of the most powerful screen personas of any star in the history of film. This story of a doctor-turned-pirate...  \n",
       "7452251  In real life, Errol Flynn was no pushover. Despite devastating good looks and a wickedly easygoing charm, he could hold his own in either a one-on-one fightfight or a barroom brawl. He was, in fact, one of the most feared fighters in Hollywood.<br />&quot;Gentleman Jim,&quot; the story of 19th century boxer James J. Corbett, gave Warner Brothers a chance to put their bad boy on display at his ...  \n",
       "7452250  &quot;The Charge of the Light Brigade,&quot; which was released in 1936, was Errol Flynn's second starring role. Already an international sensation thanks to &quot;Captain Blood,&quot; Flynn shot to even higher levels of stardom with the release of this action-packed desert drama that co-starred Olivia DeHavilland.<br />Although the script is largely fictional -- Warner Brothers rarely let his...  \n",
       "7452249  &quot;The Edge of Darkness&quot; is one of the few movies made during World War II about World War II that holds up as more than just a propaganda piece. Warner Brothers pulled out all the stops with this intense and compelling drama about Norwegian villagers who rebel against their Nazi occupiers, giving the film a superior script, eye-popping camera work and a cast remarkable for its strengt...  "
      ]
     },
     "execution_count": 10,
     "metadata": {},
     "output_type": "execute_result"
    }
   ],
   "source": [
    "# filter items/users with a few interactions\n",
    "MIN_NUM_INTERACTIONS = 5\n",
    "\n",
    "processed_session_df = raw_session_df.copy()\n",
    "prev_len_processed_session_df = len(processed_session_df)\n",
    "while True: \n",
    "    print(\"Iteration \")\n",
    "\n",
    "    # Compute sessions to keep.\n",
    "    sessions_to_keep = {session for session, value_count in processed_session_df[\"SessionId\"].value_counts().items() if value_count >= MIN_NUM_INTERACTIONS}\n",
    "    processed_session_df = processed_session_df[processed_session_df[\"SessionId\"].isin(sessions_to_keep)]\n",
    "    \n",
    "    # Compute items to keep.\n",
    "    items_to_keep = {item for item, value_count in processed_session_df[\"ItemId\"].value_counts().items() if value_count >= MIN_NUM_INTERACTIONS}\n",
    "    processed_session_df = processed_session_df[processed_session_df[\"ItemId\"].isin(items_to_keep)]\n",
    "    \n",
    "    if prev_len_processed_session_df == len(processed_session_df):\n",
    "        break\n",
    "\n",
    "    prev_len_processed_session_df = len(processed_session_df)\n",
    "\n",
    "print(f\"Number of sessions: {len(sessions_to_keep)}\")\n",
    "print(f\"Number of items: {len(items_to_keep)}\")\n",
    "\n",
    "processed_session_df.sort_values(by=\"Time\", inplace=True)\n",
    "processed_session_df.head(10)"
   ]
  },
  {
   "cell_type": "code",
   "execution_count": 11,
   "metadata": {},
   "outputs": [],
   "source": [
    "session_dict = {}\n",
    "for index, row in processed_session_df.iterrows():\n",
    "    if row[\"SessionId\"] in session_dict:\n",
    "        session_dict[row[\"SessionId\"]].append((row[\"ItemId\"], row['Rating'], row['Text']))\n",
    "    else:\n",
    "        session_dict[row[\"SessionId\"]] = [(row[\"ItemId\"], row['Rating'], row['Text'])]"
   ]
  },
  {
   "cell_type": "code",
   "execution_count": 12,
   "metadata": {},
   "outputs": [
    {
     "name": "stderr",
     "output_type": "stream",
     "text": [
      "  0%|          | 0/434236 [00:00<?, ?it/s]Token indices sequence length is longer than the specified maximum sequence length for this model (1260 > 512). Running this sequence through the model will result in indexing errors\n",
      "100%|██████████| 434236/434236 [02:15<00:00, 3215.76it/s]"
     ]
    },
    {
     "name": "stdout",
     "output_type": "stream",
     "text": [
      "434236\n",
      "16893\n"
     ]
    },
    {
     "name": "stderr",
     "output_type": "stream",
     "text": [
      "\n"
     ]
    }
   ],
   "source": [
    "MAX_LM_LEN = 1024\n",
    "MAX_RM_LEN = 512\n",
    "PROMPT = \"The user has rated (out of 5.0) and reviewed following movies and TV shows arranged chronologically from the oldest (top) to the newest (bottom). Please provide a high-level summary of the user preference in detail.\"\n",
    "\n",
    "# remove items with long descriptions\n",
    "item_to_remove = {}\n",
    "for k, item in tqdm(item_des_dict.items()):\n",
    "    current_item = f'Title: {item[\"Title\"]}\\nDescription: (average rating: {item[\"average_rating\"]}) {item[\"Description\"]}\\nCategory: {item[\"Category\"]}\\nPrice: {item[\"price\"]}'\n",
    "    if len(tokenizer_emb(current_item)['input_ids']) > MAX_RM_LEN:\n",
    "        item_to_remove[k] = 1\n",
    "\n",
    "print(len(item_des_dict))\n",
    "print(len(item_to_remove))"
   ]
  },
  {
   "cell_type": "code",
   "execution_count": 13,
   "metadata": {},
   "outputs": [
    {
     "name": "stderr",
     "output_type": "stream",
     "text": [
      "100%|██████████| 238405/238405 [02:53<00:00, 1372.28it/s]"
     ]
    },
    {
     "name": "stdout",
     "output_type": "stream",
     "text": [
      "Total number of sessions:  238405\n",
      "Number of sessions to remove:  191674\n"
     ]
    },
    {
     "name": "stderr",
     "output_type": "stream",
     "text": [
      "\n"
     ]
    }
   ],
   "source": [
    "# remove sessions with long prompts\n",
    "sess_to_remove = {}\n",
    "for k in tqdm(session_dict.keys()):\n",
    "\n",
    "    for i in session_dict[k]:\n",
    "        if i[0] in item_to_remove:\n",
    "            sess_to_remove[k] = 1\n",
    "            break\n",
    "    \n",
    "    if k in sess_to_remove:\n",
    "        continue\n",
    "\n",
    "    prompt = [PROMPT]\n",
    "    for i in session_dict[k][:4]:\n",
    "        item = item_des_dict[i[0]]\n",
    "        current_item = f'Title: {item[\"Title\"]}\\nDescription: (average rating: {item[\"average_rating\"]}) {item[\"Description\"]}\\nCategory: {item[\"Category\"]}\\nPrice: {item[\"price\"]}'\n",
    "        prompt.append(current_item + f'\\nReview from the user: (rating: {i[1]}) {i[2]}')\n",
    "    prompt = \"\\n\\n\".join(prompt)\n",
    "    prompt = f\"<start_of_turn>user\\n{prompt}<end_of_turn>\\n<start_of_turn>model\"\n",
    "    if len(tokenizer_lm(prompt)['input_ids']) > MAX_LM_LEN:\n",
    "        sess_to_remove[k] = 1\n",
    "\n",
    "print(\"Total number of sessions: \", len(session_dict.keys()))\n",
    "print(\"Number of sessions to remove: \", len(sess_to_remove.keys()))"
   ]
  },
  {
   "cell_type": "code",
   "execution_count": 14,
   "metadata": {},
   "outputs": [
    {
     "name": "stdout",
     "output_type": "stream",
     "text": [
      "Drop ratio:  0.8860962365972863\n",
      "Length before drop:  3114761\n",
      "Length after drop:  354783\n",
      "                      SessionId      ItemId           Time  Rating  \\\n",
      "0  AGGZ357AO26RQZVRLGU4D4N52DZQ  B013488XFS  1440385637000     5.0   \n",
      "1  AGKASBHYZPGTEPO6LWZPVJWB2BVA  B00CB6VTDS  1461100610000     5.0   \n",
      "2  AGCI7FAH4GL5FI65HYLKWTMFZ2CQ  B01BZ4DOGQ  1493616276000     5.0   \n",
      "3  AGXVBIUFLFGMVLATYXHJYL4A5Q7Q  B0002J58ME  1146713492000     5.0   \n",
      "4  AHITBJSS7KYUBVZPX7M2WJCOIVKQ  B079FLYB41  1560014052867     5.0   \n",
      "\n",
      "                                                                                                                                                                                                                                                                                                                                                                                                              Text  \n",
      "0                                                                                                                                                                                                                                                                                                                                                                         Amazon, please buy the show! I'm hooked!  \n",
      "1                                                                                                                                                                                                                                                                                                                                                                                       My Kiddos LOVE this show!!  \n",
      "2                                                                                                                                                                                                                                                                                                                                       Great film all around. Some films about Jesus can be rough. This is legit.  \n",
      "3  This DVD was GREAT!  I am a stay at home mom who is totally out of shape.  I don't have alot of time for myself & this workout DVD fits the bill.  It has 5 different 10 minute workouts that you can do each individually or 2, 3, 4 or all 5 at one time.  The menu gives you the option of personalizing your workout to do how little or how many workouts.  Plus it targets 5 different areas of your b...  \n",
      "4                                                                                                                                                                                                                                                                                                                                                                                         Awesome movie! Must see.  \n"
     ]
    }
   ],
   "source": [
    "processed_session_df = processed_session_df.reset_index(drop=True)\n",
    "drop_idx = []\n",
    "for i in range(len(processed_session_df[\"SessionId\"])):\n",
    "    if processed_session_df[\"SessionId\"][i] in sess_to_remove:\n",
    "        drop_idx.append(i)\n",
    "\n",
    "print(\"Drop ratio: \", len(drop_idx)/len(processed_session_df))\n",
    "print(\"Length before drop: \", len(processed_session_df))\n",
    "processed_session_df = processed_session_df.drop(drop_idx).reset_index(drop=True)\n",
    "print(\"Length after drop: \", len(processed_session_df))\n",
    "print(raw_session_df.head())"
   ]
  },
  {
   "cell_type": "code",
   "execution_count": 15,
   "metadata": {},
   "outputs": [
    {
     "name": "stdout",
     "output_type": "stream",
     "text": [
      "Iteration \n",
      "Iteration \n",
      "Iteration \n",
      "Iteration \n",
      "Iteration \n",
      "Iteration \n",
      "Iteration \n",
      "Iteration \n",
      "Iteration \n",
      "Iteration \n",
      "Iteration \n",
      "Iteration \n",
      "Iteration \n",
      "Iteration \n",
      "Iteration \n",
      "Iteration \n",
      "Iteration \n",
      "Iteration \n",
      "Iteration \n",
      "Number of sessions: 19681\n",
      "Number of items: 10945\n"
     ]
    },
    {
     "data": {
      "application/vnd.microsoft.datawrangler.viewer.v0+json": {
       "columns": [
        {
         "name": "index",
         "rawType": "int64",
         "type": "integer"
        },
        {
         "name": "SessionId",
         "rawType": "object",
         "type": "string"
        },
        {
         "name": "ItemId",
         "rawType": "object",
         "type": "string"
        },
        {
         "name": "Time",
         "rawType": "int64",
         "type": "integer"
        },
        {
         "name": "Rating",
         "rawType": "float64",
         "type": "float"
        },
        {
         "name": "Text",
         "rawType": "object",
         "type": "string"
        }
       ],
       "ref": "6777cc3f-1e41-479b-839c-322e3b08cfc3",
       "rows": [
        [
         "27",
         "AGLIO4USU24KCMP6J5RFJCVQNQJA",
         "0792839137",
         "920069848000",
         "1.0",
         "I have to say this is the biggest letdown I have had in the past 10 years.  L. DiCaprio is pathetic.  The other actors are sleep walking through the entire thing, probably regretting the fact that they were ever involved and  wanting to end their self-induced torture as quickly as possible.<br />If you  are brain damaged or a 14 year old acne faced female in love with L.  DiCaprio you will enjoy this film.  If you have enjoyed previous  adaptations of Alexander Dumas' Musketeer stories or can recognize bad  acting then you will be looking for a garbage can to throw up in (Better  get a bucket!).  If you paid money and saw this in the theatre without  violently demanding a refund afterwards, I admire your Olympian  self-restraint."
        ],
        [
         "67",
         "AH66ADZWA2DPHUEB6WWDVIQJQUXA",
         "1563353121",
         "943624858000",
         "5.0",
         "This is a great movie and it really hit home as we have a 15 year old blind Arabian mare. Even though she is blind she is smart, a great trail horse and mother. She has the courage to prove not all blind horses are  worthless. She will never be sold and has found a loving home with us.  Though she has been banned from riding competition due to her blindness she  is taken on long trail rides, and loves to go. She is great and we love  her. If you watch this movie it will help you see that not all people are  cruel."
        ],
        [
         "68",
         "AH66ADZWA2DPHUEB6WWDVIQJQUXA",
         "1563353121",
         "943624858000",
         "5.0",
         "This is a great movie and it really hit home as we have a 15 year old blind Arabian mare. Even though she is blind she is smart, a great trail horse and mother. She has the courage to prove not all blind horses are  worthless. She will never be sold and has found a loving home with us.  Though she has been banned from riding competition due to her blindness she  is taken on long trail rides, and loves to go. She is great and we love  her. If you watch this movie it will help you see that not all people are  cruel."
        ],
        [
         "69",
         "AH66ADZWA2DPHUEB6WWDVIQJQUXA",
         "1563353121",
         "943624858000",
         "5.0",
         "This is a great movie and it really hit home as we have a 15 year old blind Arabian mare. Even though she is blind she is smart, a great trail horse and mother. She has the courage to prove not all blind horses are  worthless. She will never be sold and has found a loving home with us.  Though she has been banned from riding competition due to her blindness she  is taken on long trail rides, and loves to go. She is great and we love  her. If you watch this movie it will help you see that not all people are  cruel."
        ],
        [
         "70",
         "AH66ADZWA2DPHUEB6WWDVIQJQUXA",
         "1563353121",
         "943624858000",
         "5.0",
         "This is a great movie and it really hit home as we have a 15 year old blind Arabian mare. Even though she is blind she is smart, a great trail horse and mother. She has the courage to prove not all blind horses are  worthless. She will never be sold and has found a loving home with us.  Though she has been banned from riding competition due to her blindness she  is taken on long trail rides, and loves to go. She is great and we love  her. If you watch this movie it will help you see that not all people are  cruel."
        ],
        [
         "71",
         "AH66ADZWA2DPHUEB6WWDVIQJQUXA",
         "1563353121",
         "943624858000",
         "5.0",
         "This is a great movie and it really hit home as we have a 15 year old blind Arabian mare. Even though she is blind she is smart, a great trail horse and mother. She has the courage to prove not all blind horses are  worthless. She will never be sold and has found a loving home with us.  Though she has been banned from riding competition due to her blindness she  is taken on long trail rides, and loves to go. She is great and we love  her. If you watch this movie it will help you see that not all people are  cruel."
        ],
        [
         "72",
         "AH66ADZWA2DPHUEB6WWDVIQJQUXA",
         "1563353121",
         "943624858000",
         "5.0",
         "This is a great movie and it really hit home as we have a 15 year old blind Arabian mare. Even though she is blind she is smart, a great trail horse and mother. She has the courage to prove not all blind horses are  worthless. She will never be sold and has found a loving home with us.  Though she has been banned from riding competition due to her blindness she  is taken on long trail rides, and loves to go. She is great and we love  her. If you watch this movie it will help you see that not all people are  cruel."
        ],
        [
         "207",
         "AF3BQFFH622BRDD4EB6L5WGAKFGA",
         "B00003Q43D",
         "959602815000",
         "5.0",
         "I was interested but figured i'd see another sloppy recreation.  Instead I saw dinosaurs - images that will stay with me forever.  Better, I saw them in the newer form of nature documentary which combines a story with hard  facts.  Best of all are the segments where scientist frankly discuss what  is known and what is not known.  I was riveted and could not stop watching."
        ],
        [
         "208",
         "AF3BQFFH622BRDD4EB6L5WGAKFGA",
         "B00003Q43D",
         "959602815000",
         "5.0",
         "I was interested but figured i'd see another sloppy recreation.  Instead I saw dinosaurs - images that will stay with me forever.  Better, I saw them in the newer form of nature documentary which combines a story with hard  facts.  Best of all are the segments where scientist frankly discuss what  is known and what is not known.  I was riveted and could not stop watching."
        ],
        [
         "209",
         "AF3BQFFH622BRDD4EB6L5WGAKFGA",
         "B00003Q43D",
         "959602815000",
         "5.0",
         "I was interested but figured i'd see another sloppy recreation.  Instead I saw dinosaurs - images that will stay with me forever.  Better, I saw them in the newer form of nature documentary which combines a story with hard  facts.  Best of all are the segments where scientist frankly discuss what  is known and what is not known.  I was riveted and could not stop watching."
        ]
       ],
       "shape": {
        "columns": 5,
        "rows": 10
       }
      },
      "text/html": [
       "<div>\n",
       "<style scoped>\n",
       "    .dataframe tbody tr th:only-of-type {\n",
       "        vertical-align: middle;\n",
       "    }\n",
       "\n",
       "    .dataframe tbody tr th {\n",
       "        vertical-align: top;\n",
       "    }\n",
       "\n",
       "    .dataframe thead th {\n",
       "        text-align: right;\n",
       "    }\n",
       "</style>\n",
       "<table border=\"1\" class=\"dataframe\">\n",
       "  <thead>\n",
       "    <tr style=\"text-align: right;\">\n",
       "      <th></th>\n",
       "      <th>SessionId</th>\n",
       "      <th>ItemId</th>\n",
       "      <th>Time</th>\n",
       "      <th>Rating</th>\n",
       "      <th>Text</th>\n",
       "    </tr>\n",
       "  </thead>\n",
       "  <tbody>\n",
       "    <tr>\n",
       "      <th>27</th>\n",
       "      <td>AGLIO4USU24KCMP6J5RFJCVQNQJA</td>\n",
       "      <td>0792839137</td>\n",
       "      <td>920069848000</td>\n",
       "      <td>1.0</td>\n",
       "      <td>I have to say this is the biggest letdown I have had in the past 10 years.  L. DiCaprio is pathetic.  The other actors are sleep walking through the entire thing, probably regretting the fact that they were ever involved and  wanting to end their self-induced torture as quickly as possible.&lt;br /&gt;If you  are brain damaged or a 14 year old acne faced female in love with L.  DiCaprio you will enj...</td>\n",
       "    </tr>\n",
       "    <tr>\n",
       "      <th>67</th>\n",
       "      <td>AH66ADZWA2DPHUEB6WWDVIQJQUXA</td>\n",
       "      <td>1563353121</td>\n",
       "      <td>943624858000</td>\n",
       "      <td>5.0</td>\n",
       "      <td>This is a great movie and it really hit home as we have a 15 year old blind Arabian mare. Even though she is blind she is smart, a great trail horse and mother. She has the courage to prove not all blind horses are  worthless. She will never be sold and has found a loving home with us.  Though she has been banned from riding competition due to her blindness she  is taken on long trail rides, a...</td>\n",
       "    </tr>\n",
       "    <tr>\n",
       "      <th>68</th>\n",
       "      <td>AH66ADZWA2DPHUEB6WWDVIQJQUXA</td>\n",
       "      <td>1563353121</td>\n",
       "      <td>943624858000</td>\n",
       "      <td>5.0</td>\n",
       "      <td>This is a great movie and it really hit home as we have a 15 year old blind Arabian mare. Even though she is blind she is smart, a great trail horse and mother. She has the courage to prove not all blind horses are  worthless. She will never be sold and has found a loving home with us.  Though she has been banned from riding competition due to her blindness she  is taken on long trail rides, a...</td>\n",
       "    </tr>\n",
       "    <tr>\n",
       "      <th>69</th>\n",
       "      <td>AH66ADZWA2DPHUEB6WWDVIQJQUXA</td>\n",
       "      <td>1563353121</td>\n",
       "      <td>943624858000</td>\n",
       "      <td>5.0</td>\n",
       "      <td>This is a great movie and it really hit home as we have a 15 year old blind Arabian mare. Even though she is blind she is smart, a great trail horse and mother. She has the courage to prove not all blind horses are  worthless. She will never be sold and has found a loving home with us.  Though she has been banned from riding competition due to her blindness she  is taken on long trail rides, a...</td>\n",
       "    </tr>\n",
       "    <tr>\n",
       "      <th>70</th>\n",
       "      <td>AH66ADZWA2DPHUEB6WWDVIQJQUXA</td>\n",
       "      <td>1563353121</td>\n",
       "      <td>943624858000</td>\n",
       "      <td>5.0</td>\n",
       "      <td>This is a great movie and it really hit home as we have a 15 year old blind Arabian mare. Even though she is blind she is smart, a great trail horse and mother. She has the courage to prove not all blind horses are  worthless. She will never be sold and has found a loving home with us.  Though she has been banned from riding competition due to her blindness she  is taken on long trail rides, a...</td>\n",
       "    </tr>\n",
       "    <tr>\n",
       "      <th>71</th>\n",
       "      <td>AH66ADZWA2DPHUEB6WWDVIQJQUXA</td>\n",
       "      <td>1563353121</td>\n",
       "      <td>943624858000</td>\n",
       "      <td>5.0</td>\n",
       "      <td>This is a great movie and it really hit home as we have a 15 year old blind Arabian mare. Even though she is blind she is smart, a great trail horse and mother. She has the courage to prove not all blind horses are  worthless. She will never be sold and has found a loving home with us.  Though she has been banned from riding competition due to her blindness she  is taken on long trail rides, a...</td>\n",
       "    </tr>\n",
       "    <tr>\n",
       "      <th>72</th>\n",
       "      <td>AH66ADZWA2DPHUEB6WWDVIQJQUXA</td>\n",
       "      <td>1563353121</td>\n",
       "      <td>943624858000</td>\n",
       "      <td>5.0</td>\n",
       "      <td>This is a great movie and it really hit home as we have a 15 year old blind Arabian mare. Even though she is blind she is smart, a great trail horse and mother. She has the courage to prove not all blind horses are  worthless. She will never be sold and has found a loving home with us.  Though she has been banned from riding competition due to her blindness she  is taken on long trail rides, a...</td>\n",
       "    </tr>\n",
       "    <tr>\n",
       "      <th>207</th>\n",
       "      <td>AF3BQFFH622BRDD4EB6L5WGAKFGA</td>\n",
       "      <td>B00003Q43D</td>\n",
       "      <td>959602815000</td>\n",
       "      <td>5.0</td>\n",
       "      <td>I was interested but figured i'd see another sloppy recreation.  Instead I saw dinosaurs - images that will stay with me forever.  Better, I saw them in the newer form of nature documentary which combines a story with hard  facts.  Best of all are the segments where scientist frankly discuss what  is known and what is not known.  I was riveted and could not stop watching.</td>\n",
       "    </tr>\n",
       "    <tr>\n",
       "      <th>208</th>\n",
       "      <td>AF3BQFFH622BRDD4EB6L5WGAKFGA</td>\n",
       "      <td>B00003Q43D</td>\n",
       "      <td>959602815000</td>\n",
       "      <td>5.0</td>\n",
       "      <td>I was interested but figured i'd see another sloppy recreation.  Instead I saw dinosaurs - images that will stay with me forever.  Better, I saw them in the newer form of nature documentary which combines a story with hard  facts.  Best of all are the segments where scientist frankly discuss what  is known and what is not known.  I was riveted and could not stop watching.</td>\n",
       "    </tr>\n",
       "    <tr>\n",
       "      <th>209</th>\n",
       "      <td>AF3BQFFH622BRDD4EB6L5WGAKFGA</td>\n",
       "      <td>B00003Q43D</td>\n",
       "      <td>959602815000</td>\n",
       "      <td>5.0</td>\n",
       "      <td>I was interested but figured i'd see another sloppy recreation.  Instead I saw dinosaurs - images that will stay with me forever.  Better, I saw them in the newer form of nature documentary which combines a story with hard  facts.  Best of all are the segments where scientist frankly discuss what  is known and what is not known.  I was riveted and could not stop watching.</td>\n",
       "    </tr>\n",
       "  </tbody>\n",
       "</table>\n",
       "</div>"
      ],
      "text/plain": [
       "                        SessionId      ItemId          Time  Rating  \\\n",
       "27   AGLIO4USU24KCMP6J5RFJCVQNQJA  0792839137  920069848000     1.0   \n",
       "67   AH66ADZWA2DPHUEB6WWDVIQJQUXA  1563353121  943624858000     5.0   \n",
       "68   AH66ADZWA2DPHUEB6WWDVIQJQUXA  1563353121  943624858000     5.0   \n",
       "69   AH66ADZWA2DPHUEB6WWDVIQJQUXA  1563353121  943624858000     5.0   \n",
       "70   AH66ADZWA2DPHUEB6WWDVIQJQUXA  1563353121  943624858000     5.0   \n",
       "71   AH66ADZWA2DPHUEB6WWDVIQJQUXA  1563353121  943624858000     5.0   \n",
       "72   AH66ADZWA2DPHUEB6WWDVIQJQUXA  1563353121  943624858000     5.0   \n",
       "207  AF3BQFFH622BRDD4EB6L5WGAKFGA  B00003Q43D  959602815000     5.0   \n",
       "208  AF3BQFFH622BRDD4EB6L5WGAKFGA  B00003Q43D  959602815000     5.0   \n",
       "209  AF3BQFFH622BRDD4EB6L5WGAKFGA  B00003Q43D  959602815000     5.0   \n",
       "\n",
       "                                                                                                                                                                                                                                                                                                                                                                                                                Text  \n",
       "27   I have to say this is the biggest letdown I have had in the past 10 years.  L. DiCaprio is pathetic.  The other actors are sleep walking through the entire thing, probably regretting the fact that they were ever involved and  wanting to end their self-induced torture as quickly as possible.<br />If you  are brain damaged or a 14 year old acne faced female in love with L.  DiCaprio you will enj...  \n",
       "67   This is a great movie and it really hit home as we have a 15 year old blind Arabian mare. Even though she is blind she is smart, a great trail horse and mother. She has the courage to prove not all blind horses are  worthless. She will never be sold and has found a loving home with us.  Though she has been banned from riding competition due to her blindness she  is taken on long trail rides, a...  \n",
       "68   This is a great movie and it really hit home as we have a 15 year old blind Arabian mare. Even though she is blind she is smart, a great trail horse and mother. She has the courage to prove not all blind horses are  worthless. She will never be sold and has found a loving home with us.  Though she has been banned from riding competition due to her blindness she  is taken on long trail rides, a...  \n",
       "69   This is a great movie and it really hit home as we have a 15 year old blind Arabian mare. Even though she is blind she is smart, a great trail horse and mother. She has the courage to prove not all blind horses are  worthless. She will never be sold and has found a loving home with us.  Though she has been banned from riding competition due to her blindness she  is taken on long trail rides, a...  \n",
       "70   This is a great movie and it really hit home as we have a 15 year old blind Arabian mare. Even though she is blind she is smart, a great trail horse and mother. She has the courage to prove not all blind horses are  worthless. She will never be sold and has found a loving home with us.  Though she has been banned from riding competition due to her blindness she  is taken on long trail rides, a...  \n",
       "71   This is a great movie and it really hit home as we have a 15 year old blind Arabian mare. Even though she is blind she is smart, a great trail horse and mother. She has the courage to prove not all blind horses are  worthless. She will never be sold and has found a loving home with us.  Though she has been banned from riding competition due to her blindness she  is taken on long trail rides, a...  \n",
       "72   This is a great movie and it really hit home as we have a 15 year old blind Arabian mare. Even though she is blind she is smart, a great trail horse and mother. She has the courage to prove not all blind horses are  worthless. She will never be sold and has found a loving home with us.  Though she has been banned from riding competition due to her blindness she  is taken on long trail rides, a...  \n",
       "207                           I was interested but figured i'd see another sloppy recreation.  Instead I saw dinosaurs - images that will stay with me forever.  Better, I saw them in the newer form of nature documentary which combines a story with hard  facts.  Best of all are the segments where scientist frankly discuss what  is known and what is not known.  I was riveted and could not stop watching.  \n",
       "208                           I was interested but figured i'd see another sloppy recreation.  Instead I saw dinosaurs - images that will stay with me forever.  Better, I saw them in the newer form of nature documentary which combines a story with hard  facts.  Best of all are the segments where scientist frankly discuss what  is known and what is not known.  I was riveted and could not stop watching.  \n",
       "209                           I was interested but figured i'd see another sloppy recreation.  Instead I saw dinosaurs - images that will stay with me forever.  Better, I saw them in the newer form of nature documentary which combines a story with hard  facts.  Best of all are the segments where scientist frankly discuss what  is known and what is not known.  I was riveted and could not stop watching.  "
      ]
     },
     "execution_count": 15,
     "metadata": {},
     "output_type": "execute_result"
    }
   ],
   "source": [
    "# filter items/users with a few interactions\n",
    "MIN_NUM_INTERACTIONS = 5\n",
    "\n",
    "prev_len_processed_session_df = len(processed_session_df)\n",
    "while True: \n",
    "    print(\"Iteration \")\n",
    "\n",
    "    # Compute sessions to keep.\n",
    "    sessions_to_keep = {session for session, value_count in processed_session_df[\"SessionId\"].value_counts().items() if value_count >= MIN_NUM_INTERACTIONS}\n",
    "    processed_session_df = processed_session_df[processed_session_df[\"SessionId\"].isin(sessions_to_keep)]\n",
    "    \n",
    "    # Compute items to keep.\n",
    "    items_to_keep = {item for item, value_count in processed_session_df[\"ItemId\"].value_counts().items() if value_count >= MIN_NUM_INTERACTIONS}\n",
    "    processed_session_df = processed_session_df[processed_session_df[\"ItemId\"].isin(items_to_keep)]\n",
    "    \n",
    "    if prev_len_processed_session_df == len(processed_session_df):\n",
    "        break\n",
    "\n",
    "    prev_len_processed_session_df = len(processed_session_df)\n",
    "\n",
    "print(f\"Number of sessions: {len(sessions_to_keep)}\")\n",
    "print(f\"Number of items: {len(items_to_keep)}\")\n",
    "\n",
    "processed_session_df.sort_values(by=\"Time\", inplace=True)\n",
    "processed_session_df.head(10)"
   ]
  },
  {
   "cell_type": "code",
   "execution_count": 16,
   "metadata": {},
   "outputs": [
    {
     "data": {
      "application/vnd.microsoft.datawrangler.viewer.v0+json": {
       "columns": [
        {
         "name": "index",
         "rawType": "int64",
         "type": "integer"
        },
        {
         "name": "ItemId",
         "rawType": "object",
         "type": "string"
        },
        {
         "name": "Title",
         "rawType": "object",
         "type": "string"
        },
        {
         "name": "Description",
         "rawType": "object",
         "type": "string"
        },
        {
         "name": "Category",
         "rawType": "object",
         "type": "string"
        },
        {
         "name": "price",
         "rawType": "object",
         "type": "string"
        },
        {
         "name": "details",
         "rawType": "object",
         "type": "unknown"
        },
        {
         "name": "average_rating",
         "rawType": "float64",
         "type": "float"
        }
       ],
       "ref": "6f539d45-9a11-4423-9fb5-5bbc20b42930",
       "rows": [
        [
         "0",
         "B07R6X1PFL",
         "The Curse of La Llorona",
         "A social worker investigating the disappearance of two children discovers her own family might also be in danger.",
         "Suspense, Horror, Anxious, Emotional",
         "12.99",
         "{'Audio languages': ['English', 'English [Audio Description]'], 'Subtitles': ['English [CC]'], 'Directors': ['Michael Chaves'], 'Producers': ['Richard Brener', 'Michael Clear', 'Gary Dauberman', 'Emile Gladstone', 'Walter Hamada', 'Michelle Morrissey', 'Dave Neustadter', 'Victoria Palmeri', 'Judson Scott'], 'Starring': ['Linda Cardellini', 'Raymond Cruz', 'Patricia Velasquez']}",
         "4.2"
        ],
        [
         "1",
         "B00SB2OYL0",
         "Paddington",
         "Based on the beloved novels and featuring an all-star cast, PADDINGTON follows a young bear who finds himself in a series of comic misadventures while trying to avoid a museum taxidermist.",
         "Comedy, Kids, Charming, Playful",
         "None",
         "{'Subtitles': ['None available'], 'Directors': ['Paul King'], 'Producers': ['David Heyman', 'Rosie Alison', 'Jeffrey Clifford', 'Alexandra Ferguson', 'Oliver Courson', 'Ron Halpern', 'Bob Weinstein', 'Harvey Weinstein'], 'Starring': ['Ben Whishaw', 'Nicole Kidman', 'Michael Gambon']}",
         "4.7"
        ],
        [
         "2",
         "B00IKM5LXG",
         "I, Frankenstein [DVD + Digital]",
         "Frankenstein's creature, Adam, has survived into the present day due to a genetic quirk in his creation. Making his way to a dark, gothic metropolis, he finds himself caught in an all-out, centuries old war between two immortal clans.",
         "Movies & TV, Genre for Featured Categories, Action & Adventure",
         "7.99",
         "{'Genre': 'Action', 'Format': 'Multiple Formats, Closed-captioned, NTSC, Color, Subtitled, Widescreen', 'Contributor': 'Aaron Eckhardt, Stuart Beattie, Bill Nighy, Miranda Otto', 'Language': 'English', 'Runtime': '1 hour and 33 minutes', 'Is Discontinued By Manufacturer': 'No', 'MPAA rating': 'PG-13 (Parents Strongly Cautioned)', 'Product Dimensions': '0.7 x 7.5 x 5.4 inches; 1.6 Ounces', 'Audio Description': 'English', 'Item model number': 'LGT45244DVD', 'Director': 'Stuart Beattie', 'Media Format': 'Multiple Formats, Closed-captioned, NTSC, Color, Subtitled, Widescreen', 'Run time': '1 hour and 33 minutes', 'Release date': 'May 13, 2014', 'Actors': 'Aaron Eckhardt, Bill Nighy, Miranda Otto', 'Subtitles': 'English, Spanish', 'Studio': 'Lionsgate', 'Country of Origin': 'USA', 'Number of discs': '1'}",
         "4.4"
        ],
        [
         "3",
         "B005CFC0L0",
         "A Family Thanksgiving",
         "Claudia ( Daphne Zuniga ) is a workaholic who wants more than anything to make partner at her law firm. To accomplish her goal, she has put everyone and everything else on the backburner. But when a mysterious woman ( Faye Dunaway ) uses a bit of magic to help Claudia realize what she's been missing, she gets a serious dose of reality. Transported into a life unlike her own—complete with a husband, kids and a mini-van—she must cope with her new responsibilities. At first, Claudia tries to implement the strategies that served her well in the corporate world. But when she realizes that this new life requires a little more heart and a little less heavy-handedness, she begins to see that her old ways weren't so great after all.",
         "Movies & TV, Genre for Featured Categories, Kids & Family",
         "24.95",
         "{'Genre': 'Kids & Family', 'Format': 'Multiple Formats, Color, Full Screen, NTSC', 'Contributor': 'Faye Dunaway, Daphne Zuniga, Neill Fearnley', 'Language': 'English', 'Runtime': '1 hour and 30 minutes', 'Is Discontinued By Manufacturer': 'No', 'MPAA rating': 'Unrated (Not Rated)', 'Product Dimensions': '7.75 x 5.5 x 0.5 inches; 2.4 Ounces', 'Director': 'Neill Fearnley', 'Media Format': 'Multiple Formats, Color, Full Screen, NTSC', 'Run time': '1 hour and 30 minutes', 'Release date': 'October 11, 2011', 'Actors': 'Daphne Zuniga, Faye Dunaway', 'Studio': 'Echo Bridge Home Entertainment', 'Number of discs': '1'}",
         "4.4"
        ],
        [
         "4",
         "B01LXMBWBN",
         "Across the Line",
         "While investigating brutal killings on the border, a Texas sheriff uncovers corruption, dark secrets, and a mysterious, beautiful witness.",
         "Suspense, Drama, Emotional, Harrowing",
         "None",
         "{'Subtitles': ['None available'], 'Directors': ['Martin Spotti'], 'Producers': ['Paul Toth', 'Niss Savag'], 'Starring': ['Brad Johnson', 'Sigal Erez', 'Brian Bloom']}",
         "3.5"
        ],
        [
         "5",
         "B01BECSBPI",
         "Pride + Prejudice + Zombies",
         "Jane Austen's classic tale of the tangled relationships between lovers from different social classes in 19th century England is faced with a new challenge - an army of zombies!",
         "Action, Suspense, Exciting, Fun",
         "16.29",
         "{'Content advisory': ['Violence', 'alcohol use', 'smoking', 'sexual content'], 'Audio languages': ['English'], 'Subtitles': ['English [CC]'], 'Directors': ['Burr Steers'], 'Producers': ['Natalie Portman'], 'Starring': ['Matt Smith', 'Lily James', 'Sam Riley']}",
         "4.6"
        ],
        [
         "6",
         "B07R4GGPRK",
         "Shazam!",
         "Billy Batson is a streetwise 14-year-old who can magically transform into the adult superhero Shazam simply by shouting out one word. His newfound powers soon get put to the test when he squares off against the evil Dr. Thaddeus Sivana.",
         "Fantasy, Comedy, Exciting, Sweet",
         "13.49",
         "{'Audio languages': ['English'], 'Subtitles': ['English [CC]'], 'Directors': ['David Sandberg'], 'Producers': ['Peter Safran'], 'Starring': ['Zachary Levi', 'Asher Angel', 'Mark Strong']}",
         "4.5"
        ],
        [
         "7",
         "B012PGBMD0",
         "Changing of Ben Moore",
         "Demonic nightmares spiral out of control when Ben's dark dreams are caught on camera, drawing his friends into a sinister world of murder and possession.",
         "Horror",
         "None",
         "{'Subtitles': ['None available'], 'Directors': ['Jason Mills'], 'Producers': ['Jason Mills', 'Garnet Campbell'], 'Starring': ['Umberto Celisano', 'Corey Beaulieu', 'David Lloydy']}",
         "2.8"
        ],
        [
         "8",
         "B000TGKJQA",
         "The Christmas Blessing",
         "Nathan Andrews has grown up and is now a medical resident. When the young doctor loses a patient, he begins to rethink his career and moves back home with his father. Just as Nathan is settling in his world begins to crumble when the lives of the woman he loves and an innocent young boy are in crisis. Nathan finds himself questioning God, fate and the fragility of life, all the while hoping for a Christmas Miracle.",
         "Movies & TV, Made-for-TV Movies, All Made-for-TV Movies",
         "1.99",
         "{'Genre': 'Drama/Television', 'Format': 'Multiple Formats, Color, NTSC', 'Contributor': 'Rebecca Gayheart and Angus T. Jones, Neal Patrick Harris, Rob Lowe, Karen Arthur', 'Language': 'Unqualified', 'Runtime': '2 hours', 'Aspect Ratio': '1.33:1', 'Is Discontinued By Manufacturer': 'No', 'MPAA rating': 'NR (Not Rated)', 'Product Dimensions': '0.64 x 5.5 x 7.64 inches; 4 Ounces', 'Item model number': '05-52351', 'Director': 'Karen Arthur', 'Media Format': 'Multiple Formats, Color, NTSC', 'Run time': '2 hours', 'Release date': 'October 16, 2007', 'Actors': 'Rob Lowe, Neal Patrick Harris, Rebecca Gayheart and Angus T. Jones', 'Studio': 'Gaiam - Entertainment', 'Number of discs': '1'}",
         "4.7"
        ],
        [
         "9",
         "B01M4FG884",
         "Pride and Prejudice",
         "Jane Austen's classic is transplanted to modern-day Utah. While her college roommates search for love, aspiring writer Elizabeth Bennet focuses on her career but constantly finds herself fighting haughty businessman Will Darcy.",
         "Comedy, Romance, Fun",
         "None",
         "{'Content advisory': ['Violence', 'foul language', 'sexual content'], 'Audio languages': ['English'], 'Subtitles': ['English [CC]'], 'Directors': ['Andrew Black'], 'Producers': ['Daniel Shanthakumar', 'T. Kent Elliott', 'Elizabeth Faller', 'Jason Faller', 'Ray Frye', 'Jo Ann Givan', 'Larry E. Givan', 'Kynan Griffin', 'Mary Kirkham', 'Ajmer Singh', 'Harpal S. Toor', 'Anne Woolley', 'Ronald Woolley'], 'Starring': ['Kam Heskin', 'Orlando Seale', 'Benjamin Gourley']}",
         "3.4"
        ]
       ],
       "shape": {
        "columns": 7,
        "rows": 10
       }
      },
      "text/html": [
       "<div>\n",
       "<style scoped>\n",
       "    .dataframe tbody tr th:only-of-type {\n",
       "        vertical-align: middle;\n",
       "    }\n",
       "\n",
       "    .dataframe tbody tr th {\n",
       "        vertical-align: top;\n",
       "    }\n",
       "\n",
       "    .dataframe thead th {\n",
       "        text-align: right;\n",
       "    }\n",
       "</style>\n",
       "<table border=\"1\" class=\"dataframe\">\n",
       "  <thead>\n",
       "    <tr style=\"text-align: right;\">\n",
       "      <th></th>\n",
       "      <th>ItemId</th>\n",
       "      <th>Title</th>\n",
       "      <th>Description</th>\n",
       "      <th>Category</th>\n",
       "      <th>price</th>\n",
       "      <th>details</th>\n",
       "      <th>average_rating</th>\n",
       "    </tr>\n",
       "  </thead>\n",
       "  <tbody>\n",
       "    <tr>\n",
       "      <th>0</th>\n",
       "      <td>B07R6X1PFL</td>\n",
       "      <td>The Curse of La Llorona</td>\n",
       "      <td>A social worker investigating the disappearance of two children discovers her own family might also be in danger.</td>\n",
       "      <td>Suspense, Horror, Anxious, Emotional</td>\n",
       "      <td>12.99</td>\n",
       "      <td>{'Audio languages': ['English', 'English [Audio Description]'], 'Subtitles': ['English [CC]'], 'Directors': ['Michael Chaves'], 'Producers': ['Richard Brener', 'Michael Clear', 'Gary Dauberman', 'Emile Gladstone', 'Walter Hamada', 'Michelle Morrissey', 'Dave Neustadter', 'Victoria Palmeri', 'Judson Scott'], 'Starring': ['Linda Cardellini', 'Raymond Cruz', 'Patricia Velasquez']}</td>\n",
       "      <td>4.2</td>\n",
       "    </tr>\n",
       "    <tr>\n",
       "      <th>1</th>\n",
       "      <td>B00SB2OYL0</td>\n",
       "      <td>Paddington</td>\n",
       "      <td>Based on the beloved novels and featuring an all-star cast, PADDINGTON follows a young bear who finds himself in a series of comic misadventures while trying to avoid a museum taxidermist.</td>\n",
       "      <td>Comedy, Kids, Charming, Playful</td>\n",
       "      <td>None</td>\n",
       "      <td>{'Subtitles': ['None available'], 'Directors': ['Paul King'], 'Producers': ['David Heyman', 'Rosie Alison', 'Jeffrey Clifford', 'Alexandra Ferguson', 'Oliver Courson', 'Ron Halpern', 'Bob Weinstein', 'Harvey Weinstein'], 'Starring': ['Ben Whishaw', 'Nicole Kidman', 'Michael Gambon']}</td>\n",
       "      <td>4.7</td>\n",
       "    </tr>\n",
       "    <tr>\n",
       "      <th>2</th>\n",
       "      <td>B00IKM5LXG</td>\n",
       "      <td>I, Frankenstein [DVD + Digital]</td>\n",
       "      <td>Frankenstein's creature, Adam, has survived into the present day due to a genetic quirk in his creation. Making his way to a dark, gothic metropolis, he finds himself caught in an all-out, centuries old war between two immortal clans.</td>\n",
       "      <td>Movies &amp; TV, Genre for Featured Categories, Action &amp; Adventure</td>\n",
       "      <td>7.99</td>\n",
       "      <td>{'Genre': 'Action', 'Format': 'Multiple Formats, Closed-captioned, NTSC, Color, Subtitled, Widescreen', 'Contributor': 'Aaron Eckhardt, Stuart Beattie, Bill Nighy, Miranda Otto', 'Language': 'English', 'Runtime': '1 hour and 33 minutes', 'Is Discontinued By Manufacturer': 'No', 'MPAA rating': 'PG-13 (Parents Strongly Cautioned)', 'Product Dimensions': '0.7 x 7.5 x 5.4 inches; 1.6 Ounces', 'Aud...</td>\n",
       "      <td>4.4</td>\n",
       "    </tr>\n",
       "    <tr>\n",
       "      <th>3</th>\n",
       "      <td>B005CFC0L0</td>\n",
       "      <td>A Family Thanksgiving</td>\n",
       "      <td>Claudia ( Daphne Zuniga ) is a workaholic who wants more than anything to make partner at her law firm. To accomplish her goal, she has put everyone and everything else on the backburner. But when a mysterious woman ( Faye Dunaway ) uses a bit of magic to help Claudia realize what she's been missing, she gets a serious dose of reality. Transported into a life unlike her own—complete with a hus...</td>\n",
       "      <td>Movies &amp; TV, Genre for Featured Categories, Kids &amp; Family</td>\n",
       "      <td>24.95</td>\n",
       "      <td>{'Genre': 'Kids &amp; Family', 'Format': 'Multiple Formats, Color, Full Screen, NTSC', 'Contributor': 'Faye Dunaway, Daphne Zuniga, Neill Fearnley', 'Language': 'English', 'Runtime': '1 hour and 30 minutes', 'Is Discontinued By Manufacturer': 'No', 'MPAA rating': 'Unrated (Not Rated)', 'Product Dimensions': '7.75 x 5.5 x 0.5 inches; 2.4 Ounces', 'Director': 'Neill Fearnley', 'Media Format': 'Multi...</td>\n",
       "      <td>4.4</td>\n",
       "    </tr>\n",
       "    <tr>\n",
       "      <th>4</th>\n",
       "      <td>B01LXMBWBN</td>\n",
       "      <td>Across the Line</td>\n",
       "      <td>While investigating brutal killings on the border, a Texas sheriff uncovers corruption, dark secrets, and a mysterious, beautiful witness.</td>\n",
       "      <td>Suspense, Drama, Emotional, Harrowing</td>\n",
       "      <td>None</td>\n",
       "      <td>{'Subtitles': ['None available'], 'Directors': ['Martin Spotti'], 'Producers': ['Paul Toth', 'Niss Savag'], 'Starring': ['Brad Johnson', 'Sigal Erez', 'Brian Bloom']}</td>\n",
       "      <td>3.5</td>\n",
       "    </tr>\n",
       "    <tr>\n",
       "      <th>5</th>\n",
       "      <td>B01BECSBPI</td>\n",
       "      <td>Pride + Prejudice + Zombies</td>\n",
       "      <td>Jane Austen's classic tale of the tangled relationships between lovers from different social classes in 19th century England is faced with a new challenge - an army of zombies!</td>\n",
       "      <td>Action, Suspense, Exciting, Fun</td>\n",
       "      <td>16.29</td>\n",
       "      <td>{'Content advisory': ['Violence', 'alcohol use', 'smoking', 'sexual content'], 'Audio languages': ['English'], 'Subtitles': ['English [CC]'], 'Directors': ['Burr Steers'], 'Producers': ['Natalie Portman'], 'Starring': ['Matt Smith', 'Lily James', 'Sam Riley']}</td>\n",
       "      <td>4.6</td>\n",
       "    </tr>\n",
       "    <tr>\n",
       "      <th>6</th>\n",
       "      <td>B07R4GGPRK</td>\n",
       "      <td>Shazam!</td>\n",
       "      <td>Billy Batson is a streetwise 14-year-old who can magically transform into the adult superhero Shazam simply by shouting out one word. His newfound powers soon get put to the test when he squares off against the evil Dr. Thaddeus Sivana.</td>\n",
       "      <td>Fantasy, Comedy, Exciting, Sweet</td>\n",
       "      <td>13.49</td>\n",
       "      <td>{'Audio languages': ['English'], 'Subtitles': ['English [CC]'], 'Directors': ['David Sandberg'], 'Producers': ['Peter Safran'], 'Starring': ['Zachary Levi', 'Asher Angel', 'Mark Strong']}</td>\n",
       "      <td>4.5</td>\n",
       "    </tr>\n",
       "    <tr>\n",
       "      <th>7</th>\n",
       "      <td>B012PGBMD0</td>\n",
       "      <td>Changing of Ben Moore</td>\n",
       "      <td>Demonic nightmares spiral out of control when Ben's dark dreams are caught on camera, drawing his friends into a sinister world of murder and possession.</td>\n",
       "      <td>Horror</td>\n",
       "      <td>None</td>\n",
       "      <td>{'Subtitles': ['None available'], 'Directors': ['Jason Mills'], 'Producers': ['Jason Mills', 'Garnet Campbell'], 'Starring': ['Umberto Celisano', 'Corey Beaulieu', 'David Lloydy']}</td>\n",
       "      <td>2.8</td>\n",
       "    </tr>\n",
       "    <tr>\n",
       "      <th>8</th>\n",
       "      <td>B000TGKJQA</td>\n",
       "      <td>The Christmas Blessing</td>\n",
       "      <td>Nathan Andrews has grown up and is now a medical resident. When the young doctor loses a patient, he begins to rethink his career and moves back home with his father. Just as Nathan is settling in his world begins to crumble when the lives of the woman he loves and an innocent young boy are in crisis. Nathan finds himself questioning God, fate and the fragility of life, all the while hoping fo...</td>\n",
       "      <td>Movies &amp; TV, Made-for-TV Movies, All Made-for-TV Movies</td>\n",
       "      <td>1.99</td>\n",
       "      <td>{'Genre': 'Drama/Television', 'Format': 'Multiple Formats, Color, NTSC', 'Contributor': 'Rebecca Gayheart and Angus T. Jones, Neal Patrick Harris, Rob Lowe, Karen Arthur', 'Language': 'Unqualified', 'Runtime': '2 hours', 'Aspect Ratio': '1.33:1', 'Is Discontinued By Manufacturer': 'No', 'MPAA rating': 'NR (Not Rated)', 'Product Dimensions': '0.64 x 5.5 x 7.64 inches; 4 Ounces', 'Item model num...</td>\n",
       "      <td>4.7</td>\n",
       "    </tr>\n",
       "    <tr>\n",
       "      <th>9</th>\n",
       "      <td>B01M4FG884</td>\n",
       "      <td>Pride and Prejudice</td>\n",
       "      <td>Jane Austen's classic is transplanted to modern-day Utah. While her college roommates search for love, aspiring writer Elizabeth Bennet focuses on her career but constantly finds herself fighting haughty businessman Will Darcy.</td>\n",
       "      <td>Comedy, Romance, Fun</td>\n",
       "      <td>None</td>\n",
       "      <td>{'Content advisory': ['Violence', 'foul language', 'sexual content'], 'Audio languages': ['English'], 'Subtitles': ['English [CC]'], 'Directors': ['Andrew Black'], 'Producers': ['Daniel Shanthakumar', 'T. Kent Elliott', 'Elizabeth Faller', 'Jason Faller', 'Ray Frye', 'Jo Ann Givan', 'Larry E. Givan', 'Kynan Griffin', 'Mary Kirkham', 'Ajmer Singh', 'Harpal S. Toor', 'Anne Woolley', 'Ronald Wool...</td>\n",
       "      <td>3.4</td>\n",
       "    </tr>\n",
       "  </tbody>\n",
       "</table>\n",
       "</div>"
      ],
      "text/plain": [
       "       ItemId                            Title  \\\n",
       "0  B07R6X1PFL          The Curse of La Llorona   \n",
       "1  B00SB2OYL0                       Paddington   \n",
       "2  B00IKM5LXG  I, Frankenstein [DVD + Digital]   \n",
       "3  B005CFC0L0            A Family Thanksgiving   \n",
       "4  B01LXMBWBN                  Across the Line   \n",
       "5  B01BECSBPI      Pride + Prejudice + Zombies   \n",
       "6  B07R4GGPRK                          Shazam!   \n",
       "7  B012PGBMD0            Changing of Ben Moore   \n",
       "8  B000TGKJQA           The Christmas Blessing   \n",
       "9  B01M4FG884              Pride and Prejudice   \n",
       "\n",
       "                                                                                                                                                                                                                                                                                                                                                                                                       Description  \\\n",
       "0                                                                                                                                                                                                                                                                                                A social worker investigating the disappearance of two children discovers her own family might also be in danger.   \n",
       "1                                                                                                                                                                                                                     Based on the beloved novels and featuring an all-star cast, PADDINGTON follows a young bear who finds himself in a series of comic misadventures while trying to avoid a museum taxidermist.   \n",
       "2                                                                                                                                                                       Frankenstein's creature, Adam, has survived into the present day due to a genetic quirk in his creation. Making his way to a dark, gothic metropolis, he finds himself caught in an all-out, centuries old war between two immortal clans.   \n",
       "3  Claudia ( Daphne Zuniga ) is a workaholic who wants more than anything to make partner at her law firm. To accomplish her goal, she has put everyone and everything else on the backburner. But when a mysterious woman ( Faye Dunaway ) uses a bit of magic to help Claudia realize what she's been missing, she gets a serious dose of reality. Transported into a life unlike her own—complete with a hus...   \n",
       "4                                                                                                                                                                                                                                                                       While investigating brutal killings on the border, a Texas sheriff uncovers corruption, dark secrets, and a mysterious, beautiful witness.   \n",
       "5                                                                                                                                                                                                                                 Jane Austen's classic tale of the tangled relationships between lovers from different social classes in 19th century England is faced with a new challenge - an army of zombies!   \n",
       "6                                                                                                                                                                     Billy Batson is a streetwise 14-year-old who can magically transform into the adult superhero Shazam simply by shouting out one word. His newfound powers soon get put to the test when he squares off against the evil Dr. Thaddeus Sivana.   \n",
       "7                                                                                                                                                                                                                                                        Demonic nightmares spiral out of control when Ben's dark dreams are caught on camera, drawing his friends into a sinister world of murder and possession.   \n",
       "8  Nathan Andrews has grown up and is now a medical resident. When the young doctor loses a patient, he begins to rethink his career and moves back home with his father. Just as Nathan is settling in his world begins to crumble when the lives of the woman he loves and an innocent young boy are in crisis. Nathan finds himself questioning God, fate and the fragility of life, all the while hoping fo...   \n",
       "9                                                                                                                                                                              Jane Austen's classic is transplanted to modern-day Utah. While her college roommates search for love, aspiring writer Elizabeth Bennet focuses on her career but constantly finds herself fighting haughty businessman Will Darcy.   \n",
       "\n",
       "                                                         Category  price  \\\n",
       "0                            Suspense, Horror, Anxious, Emotional  12.99   \n",
       "1                                 Comedy, Kids, Charming, Playful   None   \n",
       "2  Movies & TV, Genre for Featured Categories, Action & Adventure   7.99   \n",
       "3       Movies & TV, Genre for Featured Categories, Kids & Family  24.95   \n",
       "4                           Suspense, Drama, Emotional, Harrowing   None   \n",
       "5                                 Action, Suspense, Exciting, Fun  16.29   \n",
       "6                                Fantasy, Comedy, Exciting, Sweet  13.49   \n",
       "7                                                          Horror   None   \n",
       "8         Movies & TV, Made-for-TV Movies, All Made-for-TV Movies   1.99   \n",
       "9                                            Comedy, Romance, Fun   None   \n",
       "\n",
       "                                                                                                                                                                                                                                                                                                                                                                                                           details  \\\n",
       "0                     {'Audio languages': ['English', 'English [Audio Description]'], 'Subtitles': ['English [CC]'], 'Directors': ['Michael Chaves'], 'Producers': ['Richard Brener', 'Michael Clear', 'Gary Dauberman', 'Emile Gladstone', 'Walter Hamada', 'Michelle Morrissey', 'Dave Neustadter', 'Victoria Palmeri', 'Judson Scott'], 'Starring': ['Linda Cardellini', 'Raymond Cruz', 'Patricia Velasquez']}   \n",
       "1                                                                                                                     {'Subtitles': ['None available'], 'Directors': ['Paul King'], 'Producers': ['David Heyman', 'Rosie Alison', 'Jeffrey Clifford', 'Alexandra Ferguson', 'Oliver Courson', 'Ron Halpern', 'Bob Weinstein', 'Harvey Weinstein'], 'Starring': ['Ben Whishaw', 'Nicole Kidman', 'Michael Gambon']}   \n",
       "2  {'Genre': 'Action', 'Format': 'Multiple Formats, Closed-captioned, NTSC, Color, Subtitled, Widescreen', 'Contributor': 'Aaron Eckhardt, Stuart Beattie, Bill Nighy, Miranda Otto', 'Language': 'English', 'Runtime': '1 hour and 33 minutes', 'Is Discontinued By Manufacturer': 'No', 'MPAA rating': 'PG-13 (Parents Strongly Cautioned)', 'Product Dimensions': '0.7 x 7.5 x 5.4 inches; 1.6 Ounces', 'Aud...   \n",
       "3  {'Genre': 'Kids & Family', 'Format': 'Multiple Formats, Color, Full Screen, NTSC', 'Contributor': 'Faye Dunaway, Daphne Zuniga, Neill Fearnley', 'Language': 'English', 'Runtime': '1 hour and 30 minutes', 'Is Discontinued By Manufacturer': 'No', 'MPAA rating': 'Unrated (Not Rated)', 'Product Dimensions': '7.75 x 5.5 x 0.5 inches; 2.4 Ounces', 'Director': 'Neill Fearnley', 'Media Format': 'Multi...   \n",
       "4                                                                                                                                                                                                                                           {'Subtitles': ['None available'], 'Directors': ['Martin Spotti'], 'Producers': ['Paul Toth', 'Niss Savag'], 'Starring': ['Brad Johnson', 'Sigal Erez', 'Brian Bloom']}   \n",
       "5                                                                                                                                             {'Content advisory': ['Violence', 'alcohol use', 'smoking', 'sexual content'], 'Audio languages': ['English'], 'Subtitles': ['English [CC]'], 'Directors': ['Burr Steers'], 'Producers': ['Natalie Portman'], 'Starring': ['Matt Smith', 'Lily James', 'Sam Riley']}   \n",
       "6                                                                                                                                                                                                                      {'Audio languages': ['English'], 'Subtitles': ['English [CC]'], 'Directors': ['David Sandberg'], 'Producers': ['Peter Safran'], 'Starring': ['Zachary Levi', 'Asher Angel', 'Mark Strong']}   \n",
       "7                                                                                                                                                                                                                             {'Subtitles': ['None available'], 'Directors': ['Jason Mills'], 'Producers': ['Jason Mills', 'Garnet Campbell'], 'Starring': ['Umberto Celisano', 'Corey Beaulieu', 'David Lloydy']}   \n",
       "8  {'Genre': 'Drama/Television', 'Format': 'Multiple Formats, Color, NTSC', 'Contributor': 'Rebecca Gayheart and Angus T. Jones, Neal Patrick Harris, Rob Lowe, Karen Arthur', 'Language': 'Unqualified', 'Runtime': '2 hours', 'Aspect Ratio': '1.33:1', 'Is Discontinued By Manufacturer': 'No', 'MPAA rating': 'NR (Not Rated)', 'Product Dimensions': '0.64 x 5.5 x 7.64 inches; 4 Ounces', 'Item model num...   \n",
       "9  {'Content advisory': ['Violence', 'foul language', 'sexual content'], 'Audio languages': ['English'], 'Subtitles': ['English [CC]'], 'Directors': ['Andrew Black'], 'Producers': ['Daniel Shanthakumar', 'T. Kent Elliott', 'Elizabeth Faller', 'Jason Faller', 'Ray Frye', 'Jo Ann Givan', 'Larry E. Givan', 'Kynan Griffin', 'Mary Kirkham', 'Ajmer Singh', 'Harpal S. Toor', 'Anne Woolley', 'Ronald Wool...   \n",
       "\n",
       "   average_rating  \n",
       "0             4.2  \n",
       "1             4.7  \n",
       "2             4.4  \n",
       "3             4.4  \n",
       "4             3.5  \n",
       "5             4.6  \n",
       "6             4.5  \n",
       "7             2.8  \n",
       "8             4.7  \n",
       "9             3.4  "
      ]
     },
     "execution_count": 16,
     "metadata": {},
     "output_type": "execute_result"
    }
   ],
   "source": [
    "item_ids = set(processed_session_df[\"ItemId\"].unique())\n",
    "processed_item_df = raw_item_des_df[raw_item_des_df[\"ItemId\"].isin(item_ids)].reset_index(drop=True)\n",
    "processed_item_df.head(10)"
   ]
  },
  {
   "cell_type": "code",
   "execution_count": 17,
   "metadata": {},
   "outputs": [],
   "source": [
    "session_id_to_int = {session_id: i for i, session_id in enumerate(set(processed_session_df[\"SessionId\"].unique()))}\n",
    "item_id_to_int = {item_id: i for i, item_id in enumerate(set(processed_item_df[\"ItemId\"].unique()))}\n",
    "\n",
    "assert all([item in item_id_to_int for item in set(processed_session_df[\"ItemId\"].unique())])\n",
    "\n",
    "processed_session_df[\"SessionId\"] = processed_session_df[\"SessionId\"].apply(lambda x : session_id_to_int[x])\n",
    "processed_session_df[\"ItemId\"] = processed_session_df[\"ItemId\"].apply(lambda x : item_id_to_int[x])\n",
    "\n",
    "processed_item_df[\"ItemId\"] = processed_item_df[\"ItemId\"].apply(lambda x : item_id_to_int[x])"
   ]
  },
  {
   "cell_type": "code",
   "execution_count": 18,
   "metadata": {},
   "outputs": [],
   "source": [
    "processed_session_df[\"Time\"] = pd.to_datetime(processed_session_df[\"Time\"])\n",
    "# processed_session_df[\"Time\"] = processed_session_df[\"Time\"].dt.strftime(\"%Y-%m-%d %H:%M:%S.%f\")"
   ]
  },
  {
   "cell_type": "code",
   "execution_count": 19,
   "metadata": {},
   "outputs": [
    {
     "data": {
      "application/vnd.microsoft.datawrangler.viewer.v0+json": {
       "columns": [
        {
         "name": "index",
         "rawType": "int64",
         "type": "integer"
        },
        {
         "name": "SessionId",
         "rawType": "int64",
         "type": "integer"
        },
        {
         "name": "ItemId",
         "rawType": "int64",
         "type": "integer"
        },
        {
         "name": "Time",
         "rawType": "datetime64[ns]",
         "type": "datetime"
        },
        {
         "name": "Rating",
         "rawType": "float64",
         "type": "float"
        },
        {
         "name": "Text",
         "rawType": "object",
         "type": "unknown"
        }
       ],
       "ref": "4b00e604-5d77-4735-a7e9-dcd7d6f33b71",
       "rows": [
        [
         "27",
         "285",
         "3592",
         "1970-01-01 00:15:20.069848",
         "1.0",
         "I have to say this is the biggest letdown I have had in the past 10 years.  L. DiCaprio is pathetic.  The other actors are sleep walking through the entire thing, probably regretting the fact that they were ever involved and  wanting to end their self-induced torture as quickly as possible.<br />If you  are brain damaged or a 14 year old acne faced female in love with L.  DiCaprio you will enjoy this film.  If you have enjoyed previous  adaptations of Alexander Dumas' Musketeer stories or can recognize bad  acting then you will be looking for a garbage can to throw up in (Better  get a bucket!).  If you paid money and saw this in the theatre without  violently demanding a refund afterwards, I admire your Olympian  self-restraint."
        ],
        [
         "67",
         "16853",
         "3020",
         "1970-01-01 00:15:43.624858",
         "5.0",
         "This is a great movie and it really hit home as we have a 15 year old blind Arabian mare. Even though she is blind she is smart, a great trail horse and mother. She has the courage to prove not all blind horses are  worthless. She will never be sold and has found a loving home with us.  Though she has been banned from riding competition due to her blindness she  is taken on long trail rides, and loves to go. She is great and we love  her. If you watch this movie it will help you see that not all people are  cruel."
        ],
        [
         "68",
         "16853",
         "3020",
         "1970-01-01 00:15:43.624858",
         "5.0",
         "This is a great movie and it really hit home as we have a 15 year old blind Arabian mare. Even though she is blind she is smart, a great trail horse and mother. She has the courage to prove not all blind horses are  worthless. She will never be sold and has found a loving home with us.  Though she has been banned from riding competition due to her blindness she  is taken on long trail rides, and loves to go. She is great and we love  her. If you watch this movie it will help you see that not all people are  cruel."
        ],
        [
         "69",
         "16853",
         "3020",
         "1970-01-01 00:15:43.624858",
         "5.0",
         "This is a great movie and it really hit home as we have a 15 year old blind Arabian mare. Even though she is blind she is smart, a great trail horse and mother. She has the courage to prove not all blind horses are  worthless. She will never be sold and has found a loving home with us.  Though she has been banned from riding competition due to her blindness she  is taken on long trail rides, and loves to go. She is great and we love  her. If you watch this movie it will help you see that not all people are  cruel."
        ],
        [
         "70",
         "16853",
         "3020",
         "1970-01-01 00:15:43.624858",
         "5.0",
         "This is a great movie and it really hit home as we have a 15 year old blind Arabian mare. Even though she is blind she is smart, a great trail horse and mother. She has the courage to prove not all blind horses are  worthless. She will never be sold and has found a loving home with us.  Though she has been banned from riding competition due to her blindness she  is taken on long trail rides, and loves to go. She is great and we love  her. If you watch this movie it will help you see that not all people are  cruel."
        ],
        [
         "71",
         "16853",
         "3020",
         "1970-01-01 00:15:43.624858",
         "5.0",
         "This is a great movie and it really hit home as we have a 15 year old blind Arabian mare. Even though she is blind she is smart, a great trail horse and mother. She has the courage to prove not all blind horses are  worthless. She will never be sold and has found a loving home with us.  Though she has been banned from riding competition due to her blindness she  is taken on long trail rides, and loves to go. She is great and we love  her. If you watch this movie it will help you see that not all people are  cruel."
        ],
        [
         "72",
         "16853",
         "3020",
         "1970-01-01 00:15:43.624858",
         "5.0",
         "This is a great movie and it really hit home as we have a 15 year old blind Arabian mare. Even though she is blind she is smart, a great trail horse and mother. She has the courage to prove not all blind horses are  worthless. She will never be sold and has found a loving home with us.  Though she has been banned from riding competition due to her blindness she  is taken on long trail rides, and loves to go. She is great and we love  her. If you watch this movie it will help you see that not all people are  cruel."
        ],
        [
         "207",
         "1937",
         "5420",
         "1970-01-01 00:15:59.602815",
         "5.0",
         "I was interested but figured i'd see another sloppy recreation.  Instead I saw dinosaurs - images that will stay with me forever.  Better, I saw them in the newer form of nature documentary which combines a story with hard  facts.  Best of all are the segments where scientist frankly discuss what  is known and what is not known.  I was riveted and could not stop watching."
        ],
        [
         "208",
         "1937",
         "5420",
         "1970-01-01 00:15:59.602815",
         "5.0",
         "I was interested but figured i'd see another sloppy recreation.  Instead I saw dinosaurs - images that will stay with me forever.  Better, I saw them in the newer form of nature documentary which combines a story with hard  facts.  Best of all are the segments where scientist frankly discuss what  is known and what is not known.  I was riveted and could not stop watching."
        ],
        [
         "209",
         "1937",
         "5420",
         "1970-01-01 00:15:59.602815",
         "5.0",
         "I was interested but figured i'd see another sloppy recreation.  Instead I saw dinosaurs - images that will stay with me forever.  Better, I saw them in the newer form of nature documentary which combines a story with hard  facts.  Best of all are the segments where scientist frankly discuss what  is known and what is not known.  I was riveted and could not stop watching."
        ],
        [
         "210",
         "1937",
         "5420",
         "1970-01-01 00:15:59.602815",
         "5.0",
         "I was interested but figured i'd see another sloppy recreation.  Instead I saw dinosaurs - images that will stay with me forever.  Better, I saw them in the newer form of nature documentary which combines a story with hard  facts.  Best of all are the segments where scientist frankly discuss what  is known and what is not known.  I was riveted and could not stop watching."
        ],
        [
         "211",
         "1937",
         "5420",
         "1970-01-01 00:15:59.602815",
         "5.0",
         "I was interested but figured i'd see another sloppy recreation.  Instead I saw dinosaurs - images that will stay with me forever.  Better, I saw them in the newer form of nature documentary which combines a story with hard  facts.  Best of all are the segments where scientist frankly discuss what  is known and what is not known.  I was riveted and could not stop watching."
        ],
        [
         "248",
         "12831",
         "3041",
         "1970-01-01 00:16:03.107651",
         "5.0",
         "I think the author did a wickid job! It was the best movie I've ever seen. It was so great, I mean there are'nt enough words to describe it! After watching it, it was like all the fairy tales, and make-belief stories I  watched as a child put together so that everything made sense.It really  brought back the kid in me:] It really kept my interest too. Right until  the very last minute! As the movie was just ending I glanced at the time. I  thought has it really been six hours?  I had gotten so carried away in all  the excitement. But over all it was the kewlist movie I've ever seen. I  can't wait until the next one!  Kelly, 14"
        ],
        [
         "247",
         "12831",
         "3041",
         "1970-01-01 00:16:03.107651",
         "5.0",
         "I think the author did a wickid job! It was the best movie I've ever seen. It was so great, I mean there are'nt enough words to describe it! After watching it, it was like all the fairy tales, and make-belief stories I  watched as a child put together so that everything made sense.It really  brought back the kid in me:] It really kept my interest too. Right until  the very last minute! As the movie was just ending I glanced at the time. I  thought has it really been six hours?  I had gotten so carried away in all  the excitement. But over all it was the kewlist movie I've ever seen. I  can't wait until the next one!  Kelly, 14"
        ],
        [
         "246",
         "12831",
         "3041",
         "1970-01-01 00:16:03.107651",
         "5.0",
         "I think the author did a wickid job! It was the best movie I've ever seen. It was so great, I mean there are'nt enough words to describe it! After watching it, it was like all the fairy tales, and make-belief stories I  watched as a child put together so that everything made sense.It really  brought back the kid in me:] It really kept my interest too. Right until  the very last minute! As the movie was just ending I glanced at the time. I  thought has it really been six hours?  I had gotten so carried away in all  the excitement. But over all it was the kewlist movie I've ever seen. I  can't wait until the next one!  Kelly, 14"
        ],
        [
         "245",
         "12831",
         "3041",
         "1970-01-01 00:16:03.107651",
         "5.0",
         "I think the author did a wickid job! It was the best movie I've ever seen. It was so great, I mean there are'nt enough words to describe it! After watching it, it was like all the fairy tales, and make-belief stories I  watched as a child put together so that everything made sense.It really  brought back the kid in me:] It really kept my interest too. Right until  the very last minute! As the movie was just ending I glanced at the time. I  thought has it really been six hours?  I had gotten so carried away in all  the excitement. But over all it was the kewlist movie I've ever seen. I  can't wait until the next one!  Kelly, 14"
        ],
        [
         "244",
         "12831",
         "3041",
         "1970-01-01 00:16:03.107651",
         "5.0",
         "I think the author did a wickid job! It was the best movie I've ever seen. It was so great, I mean there are'nt enough words to describe it! After watching it, it was like all the fairy tales, and make-belief stories I  watched as a child put together so that everything made sense.It really  brought back the kid in me:] It really kept my interest too. Right until  the very last minute! As the movie was just ending I glanced at the time. I  thought has it really been six hours?  I had gotten so carried away in all  the excitement. But over all it was the kewlist movie I've ever seen. I  can't wait until the next one!  Kelly, 14"
        ],
        [
         "243",
         "12831",
         "3041",
         "1970-01-01 00:16:03.107651",
         "5.0",
         "I think the author did a wickid job! It was the best movie I've ever seen. It was so great, I mean there are'nt enough words to describe it! After watching it, it was like all the fairy tales, and make-belief stories I  watched as a child put together so that everything made sense.It really  brought back the kid in me:] It really kept my interest too. Right until  the very last minute! As the movie was just ending I glanced at the time. I  thought has it really been six hours?  I had gotten so carried away in all  the excitement. But over all it was the kewlist movie I've ever seen. I  can't wait until the next one!  Kelly, 14"
        ],
        [
         "325",
         "12740",
         "1778",
         "1970-01-01 00:16:13.270053",
         "3.0",
         "I purchased this video for my kids in the hopes that it would be somewhat like the traditional story, but I soon realized that it was very different. It's not really meant for children; they cannot grasp the significance of the new story. I wonder if some adults would get the full meaning, either!<br />This video also features jazz music, which most children and teens won't fully appreciate. It's a video for adults! They'll think it's pretty good."
        ],
        [
         "326",
         "12740",
         "1778",
         "1970-01-01 00:16:13.270053",
         "3.0",
         "I purchased this video for my kids in the hopes that it would be somewhat like the traditional story, but I soon realized that it was very different. It's not really meant for children; they cannot grasp the significance of the new story. I wonder if some adults would get the full meaning, either!<br />This video also features jazz music, which most children and teens won't fully appreciate. It's a video for adults! They'll think it's pretty good."
        ],
        [
         "327",
         "12740",
         "1778",
         "1970-01-01 00:16:13.270053",
         "3.0",
         "I purchased this video for my kids in the hopes that it would be somewhat like the traditional story, but I soon realized that it was very different. It's not really meant for children; they cannot grasp the significance of the new story. I wonder if some adults would get the full meaning, either!<br />This video also features jazz music, which most children and teens won't fully appreciate. It's a video for adults! They'll think it's pretty good."
        ],
        [
         "328",
         "12740",
         "1778",
         "1970-01-01 00:16:13.270053",
         "3.0",
         "I purchased this video for my kids in the hopes that it would be somewhat like the traditional story, but I soon realized that it was very different. It's not really meant for children; they cannot grasp the significance of the new story. I wonder if some adults would get the full meaning, either!<br />This video also features jazz music, which most children and teens won't fully appreciate. It's a video for adults! They'll think it's pretty good."
        ],
        [
         "329",
         "12740",
         "1778",
         "1970-01-01 00:16:13.270053",
         "3.0",
         "I purchased this video for my kids in the hopes that it would be somewhat like the traditional story, but I soon realized that it was very different. It's not really meant for children; they cannot grasp the significance of the new story. I wonder if some adults would get the full meaning, either!<br />This video also features jazz music, which most children and teens won't fully appreciate. It's a video for adults! They'll think it's pretty good."
        ],
        [
         "354",
         "5790",
         "2031",
         "1970-01-01 00:16:17.247655",
         "1.0",
         "I want to warn others not to make the mistake I did.  This is not that beautiful director's cut which was issued on Laser and VHS.  If that is what you are looking for, WAIT.<br />I am completely in awe why the studio would release the trimmed down version of this film on DVD!<br />Please please release the 202 minute version."
        ],
        [
         "588",
         "19302",
         "4445",
         "1970-01-01 00:16:39.556173",
         "5.0",
         "This is possibly one of the greatest movies ever made.  i would strongly recommend it to anyone."
        ],
        [
         "589",
         "19302",
         "4445",
         "1970-01-01 00:16:39.556173",
         "5.0",
         "This is possibly one of the greatest movies ever made.  i would strongly recommend it to anyone."
        ],
        [
         "590",
         "19302",
         "4445",
         "1970-01-01 00:16:39.556173",
         "5.0",
         "This is possibly one of the greatest movies ever made.  i would strongly recommend it to anyone."
        ],
        [
         "665",
         "15223",
         "7852",
         "1970-01-01 00:16:44.955879",
         "3.0",
         "It's better than nothing, but Scrooge was not such an over-acting robust person, as Patrick Stewart. This marvelous book has never been done accurately. All someone has to do is just use the words from the book. Scrooges little sisters name was Fan not Fran."
        ],
        [
         "687",
         "16911",
         "9547",
         "1970-01-01 00:16:46.561662",
         "4.0",
         "This is a great movie my brother and I saw it three times in the theatre and have rented it over ten times."
        ],
        [
         "686",
         "16911",
         "9547",
         "1970-01-01 00:16:46.561662",
         "4.0",
         "This is a great movie my brother and I saw it three times in the theatre and have rented it over ten times."
        ],
        [
         "688",
         "16911",
         "9547",
         "1970-01-01 00:16:46.561662",
         "4.0",
         "This is a great movie my brother and I saw it three times in the theatre and have rented it over ten times."
        ],
        [
         "684",
         "16911",
         "9547",
         "1970-01-01 00:16:46.561662",
         "4.0",
         "This is a great movie my brother and I saw it three times in the theatre and have rented it over ten times."
        ],
        [
         "683",
         "16911",
         "9547",
         "1970-01-01 00:16:46.561662",
         "4.0",
         "This is a great movie my brother and I saw it three times in the theatre and have rented it over ten times."
        ],
        [
         "685",
         "16911",
         "9547",
         "1970-01-01 00:16:46.561662",
         "4.0",
         "This is a great movie my brother and I saw it three times in the theatre and have rented it over ten times."
        ],
        [
         "858",
         "1562",
         "4718",
         "1970-01-01 00:17:00.116255",
         "5.0",
         "The Day the Earth Stood Still is a brilliant movie. It's old and the special effects would be considered silly by current standards but the story is smart, compelling, and rational.<br />This movie easily stands as a science fiction classic."
        ],
        [
         "871",
         "1141",
         "4648",
         "1970-01-01 00:17:01.956944",
         "1.0",
         "I love N. Kidman and in my mind she can do no wrong. That is my view and she did an outstanding job in her acting with this movie. The problem was this movie was insulting to anyone with a mind. It lacked everything and I rate it up with the Spice World Movie. Just to be clear I know books are better than movies and I do not expect movies to be real detailed or have strong plots. With a movie you get two hours of fun and with this I felt cheated."
        ],
        [
         "1031",
         "6101",
         "6450",
         "1970-01-01 00:17:16.718512",
         "2.0",
         "Don't get me wrong, I like bad movies. I watch all the Freedy Krugers, and Dumb and Dumber, Ace Venturas, Tromas, ect.  But this one is awful. The worst! Especially to see it now! You expect to see Bin Laden show up to shake Rambo's hand. Now that we know that Rambo and Trautman put el Quaida and the Taliban in power, I generally root for the Russians! Yes, it's that BAD! And the worse part is, it's true, America did do this, and now our guys are back there fighting the same evil that faced the Russian boys. Will Rambo go back?"
        ],
        [
         "1030",
         "6101",
         "6450",
         "1970-01-01 00:17:16.718512",
         "2.0",
         "Don't get me wrong, I like bad movies. I watch all the Freedy Krugers, and Dumb and Dumber, Ace Venturas, Tromas, ect.  But this one is awful. The worst! Especially to see it now! You expect to see Bin Laden show up to shake Rambo's hand. Now that we know that Rambo and Trautman put el Quaida and the Taliban in power, I generally root for the Russians! Yes, it's that BAD! And the worse part is, it's true, America did do this, and now our guys are back there fighting the same evil that faced the Russian boys. Will Rambo go back?"
        ],
        [
         "1029",
         "6101",
         "6450",
         "1970-01-01 00:17:16.718512",
         "2.0",
         "Don't get me wrong, I like bad movies. I watch all the Freedy Krugers, and Dumb and Dumber, Ace Venturas, Tromas, ect.  But this one is awful. The worst! Especially to see it now! You expect to see Bin Laden show up to shake Rambo's hand. Now that we know that Rambo and Trautman put el Quaida and the Taliban in power, I generally root for the Russians! Yes, it's that BAD! And the worse part is, it's true, America did do this, and now our guys are back there fighting the same evil that faced the Russian boys. Will Rambo go back?"
        ],
        [
         "1027",
         "6101",
         "6450",
         "1970-01-01 00:17:16.718512",
         "2.0",
         "Don't get me wrong, I like bad movies. I watch all the Freedy Krugers, and Dumb and Dumber, Ace Venturas, Tromas, ect.  But this one is awful. The worst! Especially to see it now! You expect to see Bin Laden show up to shake Rambo's hand. Now that we know that Rambo and Trautman put el Quaida and the Taliban in power, I generally root for the Russians! Yes, it's that BAD! And the worse part is, it's true, America did do this, and now our guys are back there fighting the same evil that faced the Russian boys. Will Rambo go back?"
        ],
        [
         "1026",
         "6101",
         "6450",
         "1970-01-01 00:17:16.718512",
         "2.0",
         "Don't get me wrong, I like bad movies. I watch all the Freedy Krugers, and Dumb and Dumber, Ace Venturas, Tromas, ect.  But this one is awful. The worst! Especially to see it now! You expect to see Bin Laden show up to shake Rambo's hand. Now that we know that Rambo and Trautman put el Quaida and the Taliban in power, I generally root for the Russians! Yes, it's that BAD! And the worse part is, it's true, America did do this, and now our guys are back there fighting the same evil that faced the Russian boys. Will Rambo go back?"
        ],
        [
         "1028",
         "6101",
         "6450",
         "1970-01-01 00:17:16.718512",
         "2.0",
         "Don't get me wrong, I like bad movies. I watch all the Freedy Krugers, and Dumb and Dumber, Ace Venturas, Tromas, ect.  But this one is awful. The worst! Especially to see it now! You expect to see Bin Laden show up to shake Rambo's hand. Now that we know that Rambo and Trautman put el Quaida and the Taliban in power, I generally root for the Russians! Yes, it's that BAD! And the worse part is, it's true, America did do this, and now our guys are back there fighting the same evil that faced the Russian boys. Will Rambo go back?"
        ],
        [
         "1138",
         "10080",
         "8806",
         "1970-01-01 00:17:30.089106",
         "1.0",
         "being a huge fan of lucio fulci,bought this to add to collection of his other dvds that i owned,bad mistake.The storyline is poor,and frankly is the worst he has ever made,no gore really apart from beginning,just a stupid idea.avoid it at all costs."
        ],
        [
         "1134",
         "10080",
         "8806",
         "1970-01-01 00:17:30.089106",
         "1.0",
         "being a huge fan of lucio fulci,bought this to add to collection of his other dvds that i owned,bad mistake.The storyline is poor,and frankly is the worst he has ever made,no gore really apart from beginning,just a stupid idea.avoid it at all costs."
        ],
        [
         "1135",
         "10080",
         "8806",
         "1970-01-01 00:17:30.089106",
         "1.0",
         "being a huge fan of lucio fulci,bought this to add to collection of his other dvds that i owned,bad mistake.The storyline is poor,and frankly is the worst he has ever made,no gore really apart from beginning,just a stupid idea.avoid it at all costs."
        ],
        [
         "1136",
         "10080",
         "8806",
         "1970-01-01 00:17:30.089106",
         "1.0",
         "being a huge fan of lucio fulci,bought this to add to collection of his other dvds that i owned,bad mistake.The storyline is poor,and frankly is the worst he has ever made,no gore really apart from beginning,just a stupid idea.avoid it at all costs."
        ],
        [
         "1137",
         "10080",
         "8806",
         "1970-01-01 00:17:30.089106",
         "1.0",
         "being a huge fan of lucio fulci,bought this to add to collection of his other dvds that i owned,bad mistake.The storyline is poor,and frankly is the worst he has ever made,no gore really apart from beginning,just a stupid idea.avoid it at all costs."
        ],
        [
         "1139",
         "10080",
         "8806",
         "1970-01-01 00:17:30.089106",
         "1.0",
         "being a huge fan of lucio fulci,bought this to add to collection of his other dvds that i owned,bad mistake.The storyline is poor,and frankly is the worst he has ever made,no gore really apart from beginning,just a stupid idea.avoid it at all costs."
        ],
        [
         "1184",
         "5383",
         "9084",
         "1970-01-01 00:17:37.618743",
         "5.0",
         "I love this DVD!  I grew up in front of the television with my cup of Captain Crunch and watching Schoolhouse Rock every Saturday morning.  I remember more about basic mathematics, grammar and history from this series than from my elementary school classes.  I can still sing the Preamble to the United States Constitution, \"Figure Eight\", \"Conjunction Junction\" and \"I'm Just a Bill\" more than 30 years later.  It's a timeless educational classic for those of us who grew up in the '70s and for the generations that have followed!"
        ],
        [
         "1221",
         "13449",
         "4615",
         "1970-01-01 00:17:43.256922",
         "5.0",
         "I particularly liked the parts in which the director and friends talk about what went on in each scene.  I also liked seeing the different scenes that didn't make it to the Sci Fi version."
        ]
       ],
       "shape": {
        "columns": 5,
        "rows": 140689
       }
      },
      "text/html": [
       "<div>\n",
       "<style scoped>\n",
       "    .dataframe tbody tr th:only-of-type {\n",
       "        vertical-align: middle;\n",
       "    }\n",
       "\n",
       "    .dataframe tbody tr th {\n",
       "        vertical-align: top;\n",
       "    }\n",
       "\n",
       "    .dataframe thead th {\n",
       "        text-align: right;\n",
       "    }\n",
       "</style>\n",
       "<table border=\"1\" class=\"dataframe\">\n",
       "  <thead>\n",
       "    <tr style=\"text-align: right;\">\n",
       "      <th></th>\n",
       "      <th>SessionId</th>\n",
       "      <th>ItemId</th>\n",
       "      <th>Time</th>\n",
       "      <th>Rating</th>\n",
       "      <th>Text</th>\n",
       "    </tr>\n",
       "  </thead>\n",
       "  <tbody>\n",
       "    <tr>\n",
       "      <th>27</th>\n",
       "      <td>285</td>\n",
       "      <td>3592</td>\n",
       "      <td>1970-01-01 00:15:20.069848000</td>\n",
       "      <td>1.0</td>\n",
       "      <td>I have to say this is the biggest letdown I have had in the past 10 years.  L. DiCaprio is pathetic.  The other actors are sleep walking through the entire thing, probably regretting the fact that they were ever involved and  wanting to end their self-induced torture as quickly as possible.&lt;br /&gt;If you  are brain damaged or a 14 year old acne faced female in love with L.  DiCaprio you will enj...</td>\n",
       "    </tr>\n",
       "    <tr>\n",
       "      <th>67</th>\n",
       "      <td>16853</td>\n",
       "      <td>3020</td>\n",
       "      <td>1970-01-01 00:15:43.624858000</td>\n",
       "      <td>5.0</td>\n",
       "      <td>This is a great movie and it really hit home as we have a 15 year old blind Arabian mare. Even though she is blind she is smart, a great trail horse and mother. She has the courage to prove not all blind horses are  worthless. She will never be sold and has found a loving home with us.  Though she has been banned from riding competition due to her blindness she  is taken on long trail rides, a...</td>\n",
       "    </tr>\n",
       "    <tr>\n",
       "      <th>68</th>\n",
       "      <td>16853</td>\n",
       "      <td>3020</td>\n",
       "      <td>1970-01-01 00:15:43.624858000</td>\n",
       "      <td>5.0</td>\n",
       "      <td>This is a great movie and it really hit home as we have a 15 year old blind Arabian mare. Even though she is blind she is smart, a great trail horse and mother. She has the courage to prove not all blind horses are  worthless. She will never be sold and has found a loving home with us.  Though she has been banned from riding competition due to her blindness she  is taken on long trail rides, a...</td>\n",
       "    </tr>\n",
       "    <tr>\n",
       "      <th>69</th>\n",
       "      <td>16853</td>\n",
       "      <td>3020</td>\n",
       "      <td>1970-01-01 00:15:43.624858000</td>\n",
       "      <td>5.0</td>\n",
       "      <td>This is a great movie and it really hit home as we have a 15 year old blind Arabian mare. Even though she is blind she is smart, a great trail horse and mother. She has the courage to prove not all blind horses are  worthless. She will never be sold and has found a loving home with us.  Though she has been banned from riding competition due to her blindness she  is taken on long trail rides, a...</td>\n",
       "    </tr>\n",
       "    <tr>\n",
       "      <th>70</th>\n",
       "      <td>16853</td>\n",
       "      <td>3020</td>\n",
       "      <td>1970-01-01 00:15:43.624858000</td>\n",
       "      <td>5.0</td>\n",
       "      <td>This is a great movie and it really hit home as we have a 15 year old blind Arabian mare. Even though she is blind she is smart, a great trail horse and mother. She has the courage to prove not all blind horses are  worthless. She will never be sold and has found a loving home with us.  Though she has been banned from riding competition due to her blindness she  is taken on long trail rides, a...</td>\n",
       "    </tr>\n",
       "    <tr>\n",
       "      <th>...</th>\n",
       "      <td>...</td>\n",
       "      <td>...</td>\n",
       "      <td>...</td>\n",
       "      <td>...</td>\n",
       "      <td>...</td>\n",
       "    </tr>\n",
       "    <tr>\n",
       "      <th>354753</th>\n",
       "      <td>17869</td>\n",
       "      <td>8769</td>\n",
       "      <td>1970-01-01 00:28:12.377458846</td>\n",
       "      <td>5.0</td>\n",
       "      <td>El producto está en perfectas condiciones y fue entregado en la fecha pautada. ¡Excelente edición de Blu ray para esta película! ¡Un clásico del cine!</td>\n",
       "    </tr>\n",
       "    <tr>\n",
       "      <th>354762</th>\n",
       "      <td>171</td>\n",
       "      <td>4211</td>\n",
       "      <td>1970-01-01 00:28:12.686618530</td>\n",
       "      <td>5.0</td>\n",
       "      <td>Received DVD in DVD package received yesterday!  Awesome transaction!  Many thanx!</td>\n",
       "    </tr>\n",
       "    <tr>\n",
       "      <th>354763</th>\n",
       "      <td>171</td>\n",
       "      <td>10843</td>\n",
       "      <td>1970-01-01 00:28:12.686745663</td>\n",
       "      <td>5.0</td>\n",
       "      <td>Received DVD in DVD package received yesterday!  Awesome transaction!  Many thanx!</td>\n",
       "    </tr>\n",
       "    <tr>\n",
       "      <th>354764</th>\n",
       "      <td>171</td>\n",
       "      <td>5869</td>\n",
       "      <td>1970-01-01 00:28:12.686774248</td>\n",
       "      <td>5.0</td>\n",
       "      <td>Received DVD in DVD package received yesterday!  Awesome transaction!  Many thanx!</td>\n",
       "    </tr>\n",
       "    <tr>\n",
       "      <th>354767</th>\n",
       "      <td>171</td>\n",
       "      <td>923</td>\n",
       "      <td>1970-01-01 00:28:12.686888571</td>\n",
       "      <td>5.0</td>\n",
       "      <td>Received DVD in DVD package received yesterday!  Awesome transaction!  Many thanx!</td>\n",
       "    </tr>\n",
       "  </tbody>\n",
       "</table>\n",
       "<p>140689 rows × 5 columns</p>\n",
       "</div>"
      ],
      "text/plain": [
       "        SessionId  ItemId                          Time  Rating  \\\n",
       "27            285    3592 1970-01-01 00:15:20.069848000     1.0   \n",
       "67          16853    3020 1970-01-01 00:15:43.624858000     5.0   \n",
       "68          16853    3020 1970-01-01 00:15:43.624858000     5.0   \n",
       "69          16853    3020 1970-01-01 00:15:43.624858000     5.0   \n",
       "70          16853    3020 1970-01-01 00:15:43.624858000     5.0   \n",
       "...           ...     ...                           ...     ...   \n",
       "354753      17869    8769 1970-01-01 00:28:12.377458846     5.0   \n",
       "354762        171    4211 1970-01-01 00:28:12.686618530     5.0   \n",
       "354763        171   10843 1970-01-01 00:28:12.686745663     5.0   \n",
       "354764        171    5869 1970-01-01 00:28:12.686774248     5.0   \n",
       "354767        171     923 1970-01-01 00:28:12.686888571     5.0   \n",
       "\n",
       "                                                                                                                                                                                                                                                                                                                                                                                                                   Text  \n",
       "27      I have to say this is the biggest letdown I have had in the past 10 years.  L. DiCaprio is pathetic.  The other actors are sleep walking through the entire thing, probably regretting the fact that they were ever involved and  wanting to end their self-induced torture as quickly as possible.<br />If you  are brain damaged or a 14 year old acne faced female in love with L.  DiCaprio you will enj...  \n",
       "67      This is a great movie and it really hit home as we have a 15 year old blind Arabian mare. Even though she is blind she is smart, a great trail horse and mother. She has the courage to prove not all blind horses are  worthless. She will never be sold and has found a loving home with us.  Though she has been banned from riding competition due to her blindness she  is taken on long trail rides, a...  \n",
       "68      This is a great movie and it really hit home as we have a 15 year old blind Arabian mare. Even though she is blind she is smart, a great trail horse and mother. She has the courage to prove not all blind horses are  worthless. She will never be sold and has found a loving home with us.  Though she has been banned from riding competition due to her blindness she  is taken on long trail rides, a...  \n",
       "69      This is a great movie and it really hit home as we have a 15 year old blind Arabian mare. Even though she is blind she is smart, a great trail horse and mother. She has the courage to prove not all blind horses are  worthless. She will never be sold and has found a loving home with us.  Though she has been banned from riding competition due to her blindness she  is taken on long trail rides, a...  \n",
       "70      This is a great movie and it really hit home as we have a 15 year old blind Arabian mare. Even though she is blind she is smart, a great trail horse and mother. She has the courage to prove not all blind horses are  worthless. She will never be sold and has found a loving home with us.  Though she has been banned from riding competition due to her blindness she  is taken on long trail rides, a...  \n",
       "...                                                                                                                                                                                                                                                                                                                                                                                                                 ...  \n",
       "354753                                                                                                                                                                                                                                                           El producto está en perfectas condiciones y fue entregado en la fecha pautada. ¡Excelente edición de Blu ray para esta película! ¡Un clásico del cine!  \n",
       "354762                                                                                                                                                                                                                                                                                                                               Received DVD in DVD package received yesterday!  Awesome transaction!  Many thanx!  \n",
       "354763                                                                                                                                                                                                                                                                                                                               Received DVD in DVD package received yesterday!  Awesome transaction!  Many thanx!  \n",
       "354764                                                                                                                                                                                                                                                                                                                               Received DVD in DVD package received yesterday!  Awesome transaction!  Many thanx!  \n",
       "354767                                                                                                                                                                                                                                                                                                                               Received DVD in DVD package received yesterday!  Awesome transaction!  Many thanx!  \n",
       "\n",
       "[140689 rows x 5 columns]"
      ]
     },
     "execution_count": 19,
     "metadata": {},
     "output_type": "execute_result"
    }
   ],
   "source": [
    "processed_session_df"
   ]
  },
  {
   "cell_type": "code",
   "execution_count": 20,
   "metadata": {},
   "outputs": [
    {
     "name": "stdout",
     "output_type": "stream",
     "text": [
      "15744\n",
      "3937\n"
     ]
    }
   ],
   "source": [
    "# split sessions into train and test based on final item time\n",
    "TEST_FRAC = 0.2\n",
    "\n",
    "# sorted_session_times = processed_session_df.groupby(\"SessionId\")[\"Time\"].max()\n",
    "# sorted_session_times = sorted_session_times.sort_values().reset_index()\n",
    "n_sessions = processed_session_df[\"SessionId\"].nunique()\n",
    "n_test_sessions = math.ceil(TEST_FRAC * n_sessions)\n",
    "n_train_sessions = n_sessions - n_test_sessions\n",
    "\n",
    "train_ids, test_ids = np.array_split(\n",
    "    processed_session_df[\"SessionId\"].unique(), [n_train_sessions]\n",
    ")\n",
    "\n",
    "print(len(train_ids))\n",
    "print(len(test_ids))"
   ]
  },
  {
   "cell_type": "code",
   "execution_count": 21,
   "metadata": {},
   "outputs": [
    {
     "name": "stderr",
     "output_type": "stream",
     "text": [
      "/var/folders/50/7hjr20g17_18p725nbt0qqv00000gn/T/ipykernel_20412/3927033471.py:13: DeprecationWarning: `in1d` is deprecated. Use `np.isin` instead.\n",
      "  test_df = test_df[np.in1d(test_df.SessionId, ts_length[ts_length >= 5].index)]\n"
     ]
    }
   ],
   "source": [
    "train_df = processed_session_df[processed_session_df[\"SessionId\"].isin(train_ids)]\n",
    "test_df = processed_session_df[processed_session_df[\"SessionId\"].isin(test_ids)]\n",
    "\n",
    "# remove test sessions that have cold items\n",
    "train_item_ids_unique = train_df[\"ItemId\"].unique()\n",
    "test_item_ids_unique = test_df[\"ItemId\"].unique()\n",
    "common_items_index = np.isin(test_item_ids_unique, train_item_ids_unique)\n",
    "items_to_keep = test_item_ids_unique[common_items_index]\n",
    "test_df = test_df.loc[test_df[\"ItemId\"].isin(items_to_keep)]\n",
    "\n",
    "ts_length = test_df.groupby(\"SessionId\").size()\n",
    "# This operation might create unit sessions, which are taken out as well.\n",
    "test_df = test_df[np.in1d(test_df.SessionId, ts_length[ts_length >= 5].index)]\n",
    "\n",
    "train_df = train_df.reset_index(drop=True).sort_values([\"SessionId\", \"Time\"])\n",
    "test_df = test_df.reset_index(drop=True).sort_values([\"SessionId\", \"Time\"])"
   ]
  },
  {
   "cell_type": "code",
   "execution_count": 22,
   "metadata": {},
   "outputs": [],
   "source": [
    "# reindex\n",
    "train_item_ids_unique = train_df[\"ItemId\"].unique()\n",
    "test_item_ids_unique = test_df[\"ItemId\"].unique()\n",
    "processed_item_df = processed_item_df.loc[processed_item_df[\"ItemId\"].isin(train_item_ids_unique)]\n",
    "\n",
    "item_id_to_int = {item_id: i for i, item_id in enumerate(train_item_ids_unique)}\n",
    "train_df[\"ItemId\"] = train_df[\"ItemId\"].apply(lambda x : item_id_to_int[x])\n",
    "test_df[\"ItemId\"] = test_df[\"ItemId\"].apply(lambda x : item_id_to_int[x])\n",
    "processed_item_df[\"ItemId\"] = processed_item_df[\"ItemId\"].apply(lambda x : item_id_to_int[x])"
   ]
  },
  {
   "cell_type": "code",
   "execution_count": 23,
   "metadata": {},
   "outputs": [],
   "source": [
    "# save train/test sessions\n",
    "train_sessions = []\n",
    "train_ratings = []\n",
    "for _, session_df in train_df.groupby(\"SessionId\"):\n",
    "    train_sessions.append(session_df[\"ItemId\"].tolist())\n",
    "    train_ratings.append((session_df[\"Rating\"].tolist(), session_df[\"Text\"].tolist()))\n",
    "\n",
    "test_sessions = []\n",
    "test_ratings = []\n",
    "for _, session_df in test_df.groupby(\"SessionId\"):\n",
    "    test_sessions.append(session_df[\"ItemId\"].tolist())\n",
    "    test_ratings.append((session_df[\"Rating\"].tolist(), session_df[\"Text\"].tolist()))\n",
    "\n",
    "# save as two files\n",
    "num_train, num_test = len(train_sessions), len(test_sessions)\n",
    "with open('train_test_sessions.pkl', 'wb') as handle:\n",
    "    pickle.dump((train_sessions, train_ratings, test_sessions, test_ratings), handle, protocol=pickle.HIGHEST_PROTOCOL)"
   ]
  },
  {
   "cell_type": "code",
   "execution_count": 24,
   "metadata": {},
   "outputs": [],
   "source": [
    "# save item descriptions\n",
    "item_data = {}\n",
    "for index, row in processed_item_df.iterrows():\n",
    "    item_data[row[\"ItemId\"]] = {\"Title\" : row[\"Title\"], \\\n",
    "                                \"Description\" : row[\"Description\"], \\\n",
    "                                \"Category\" : row[\"Category\"], \\\n",
    "                                \"Price\" : row[\"price\"], \\\n",
    "                                \"Average_rating\" : row[\"average_rating\"]}\n",
    "\n",
    "with open('item_data.pkl', 'wb') as handle:\n",
    "    pickle.dump(item_data, handle, protocol=pickle.HIGHEST_PROTOCOL)"
   ]
  },
  {
   "cell_type": "code",
   "execution_count": null,
   "metadata": {},
   "outputs": [],
   "source": []
  }
 ],
 "metadata": {
  "kernelspec": {
   "display_name": "THESIS",
   "language": "python",
   "name": "python3"
  },
  "language_info": {
   "codemirror_mode": {
    "name": "ipython",
    "version": 3
   },
   "file_extension": ".py",
   "mimetype": "text/x-python",
   "name": "python",
   "nbconvert_exporter": "python",
   "pygments_lexer": "ipython3",
   "version": "3.10.13"
  }
 },
 "nbformat": 4,
 "nbformat_minor": 2
}
