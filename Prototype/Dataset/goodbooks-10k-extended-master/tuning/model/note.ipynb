{
 "cells": [
  {
   "cell_type": "code",
   "execution_count": 1,
   "id": "e5676385",
   "metadata": {},
   "outputs": [
    {
     "name": "stdout",
     "output_type": "stream",
     "text": [
      "La media di tutti gli ndcg_score dal file 'pure_10_candidate2.json' è: 0.1473520860973432\n"
     ]
    }
   ],
   "source": [
    "import json\n",
    "\n",
    "# Definisci il nome del file da cui caricare i dati\n",
    "file_name = 'pure_10_candidate2.json'\n",
    "\n",
    "try:\n",
    "    # Apri il file in modalità lettura ('r')\n",
    "    # 'with' garantisce che il file venga chiuso correttamente alla fine\n",
    "    with open(file_name, 'r', encoding='utf-8') as f:\n",
    "        # Usa json.load() per leggere il file e convertirlo in una lista Python\n",
    "        data = json.load(f)\n",
    "\n",
    "    # --- Da qui in poi, la logica per il calcolo non cambia ---\n",
    "\n",
    "    # 1. Estrai tutti i valori di 'ndcg_score' in una nuova lista\n",
    "    ndcg_scores = [user_data['ndcg_score'] for user_data in data]\n",
    "\n",
    "    # 2. Controlla se la lista dei punteggi non è vuota per evitare errori\n",
    "    if ndcg_scores:\n",
    "        # 3. Calcola la media: somma di tutti gli elementi divisa per il loro numero\n",
    "        average_ndcg = sum(ndcg_scores) / len(ndcg_scores)\n",
    "        \n",
    "        # 4. Stampa il risultato finale\n",
    "        print(f\"La media di tutti gli ndcg_score dal file '{file_name}' è: {average_ndcg}\")\n",
    "    else:\n",
    "        print(f\"La lista dei dati nel file '{file_name}' è vuota.\")\n",
    "\n",
    "# Gestisci gli errori più comuni\n",
    "except FileNotFoundError:\n",
    "    print(f\"ERRORE: Il file '{file_name}' non è stato trovato.\")\n",
    "    print(\"Assicurati che il file esista e si trovi nella stessa cartella dello script Python.\")\n",
    "except json.JSONDecodeError:\n",
    "    print(f\"ERRORE: Il contenuto di '{file_name}' non è un JSON valido.\")\n",
    "    print(\"Controlla che il testo sia stato copiato correttamente.\")"
   ]
  },
  {
   "cell_type": "code",
   "execution_count": 28,
   "id": "df711362",
   "metadata": {},
   "outputs": [
    {
     "name": "stdout",
     "output_type": "stream",
     "text": [
      "La media di tutti gli ndcg_score dal file '../tuning/gemma/grpo_overfit_t1_fixed/checkpoint-605-results.json' è: 0.24513765288535166\n"
     ]
    }
   ],
   "source": [
    "import json\n",
    "\n",
    "# Definisci il nome del file da cui caricare i dati\n",
    "file_name = '../tuning/gemma/grpo_overfit_t1_fixed/checkpoint-605-results.json'\n",
    "\n",
    "try:\n",
    "    # Apri il file in modalità lettura ('r')\n",
    "    # 'with' garantisce che il file venga chiuso correttamente alla fine\n",
    "    with open(file_name, 'r', encoding='utf-8') as f:\n",
    "        # Usa json.load() per leggere il file e convertirlo in una lista Python\n",
    "        data = json.load(f)\n",
    "\n",
    "    # --- Da qui in poi, la logica per il calcolo non cambia ---\n",
    "\n",
    "    # 1. Estrai tutti i valori di 'ndcg_score' in una nuova lista\n",
    "    ndcg_scores = [user_data['ndcg_score'] for user_data in data]\n",
    "\n",
    "    # 2. Controlla se la lista dei punteggi non è vuota per evitare errori\n",
    "    if ndcg_scores:\n",
    "        # 3. Calcola la media: somma di tutti gli elementi divisa per il loro numero\n",
    "        average_ndcg = sum(ndcg_scores) / len(ndcg_scores)\n",
    "        \n",
    "        # 4. Stampa il risultato finale\n",
    "        print(f\"La media di tutti gli ndcg_score dal file '{file_name}' è: {average_ndcg}\")\n",
    "    else:\n",
    "        print(f\"La lista dei dati nel file '{file_name}' è vuota.\")\n",
    "\n",
    "# Gestisci gli errori più comuni\n",
    "except FileNotFoundError:\n",
    "    print(f\"ERRORE: Il file '{file_name}' non è stato trovato.\")\n",
    "    print(\"Assicurati che il file esista e si trovi nella stessa cartella dello script Python.\")\n",
    "except json.JSONDecodeError:\n",
    "    print(f\"ERRORE: Il contenuto di '{file_name}' non è un JSON valido.\")\n",
    "    print(\"Controlla che il testo sia stato copiato correttamente.\")"
   ]
  },
  {
   "cell_type": "code",
   "execution_count": 38,
   "id": "f1cdbd74",
   "metadata": {},
   "outputs": [
    {
     "name": "stdout",
     "output_type": "stream",
     "text": [
      "La media di tutti gli ndcg_score dal file '../tuning/gemma/riprodotto_2/checkpoint-500-results.json' è: 0.2544761760286038\n"
     ]
    }
   ],
   "source": [
    "import json\n",
    "\n",
    "# Definisci il nome del file da cui caricare i dati\n",
    "file_name = '../tuning/gemma/riprodotto_2/checkpoint-500-results.json'\n",
    "\n",
    "try:\n",
    "    # Apri il file in modalità lettura ('r')\n",
    "    # 'with' garantisce che il file venga chiuso correttamente alla fine\n",
    "    with open(file_name, 'r', encoding='utf-8') as f:\n",
    "        # Usa json.load() per leggere il file e convertirlo in una lista Python\n",
    "        data = json.load(f)\n",
    "\n",
    "    # --- Da qui in poi, la logica per il calcolo non cambia ---\n",
    "\n",
    "    # 1. Estrai tutti i valori di 'ndcg_score' in una nuova lista\n",
    "    ndcg_scores = [user_data['ndcg_score'] for user_data in data]\n",
    "\n",
    "    # 2. Controlla se la lista dei punteggi non è vuota per evitare errori\n",
    "    if ndcg_scores:\n",
    "        # 3. Calcola la media: somma di tutti gli elementi divisa per il loro numero\n",
    "        average_ndcg = sum(ndcg_scores) / len(ndcg_scores)\n",
    "        \n",
    "        # 4. Stampa il risultato finale\n",
    "        print(f\"La media di tutti gli ndcg_score dal file '{file_name}' è: {average_ndcg}\")\n",
    "    else:\n",
    "        print(f\"La lista dei dati nel file '{file_name}' è vuota.\")\n",
    "\n",
    "# Gestisci gli errori più comuni\n",
    "except FileNotFoundError:\n",
    "    print(f\"ERRORE: Il file '{file_name}' non è stato trovato.\")\n",
    "    print(\"Assicurati che il file esista e si trovi nella stessa cartella dello script Python.\")\n",
    "except json.JSONDecodeError:\n",
    "    print(f\"ERRORE: Il contenuto di '{file_name}' non è un JSON valido.\")\n",
    "    print(\"Controlla che il testo sia stato copiato correttamente.\")"
   ]
  },
  {
   "cell_type": "code",
   "execution_count": 37,
   "id": "733cbf1b",
   "metadata": {},
   "outputs": [
    {
     "name": "stdout",
     "output_type": "stream",
     "text": [
      "La media di tutti gli ndcg_score dal file '../tuning/gemma/riprodotto_3/checkpoint-500-results.json' è: 0.20119115317022201\n"
     ]
    }
   ],
   "source": [
    "import json\n",
    "\n",
    "# Definisci il nome del file da cui caricare i dati\n",
    "file_name = '../tuning/gemma/riprodotto_3/checkpoint-500-results.json'\n",
    "\n",
    "try:\n",
    "    # Apri il file in modalità lettura ('r')\n",
    "    # 'with' garantisce che il file venga chiuso correttamente alla fine\n",
    "    with open(file_name, 'r', encoding='utf-8') as f:\n",
    "        # Usa json.load() per leggere il file e convertirlo in una lista Python\n",
    "        data = json.load(f)\n",
    "\n",
    "    # --- Da qui in poi, la logica per il calcolo non cambia ---\n",
    "\n",
    "    # 1. Estrai tutti i valori di 'ndcg_score' in una nuova lista\n",
    "    ndcg_scores = [user_data['ndcg_score'] for user_data in data]\n",
    "\n",
    "    # 2. Controlla se la lista dei punteggi non è vuota per evitare errori\n",
    "    if ndcg_scores:\n",
    "        # 3. Calcola la media: somma di tutti gli elementi divisa per il loro numero\n",
    "        average_ndcg = sum(ndcg_scores) / len(ndcg_scores)\n",
    "        \n",
    "        # 4. Stampa il risultato finale\n",
    "        print(f\"La media di tutti gli ndcg_score dal file '{file_name}' è: {average_ndcg}\")\n",
    "    else:\n",
    "        print(f\"La lista dei dati nel file '{file_name}' è vuota.\")\n",
    "\n",
    "# Gestisci gli errori più comuni\n",
    "except FileNotFoundError:\n",
    "    print(f\"ERRORE: Il file '{file_name}' non è stato trovato.\")\n",
    "    print(\"Assicurati che il file esista e si trovi nella stessa cartella dello script Python.\")\n",
    "except json.JSONDecodeError:\n",
    "    print(f\"ERRORE: Il contenuto di '{file_name}' non è un JSON valido.\")\n",
    "    print(\"Controlla che il testo sia stato copiato correttamente.\")"
   ]
  },
  {
   "cell_type": "code",
   "execution_count": 33,
   "id": "32c5a4ef",
   "metadata": {},
   "outputs": [
    {
     "name": "stdout",
     "output_type": "stream",
     "text": [
      "ndcg: 0.21080288337564443\n"
     ]
    }
   ],
   "source": [
    "import numpy as np\n",
    "file_name = '../tuning/gemma/grpo_overfit_t1_5e-6/checkpoint-500-results.json'\n",
    "with open(file_name, 'r', encoding='utf-8') as f:\n",
    "        # Usa json.load() per leggere il file e convertirlo in una lista Python\n",
    "        data = json.load(f)\n",
    "    \n",
    "ndcg = data['all_ndcg_scores']\n",
    "print(f\"ndcg: {np.mean(ndcg)}\")"
   ]
  },
  {
   "cell_type": "code",
   "execution_count": 25,
   "id": "a60f35d5",
   "metadata": {},
   "outputs": [
    {
     "name": "stdout",
     "output_type": "stream",
     "text": [
      "ndcg: 0.20834220702239173\n"
     ]
    }
   ],
   "source": [
    "import numpy as np\n",
    "file_name = '../tuning/gemma/grpo_overfit_t1_1e-5/checkpoint-500-results.json'\n",
    "with open(file_name, 'r', encoding='utf-8') as f:\n",
    "        # Usa json.load() per leggere il file e convertirlo in una lista Python\n",
    "        data = json.load(f)\n",
    "    \n",
    "ndcg = data['all_ndcg_scores']\n",
    "print(f\"ndcg: {np.mean(ndcg)}\")"
   ]
  },
  {
   "cell_type": "code",
   "execution_count": 4,
   "id": "c0b19a0a",
   "metadata": {},
   "outputs": [
    {
     "name": "stdout",
     "output_type": "stream",
     "text": [
      "La media di tutti gli ndcg_score dal file 'gemma_30_candidates_grpo_train.json' è: 0.14612227965125513\n"
     ]
    }
   ],
   "source": [
    "import json\n",
    "\n",
    "# Definisci il nome del file da cui caricare i dati\n",
    "file_name = 'gemma_30_candidates_grpo_train.json'\n",
    "\n",
    "try:\n",
    "    # Apri il file in modalità lettura ('r')\n",
    "    # 'with' garantisce che il file venga chiuso correttamente alla fine\n",
    "    with open(file_name, 'r', encoding='utf-8') as f:\n",
    "        # Usa json.load() per leggere il file e convertirlo in una lista Python\n",
    "        data = json.load(f)\n",
    "\n",
    "    # --- Da qui in poi, la logica per il calcolo non cambia ---\n",
    "\n",
    "    # 1. Estrai tutti i valori di 'ndcg_score' in una nuova lista\n",
    "    ndcg_scores = [user_data['ndcg_score'] for user_data in data]\n",
    "\n",
    "    # 2. Controlla se la lista dei punteggi non è vuota per evitare errori\n",
    "    if ndcg_scores:\n",
    "        # 3. Calcola la media: somma di tutti gli elementi divisa per il loro numero\n",
    "        average_ndcg = sum(ndcg_scores) / len(ndcg_scores)\n",
    "        \n",
    "        # 4. Stampa il risultato finale\n",
    "        print(f\"La media di tutti gli ndcg_score dal file '{file_name}' è: {average_ndcg}\")\n",
    "    else:\n",
    "        print(f\"La lista dei dati nel file '{file_name}' è vuota.\")\n",
    "\n",
    "# Gestisci gli errori più comuni\n",
    "except FileNotFoundError:\n",
    "    print(f\"ERRORE: Il file '{file_name}' non è stato trovato.\")\n",
    "    print(\"Assicurati che il file esista e si trovi nella stessa cartella dello script Python.\")\n",
    "except json.JSONDecodeError:\n",
    "    print(f\"ERRORE: Il contenuto di '{file_name}' non è un JSON valido.\")\n",
    "    print(\"Controlla che il testo sia stato copiato correttamente.\")"
   ]
  },
  {
   "cell_type": "code",
   "execution_count": 3,
   "id": "ee480f63",
   "metadata": {},
   "outputs": [
    {
     "name": "stdout",
     "output_type": "stream",
     "text": [
      "ERRORE: Il file 'gemma_pure_train_nohistory.json' non è stato trovato.\n",
      "Assicurati che il file esista e si trovi nella stessa cartella dello script Python.\n"
     ]
    }
   ],
   "source": [
    "import json\n",
    "\n",
    "# Definisci il nome del file da cui caricare i dati\n",
    "file_name = 'gemma_pure_train_nohistory.json'\n",
    "\n",
    "try:\n",
    "    # Apri il file in modalità lettura ('r')\n",
    "    # 'with' garantisce che il file venga chiuso correttamente alla fine\n",
    "    with open(file_name, 'r', encoding='utf-8') as f:\n",
    "        # Usa json.load() per leggere il file e convertirlo in una lista Python\n",
    "        data = json.load(f)\n",
    "\n",
    "    # --- Da qui in poi, la logica per il calcolo non cambia ---\n",
    "\n",
    "    # 1. Estrai tutti i valori di 'ndcg_score' in una nuova lista\n",
    "    ndcg_scores = [user_data['ndcg_score'] for user_data in data]\n",
    "\n",
    "    # 2. Controlla se la lista dei punteggi non è vuota per evitare errori\n",
    "    if ndcg_scores:\n",
    "        # 3. Calcola la media: somma di tutti gli elementi divisa per il loro numero\n",
    "        average_ndcg = sum(ndcg_scores) / len(ndcg_scores)\n",
    "        \n",
    "        # 4. Stampa il risultato finale\n",
    "        print(f\"La media di tutti gli ndcg_score dal file '{file_name}' è: {average_ndcg}\")\n",
    "    else:\n",
    "        print(f\"La lista dei dati nel file '{file_name}' è vuota.\")\n",
    "\n",
    "# Gestisci gli errori più comuni\n",
    "except FileNotFoundError:\n",
    "    print(f\"ERRORE: Il file '{file_name}' non è stato trovato.\")\n",
    "    print(\"Assicurati che il file esista e si trovi nella stessa cartella dello script Python.\")\n",
    "except json.JSONDecodeError:\n",
    "    print(f\"ERRORE: Il contenuto di '{file_name}' non è un JSON valido.\")\n",
    "    print(\"Controlla che il testo sia stato copiato correttamente.\")"
   ]
  },
  {
   "cell_type": "markdown",
   "id": "2a3001eb",
   "metadata": {},
   "source": [
    "## 1M"
   ]
  },
  {
   "cell_type": "code",
   "execution_count": 8,
   "id": "eded0f73",
   "metadata": {},
   "outputs": [
    {
     "name": "stdout",
     "output_type": "stream",
     "text": [
      "La media di tutti gli ndcg_score dal file 'new_reward_function/checkpoint-3000.json' è: 0.16842142013475417\n"
     ]
    }
   ],
   "source": [
    "import json\n",
    "\n",
    "# Definisci il nome del file da cui caricare i dati\n",
    "file_name = 'new_reward_function/checkpoint-3000.json'\n",
    "\n",
    "\n",
    "try:\n",
    "    # Apri il file in modalità lettura ('r')\n",
    "    # 'with' garantisce che il file venga chiuso correttamente alla fine\n",
    "    with open(file_name, 'r', encoding='utf-8') as f:\n",
    "        # Usa json.load() per leggere il file e convertirlo in una lista Python\n",
    "        data = json.load(f)\n",
    "\n",
    "    # --- Da qui in poi, la logica per il calcolo non cambia ---\n",
    "\n",
    "    # 1. Estrai tutti i valori di 'ndcg_score' in una nuova lista\n",
    "    ndcg_scores = [user_data['ndcg_score'] for user_data in data]\n",
    "\n",
    "    # 2. Controlla se la lista dei punteggi non è vuota per evitare errori\n",
    "    if ndcg_scores:\n",
    "        # 3. Calcola la media: somma di tutti gli elementi divisa per il loro numero\n",
    "        average_ndcg = sum(ndcg_scores) / len(ndcg_scores)\n",
    "        \n",
    "        # 4. Stampa il risultato finale\n",
    "        print(f\"La media di tutti gli ndcg_score dal file '{file_name}' è: {average_ndcg}\")\n",
    "    else:\n",
    "        print(f\"La lista dei dati nel file '{file_name}' è vuota.\")\n",
    "\n",
    "# Gestisci gli errori più comuni\n",
    "except FileNotFoundError:\n",
    "    print(f\"ERRORE: Il file '{file_name}' non è stato trovato.\")\n",
    "    print(\"Assicurati che il file esista e si trovi nella stessa cartella dello script Python.\")\n",
    "except json.JSONDecodeError:\n",
    "    print(f\"ERRORE: Il contenuto di '{file_name}' non è un JSON valido.\")\n",
    "    print(\"Controlla che il testo sia stato copiato correttamente.\")"
   ]
  },
  {
   "cell_type": "code",
   "execution_count": 4,
   "id": "080096c4",
   "metadata": {},
   "outputs": [
    {
     "name": "stdout",
     "output_type": "stream",
     "text": [
      "La media di tutti gli ndcg_score dal file 'gemma_pure_30.json' è: 0.17135107777915337\n"
     ]
    }
   ],
   "source": [
    "import json\n",
    "\n",
    "# Definisci il nome del file da cui caricare i dati\n",
    "file_name = 'gemma_pure_30.json'\n",
    "\n",
    "\n",
    "try:\n",
    "    # Apri il file in modalità lettura ('r')\n",
    "    # 'with' garantisce che il file venga chiuso correttamente alla fine\n",
    "    with open(file_name, 'r', encoding='utf-8') as f:\n",
    "        # Usa json.load() per leggere il file e convertirlo in una lista Python\n",
    "        data = json.load(f)\n",
    "\n",
    "    # --- Da qui in poi, la logica per il calcolo non cambia ---\n",
    "\n",
    "    # 1. Estrai tutti i valori di 'ndcg_score' in una nuova lista\n",
    "    ndcg_scores = [user_data['ndcg_score'] for user_data in data]\n",
    "\n",
    "    # 2. Controlla se la lista dei punteggi non è vuota per evitare errori\n",
    "    if ndcg_scores:\n",
    "        # 3. Calcola la media: somma di tutti gli elementi divisa per il loro numero\n",
    "        average_ndcg = sum(ndcg_scores) / len(ndcg_scores)\n",
    "        \n",
    "        # 4. Stampa il risultato finale\n",
    "        print(f\"La media di tutti gli ndcg_score dal file '{file_name}' è: {average_ndcg}\")\n",
    "    else:\n",
    "        print(f\"La lista dei dati nel file '{file_name}' è vuota.\")\n",
    "\n",
    "# Gestisci gli errori più comuni\n",
    "except FileNotFoundError:\n",
    "    print(f\"ERRORE: Il file '{file_name}' non è stato trovato.\")\n",
    "    print(\"Assicurati che il file esista e si trovi nella stessa cartella dello script Python.\")\n",
    "except json.JSONDecodeError:\n",
    "    print(f\"ERRORE: Il contenuto di '{file_name}' non è un JSON valido.\")\n",
    "    print(\"Controlla che il testo sia stato copiato correttamente.\")"
   ]
  }
 ],
 "metadata": {
  "kernelspec": {
   "display_name": "imp",
   "language": "python",
   "name": "python3"
  },
  "language_info": {
   "codemirror_mode": {
    "name": "ipython",
    "version": 3
   },
   "file_extension": ".py",
   "mimetype": "text/x-python",
   "name": "python",
   "nbconvert_exporter": "python",
   "pygments_lexer": "ipython3",
   "version": "3.10.18"
  }
 },
 "nbformat": 4,
 "nbformat_minor": 5
}
