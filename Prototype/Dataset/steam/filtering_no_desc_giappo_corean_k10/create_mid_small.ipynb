{
 "cells": [
  {
   "cell_type": "code",
   "execution_count": 51,
   "id": "5b90f3f1",
   "metadata": {},
   "outputs": [],
   "source": [
    "import numpy as np\n",
    "import pandas as pd\n",
    "import pickle"
   ]
  },
  {
   "cell_type": "code",
   "execution_count": 52,
   "id": "ede206b7",
   "metadata": {},
   "outputs": [],
   "source": [
    "recommendations = pd.read_csv(\"recommendations.csv\")"
   ]
  },
  {
   "cell_type": "code",
   "execution_count": 53,
   "id": "20074012",
   "metadata": {},
   "outputs": [
    {
     "data": {
      "text/plain": [
       "295398"
      ]
     },
     "execution_count": 53,
     "metadata": {},
     "output_type": "execute_result"
    }
   ],
   "source": [
    "recommendations['user_id'].unique().shape[0]  # Number of unique users"
   ]
  },
  {
   "cell_type": "code",
   "execution_count": 54,
   "id": "418ec4be",
   "metadata": {},
   "outputs": [
    {
     "data": {
      "text/plain": [
       "25840"
      ]
     },
     "execution_count": 54,
     "metadata": {},
     "output_type": "execute_result"
    }
   ],
   "source": [
    "recommendations['app_id'].unique().shape[0]"
   ]
  },
  {
   "cell_type": "code",
   "execution_count": 55,
   "id": "87fbba8b",
   "metadata": {},
   "outputs": [],
   "source": [
    "user_ids = recommendations['user_id'].unique()"
   ]
  },
  {
   "cell_type": "code",
   "execution_count": 56,
   "id": "ccf01282",
   "metadata": {},
   "outputs": [],
   "source": [
    "np.random.seed(42)"
   ]
  },
  {
   "cell_type": "code",
   "execution_count": 67,
   "id": "30beee9c",
   "metadata": {},
   "outputs": [],
   "source": [
    "random_10k_user_ids = np.random.choice(user_ids, size=3000, replace=False)"
   ]
  },
  {
   "cell_type": "code",
   "execution_count": 68,
   "id": "d4a097dd",
   "metadata": {},
   "outputs": [
    {
     "data": {
      "text/plain": [
       "3000"
      ]
     },
     "execution_count": 68,
     "metadata": {},
     "output_type": "execute_result"
    }
   ],
   "source": [
    "recommendations_random_10k = recommendations[recommendations['user_id'].isin(random_10k_user_ids)]\n",
    "recommendations_random_10k['user_id'].unique().shape[0]  # Check if we have 10k unique users"
   ]
  },
  {
   "cell_type": "markdown",
   "id": "6219f97d",
   "metadata": {},
   "source": [
    "(10000, 19017)"
   ]
  },
  {
   "cell_type": "code",
   "execution_count": 69,
   "id": "5d58fa17",
   "metadata": {},
   "outputs": [
    {
     "data": {
      "text/plain": [
       "(3000, 12350)"
      ]
     },
     "execution_count": 69,
     "metadata": {},
     "output_type": "execute_result"
    }
   ],
   "source": [
    "recommendations_random_10k['user_id'].unique().shape[0], recommendations_random_10k['app_id'].unique().shape[0]"
   ]
  },
  {
   "cell_type": "code",
   "execution_count": 70,
   "id": "34ed55de",
   "metadata": {},
   "outputs": [],
   "source": [
    "MIN_GAME_INTERACTIONS = 10"
   ]
  },
  {
   "cell_type": "code",
   "execution_count": 71,
   "id": "c9ae57b1",
   "metadata": {},
   "outputs": [],
   "source": [
    "recommendations_random_10k = recommendations_random_10k.reset_index(drop=True)"
   ]
  },
  {
   "cell_type": "code",
   "execution_count": 72,
   "id": "7cf73481",
   "metadata": {},
   "outputs": [
    {
     "name": "stdout",
     "output_type": "stream",
     "text": [
      "-> Prima filtraggio giochi: 12350 righe rimaste\n",
      "-> Prima filtraggio utenti: 3000 righe rimaste\n",
      "-> Dopo filtraggio giochi: 1529 righe rimaste\n",
      "-> Dopo filtraggio utenti: 1750 righe rimaste\n"
     ]
    }
   ],
   "source": [
    "print(f\"-> Prima filtraggio giochi: {recommendations_random_10k['app_id'].unique().size} righe rimaste\")\n",
    "print(f\"-> Prima filtraggio utenti: {recommendations_random_10k['user_id'].unique().size} righe rimaste\")\n",
    "    \n",
    "# Filtra i giochi con poche interazioni\n",
    "game_counts = recommendations_random_10k['app_id'].value_counts()\n",
    "games_to_keep = game_counts[game_counts >= MIN_GAME_INTERACTIONS].index\n",
    "df_filtered_games = recommendations_random_10k[recommendations_random_10k['app_id'].isin(games_to_keep)]\n",
    "\n",
    "\n",
    "# Filtra gli utenti con poche interazioni\n",
    "user_counts = df_filtered_games['user_id'].value_counts()\n",
    "users_to_keep = user_counts[user_counts >= MIN_GAME_INTERACTIONS].index\n",
    "new_recommendations = df_filtered_games[df_filtered_games['user_id'].isin(users_to_keep)]\n",
    "\n",
    "print(f\"-> Dopo filtraggio giochi: {new_recommendations['app_id'].unique().size} righe rimaste\")\n",
    "print(f\"-> Dopo filtraggio utenti: {new_recommendations['user_id'].unique().size} righe rimaste\")"
   ]
  },
  {
   "cell_type": "code",
   "execution_count": 73,
   "id": "1db629e3",
   "metadata": {},
   "outputs": [
    {
     "name": "stdout",
     "output_type": "stream",
     "text": [
      "-> Prima filtraggio giochi: 1529 righe rimaste\n",
      "-> Prima filtraggio utenti: 1750 righe rimaste\n",
      "-> Dopo filtraggio giochi: 1166 righe rimaste\n",
      "-> Dopo filtraggio utenti: 1533 righe rimaste\n"
     ]
    }
   ],
   "source": [
    "print(f\"-> Prima filtraggio giochi: {new_recommendations['app_id'].unique().size} righe rimaste\")\n",
    "print(f\"-> Prima filtraggio utenti: {new_recommendations['user_id'].unique().size} righe rimaste\")\n",
    "    \n",
    "# Filtra i giochi con poche interazioni\n",
    "game_counts = new_recommendations['app_id'].value_counts()\n",
    "games_to_keep = game_counts[game_counts >= MIN_GAME_INTERACTIONS].index\n",
    "df_filtered_games = new_recommendations[new_recommendations['app_id'].isin(games_to_keep)]\n",
    "\n",
    "\n",
    "# Filtra gli utenti con poche interazioni\n",
    "user_counts = df_filtered_games['user_id'].value_counts()\n",
    "users_to_keep = user_counts[user_counts >= MIN_GAME_INTERACTIONS].index\n",
    "new_recommendations = df_filtered_games[df_filtered_games['user_id'].isin(users_to_keep)]\n",
    "\n",
    "print(f\"-> Dopo filtraggio giochi: {new_recommendations['app_id'].unique().size} righe rimaste\")\n",
    "print(f\"-> Dopo filtraggio utenti: {new_recommendations['user_id'].unique().size} righe rimaste\")"
   ]
  },
  {
   "cell_type": "code",
   "execution_count": 74,
   "id": "2ee2f676",
   "metadata": {},
   "outputs": [
    {
     "name": "stdout",
     "output_type": "stream",
     "text": [
      "-> Prima filtraggio giochi: 1166 righe rimaste\n",
      "-> Prima filtraggio utenti: 1533 righe rimaste\n",
      "-> Dopo filtraggio giochi: 1077 righe rimaste\n",
      "-> Dopo filtraggio utenti: 1473 righe rimaste\n"
     ]
    }
   ],
   "source": [
    "print(f\"-> Prima filtraggio giochi: {new_recommendations['app_id'].unique().size} righe rimaste\")\n",
    "print(f\"-> Prima filtraggio utenti: {new_recommendations['user_id'].unique().size} righe rimaste\")\n",
    "    \n",
    "# Filtra i giochi con poche interazioni\n",
    "game_counts = new_recommendations['app_id'].value_counts()\n",
    "games_to_keep = game_counts[game_counts >= MIN_GAME_INTERACTIONS].index\n",
    "df_filtered_games = new_recommendations[new_recommendations['app_id'].isin(games_to_keep)]\n",
    "\n",
    "\n",
    "# Filtra gli utenti con poche interazioni\n",
    "user_counts = df_filtered_games['user_id'].value_counts()\n",
    "users_to_keep = user_counts[user_counts >= MIN_GAME_INTERACTIONS].index\n",
    "new_recommendations = df_filtered_games[df_filtered_games['user_id'].isin(users_to_keep)]\n",
    "\n",
    "print(f\"-> Dopo filtraggio giochi: {new_recommendations['app_id'].unique().size} righe rimaste\")\n",
    "print(f\"-> Dopo filtraggio utenti: {new_recommendations['user_id'].unique().size} righe rimaste\")"
   ]
  },
  {
   "cell_type": "code",
   "execution_count": 75,
   "id": "98017c8d",
   "metadata": {},
   "outputs": [
    {
     "name": "stdout",
     "output_type": "stream",
     "text": [
      "-> Prima filtraggio giochi: 1077 righe rimaste\n",
      "-> Prima filtraggio utenti: 1473 righe rimaste\n",
      "-> Dopo filtraggio giochi: 1045 righe rimaste\n",
      "-> Dopo filtraggio utenti: 1458 righe rimaste\n"
     ]
    }
   ],
   "source": [
    "print(f\"-> Prima filtraggio giochi: {new_recommendations['app_id'].unique().size} righe rimaste\")\n",
    "print(f\"-> Prima filtraggio utenti: {new_recommendations['user_id'].unique().size} righe rimaste\")\n",
    "    \n",
    "# Filtra i giochi con poche interazioni\n",
    "game_counts = new_recommendations['app_id'].value_counts()\n",
    "games_to_keep = game_counts[game_counts >= MIN_GAME_INTERACTIONS].index\n",
    "df_filtered_games = new_recommendations[new_recommendations['app_id'].isin(games_to_keep)]\n",
    "\n",
    "\n",
    "# Filtra gli utenti con poche interazioni\n",
    "user_counts = df_filtered_games['user_id'].value_counts()\n",
    "users_to_keep = user_counts[user_counts >= MIN_GAME_INTERACTIONS].index\n",
    "new_recommendations = df_filtered_games[df_filtered_games['user_id'].isin(users_to_keep)]\n",
    "\n",
    "print(f\"-> Dopo filtraggio giochi: {new_recommendations['app_id'].unique().size} righe rimaste\")\n",
    "print(f\"-> Dopo filtraggio utenti: {new_recommendations['user_id'].unique().size} righe rimaste\")"
   ]
  },
  {
   "cell_type": "code",
   "execution_count": 76,
   "id": "37ac2631",
   "metadata": {},
   "outputs": [
    {
     "name": "stdout",
     "output_type": "stream",
     "text": [
      "-> Prima filtraggio giochi: 1045 righe rimaste\n",
      "-> Prima filtraggio utenti: 1458 righe rimaste\n",
      "-> Dopo filtraggio giochi: 1040 righe rimaste\n",
      "-> Dopo filtraggio utenti: 1455 righe rimaste\n"
     ]
    }
   ],
   "source": [
    "print(f\"-> Prima filtraggio giochi: {new_recommendations['app_id'].unique().size} righe rimaste\")\n",
    "print(f\"-> Prima filtraggio utenti: {new_recommendations['user_id'].unique().size} righe rimaste\")\n",
    "    \n",
    "# Filtra i giochi con poche interazioni\n",
    "game_counts = new_recommendations['app_id'].value_counts()\n",
    "games_to_keep = game_counts[game_counts >= MIN_GAME_INTERACTIONS].index\n",
    "df_filtered_games = new_recommendations[new_recommendations['app_id'].isin(games_to_keep)]\n",
    "\n",
    "\n",
    "# Filtra gli utenti con poche interazioni\n",
    "user_counts = df_filtered_games['user_id'].value_counts()\n",
    "users_to_keep = user_counts[user_counts >= MIN_GAME_INTERACTIONS].index\n",
    "new_recommendations = df_filtered_games[df_filtered_games['user_id'].isin(users_to_keep)]\n",
    "\n",
    "print(f\"-> Dopo filtraggio giochi: {new_recommendations['app_id'].unique().size} righe rimaste\")\n",
    "print(f\"-> Dopo filtraggio utenti: {new_recommendations['user_id'].unique().size} righe rimaste\")"
   ]
  },
  {
   "cell_type": "code",
   "execution_count": 77,
   "id": "27cac594",
   "metadata": {},
   "outputs": [
    {
     "name": "stdout",
     "output_type": "stream",
     "text": [
      "-> Prima filtraggio giochi: 1040 righe rimaste\n",
      "-> Prima filtraggio utenti: 1455 righe rimaste\n",
      "-> Dopo filtraggio giochi: 1037 righe rimaste\n",
      "-> Dopo filtraggio utenti: 1450 righe rimaste\n"
     ]
    }
   ],
   "source": [
    "print(f\"-> Prima filtraggio giochi: {new_recommendations['app_id'].unique().size} righe rimaste\")\n",
    "print(f\"-> Prima filtraggio utenti: {new_recommendations['user_id'].unique().size} righe rimaste\")\n",
    "    \n",
    "# Filtra i giochi con poche interazioni\n",
    "game_counts = new_recommendations['app_id'].value_counts()\n",
    "games_to_keep = game_counts[game_counts >= MIN_GAME_INTERACTIONS].index\n",
    "df_filtered_games = new_recommendations[new_recommendations['app_id'].isin(games_to_keep)]\n",
    "\n",
    "\n",
    "# Filtra gli utenti con poche interazioni\n",
    "user_counts = df_filtered_games['user_id'].value_counts()\n",
    "users_to_keep = user_counts[user_counts >= MIN_GAME_INTERACTIONS].index\n",
    "new_recommendations = df_filtered_games[df_filtered_games['user_id'].isin(users_to_keep)]\n",
    "\n",
    "print(f\"-> Dopo filtraggio giochi: {new_recommendations['app_id'].unique().size} righe rimaste\")\n",
    "print(f\"-> Dopo filtraggio utenti: {new_recommendations['user_id'].unique().size} righe rimaste\")"
   ]
  },
  {
   "cell_type": "code",
   "execution_count": 78,
   "id": "d9168f22",
   "metadata": {},
   "outputs": [
    {
     "name": "stdout",
     "output_type": "stream",
     "text": [
      "-> Prima filtraggio giochi: 1037 righe rimaste\n",
      "-> Prima filtraggio utenti: 1450 righe rimaste\n",
      "-> Dopo filtraggio giochi: 1035 righe rimaste\n",
      "-> Dopo filtraggio utenti: 1448 righe rimaste\n"
     ]
    }
   ],
   "source": [
    "print(f\"-> Prima filtraggio giochi: {new_recommendations['app_id'].unique().size} righe rimaste\")\n",
    "print(f\"-> Prima filtraggio utenti: {new_recommendations['user_id'].unique().size} righe rimaste\")\n",
    "    \n",
    "# Filtra i giochi con poche interazioni\n",
    "game_counts = new_recommendations['app_id'].value_counts()\n",
    "games_to_keep = game_counts[game_counts >= MIN_GAME_INTERACTIONS].index\n",
    "df_filtered_games = new_recommendations[new_recommendations['app_id'].isin(games_to_keep)]\n",
    "\n",
    "\n",
    "# Filtra gli utenti con poche interazioni\n",
    "user_counts = df_filtered_games['user_id'].value_counts()\n",
    "users_to_keep = user_counts[user_counts >= MIN_GAME_INTERACTIONS].index\n",
    "new_recommendations = df_filtered_games[df_filtered_games['user_id'].isin(users_to_keep)]\n",
    "\n",
    "print(f\"-> Dopo filtraggio giochi: {new_recommendations['app_id'].unique().size} righe rimaste\")\n",
    "print(f\"-> Dopo filtraggio utenti: {new_recommendations['user_id'].unique().size} righe rimaste\")"
   ]
  },
  {
   "cell_type": "code",
   "execution_count": 79,
   "id": "d7aaf8e8",
   "metadata": {},
   "outputs": [
    {
     "name": "stdout",
     "output_type": "stream",
     "text": [
      "-> Prima filtraggio giochi: 1035 righe rimaste\n",
      "-> Prima filtraggio utenti: 1448 righe rimaste\n",
      "-> Dopo filtraggio giochi: 1034 righe rimaste\n",
      "-> Dopo filtraggio utenti: 1447 righe rimaste\n"
     ]
    }
   ],
   "source": [
    "print(f\"-> Prima filtraggio giochi: {new_recommendations['app_id'].unique().size} righe rimaste\")\n",
    "print(f\"-> Prima filtraggio utenti: {new_recommendations['user_id'].unique().size} righe rimaste\")\n",
    "    \n",
    "# Filtra i giochi con poche interazioni\n",
    "game_counts = new_recommendations['app_id'].value_counts()\n",
    "games_to_keep = game_counts[game_counts >= MIN_GAME_INTERACTIONS].index\n",
    "df_filtered_games = new_recommendations[new_recommendations['app_id'].isin(games_to_keep)]\n",
    "\n",
    "\n",
    "# Filtra gli utenti con poche interazioni\n",
    "user_counts = df_filtered_games['user_id'].value_counts()\n",
    "users_to_keep = user_counts[user_counts >= MIN_GAME_INTERACTIONS].index\n",
    "new_recommendations = df_filtered_games[df_filtered_games['user_id'].isin(users_to_keep)]\n",
    "\n",
    "print(f\"-> Dopo filtraggio giochi: {new_recommendations['app_id'].unique().size} righe rimaste\")\n",
    "print(f\"-> Dopo filtraggio utenti: {new_recommendations['user_id'].unique().size} righe rimaste\")"
   ]
  },
  {
   "cell_type": "code",
   "execution_count": 80,
   "id": "8f1cac39",
   "metadata": {},
   "outputs": [
    {
     "name": "stdout",
     "output_type": "stream",
     "text": [
      "-> Prima filtraggio giochi: 1034 righe rimaste\n",
      "-> Prima filtraggio utenti: 1447 righe rimaste\n",
      "-> Dopo filtraggio giochi: 1033 righe rimaste\n",
      "-> Dopo filtraggio utenti: 1447 righe rimaste\n"
     ]
    }
   ],
   "source": [
    "print(f\"-> Prima filtraggio giochi: {new_recommendations['app_id'].unique().size} righe rimaste\")\n",
    "print(f\"-> Prima filtraggio utenti: {new_recommendations['user_id'].unique().size} righe rimaste\")\n",
    "    \n",
    "# Filtra i giochi con poche interazioni\n",
    "game_counts = new_recommendations['app_id'].value_counts()\n",
    "games_to_keep = game_counts[game_counts >= MIN_GAME_INTERACTIONS].index\n",
    "df_filtered_games = new_recommendations[new_recommendations['app_id'].isin(games_to_keep)]\n",
    "\n",
    "\n",
    "# Filtra gli utenti con poche interazioni\n",
    "user_counts = df_filtered_games['user_id'].value_counts()\n",
    "users_to_keep = user_counts[user_counts >= MIN_GAME_INTERACTIONS].index\n",
    "new_recommendations = df_filtered_games[df_filtered_games['user_id'].isin(users_to_keep)]\n",
    "\n",
    "print(f\"-> Dopo filtraggio giochi: {new_recommendations['app_id'].unique().size} righe rimaste\")\n",
    "print(f\"-> Dopo filtraggio utenti: {new_recommendations['user_id'].unique().size} righe rimaste\")"
   ]
  },
  {
   "cell_type": "code",
   "execution_count": 81,
   "id": "094a9a0f",
   "metadata": {},
   "outputs": [
    {
     "name": "stdout",
     "output_type": "stream",
     "text": [
      "-> Prima filtraggio giochi: 1033 righe rimaste\n",
      "-> Prima filtraggio utenti: 1447 righe rimaste\n",
      "-> Dopo filtraggio giochi: 1033 righe rimaste\n",
      "-> Dopo filtraggio utenti: 1447 righe rimaste\n"
     ]
    }
   ],
   "source": [
    "print(f\"-> Prima filtraggio giochi: {new_recommendations['app_id'].unique().size} righe rimaste\")\n",
    "print(f\"-> Prima filtraggio utenti: {new_recommendations['user_id'].unique().size} righe rimaste\")\n",
    "    \n",
    "# Filtra i giochi con poche interazioni\n",
    "game_counts = new_recommendations['app_id'].value_counts()\n",
    "games_to_keep = game_counts[game_counts >= MIN_GAME_INTERACTIONS].index\n",
    "df_filtered_games = new_recommendations[new_recommendations['app_id'].isin(games_to_keep)]\n",
    "\n",
    "\n",
    "# Filtra gli utenti con poche interazioni\n",
    "user_counts = df_filtered_games['user_id'].value_counts()\n",
    "users_to_keep = user_counts[user_counts >= MIN_GAME_INTERACTIONS].index\n",
    "new_recommendations = df_filtered_games[df_filtered_games['user_id'].isin(users_to_keep)]\n",
    "\n",
    "print(f\"-> Dopo filtraggio giochi: {new_recommendations['app_id'].unique().size} righe rimaste\")\n",
    "print(f\"-> Dopo filtraggio utenti: {new_recommendations['user_id'].unique().size} righe rimaste\")"
   ]
  },
  {
   "cell_type": "code",
   "execution_count": 82,
   "id": "5035ee7d",
   "metadata": {},
   "outputs": [],
   "source": [
    "new_recommendations.to_csv(\"small/recommendations.csv\", index=False)"
   ]
  }
 ],
 "metadata": {
  "kernelspec": {
   "display_name": "RecSysFramework",
   "language": "python",
   "name": "python3"
  },
  "language_info": {
   "codemirror_mode": {
    "name": "ipython",
    "version": 3
   },
   "file_extension": ".py",
   "mimetype": "text/x-python",
   "name": "python",
   "nbconvert_exporter": "python",
   "pygments_lexer": "ipython3",
   "version": "3.8.20"
  }
 },
 "nbformat": 4,
 "nbformat_minor": 5
}
