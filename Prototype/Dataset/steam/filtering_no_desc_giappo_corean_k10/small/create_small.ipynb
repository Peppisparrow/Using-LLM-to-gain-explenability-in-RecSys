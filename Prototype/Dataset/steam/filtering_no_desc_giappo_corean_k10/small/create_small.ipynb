{
 "cells": [
  {
   "cell_type": "code",
   "execution_count": 33,
   "id": "5b90f3f1",
   "metadata": {},
   "outputs": [],
   "source": [
    "import numpy as np\n",
    "import pandas as pd\n",
    "import pickle"
   ]
  },
  {
   "cell_type": "code",
   "execution_count": 34,
   "id": "ede206b7",
   "metadata": {},
   "outputs": [],
   "source": [
    "recommendations = pd.read_csv(\"recommendations.csv\")"
   ]
  },
  {
   "cell_type": "code",
   "execution_count": 35,
   "id": "20074012",
   "metadata": {},
   "outputs": [
    {
     "data": {
      "text/plain": [
       "295398"
      ]
     },
     "execution_count": 35,
     "metadata": {},
     "output_type": "execute_result"
    }
   ],
   "source": [
    "recommendations['user_id'].unique().shape[0]  # Number of unique users"
   ]
  },
  {
   "cell_type": "code",
   "execution_count": 36,
   "id": "418ec4be",
   "metadata": {},
   "outputs": [
    {
     "data": {
      "text/plain": [
       "25840"
      ]
     },
     "execution_count": 36,
     "metadata": {},
     "output_type": "execute_result"
    }
   ],
   "source": [
    "recommendations['app_id'].unique().shape[0]"
   ]
  },
  {
   "cell_type": "code",
   "execution_count": 37,
   "id": "87fbba8b",
   "metadata": {},
   "outputs": [],
   "source": [
    "user_ids = recommendations['user_id'].unique()"
   ]
  },
  {
   "cell_type": "code",
   "execution_count": 38,
   "id": "ccf01282",
   "metadata": {},
   "outputs": [],
   "source": [
    "np.random.seed(42)"
   ]
  },
  {
   "cell_type": "code",
   "execution_count": 39,
   "id": "30beee9c",
   "metadata": {},
   "outputs": [],
   "source": [
    "random_10k_user_ids = np.random.choice(user_ids, size=15000, replace=False)"
   ]
  },
  {
   "cell_type": "code",
   "execution_count": 40,
   "id": "d4a097dd",
   "metadata": {},
   "outputs": [
    {
     "data": {
      "text/plain": [
       "15000"
      ]
     },
     "execution_count": 40,
     "metadata": {},
     "output_type": "execute_result"
    }
   ],
   "source": [
    "recommendations_random_10k = recommendations[recommendations['user_id'].isin(random_10k_user_ids)]\n",
    "recommendations_random_10k['user_id'].unique().shape[0]  # Check if we have 10k unique users"
   ]
  },
  {
   "cell_type": "markdown",
   "id": "6219f97d",
   "metadata": {},
   "source": [
    "(10000, 19017)"
   ]
  },
  {
   "cell_type": "code",
   "execution_count": 41,
   "id": "5d58fa17",
   "metadata": {},
   "outputs": [
    {
     "data": {
      "text/plain": [
       "(15000, 21120)"
      ]
     },
     "execution_count": 41,
     "metadata": {},
     "output_type": "execute_result"
    }
   ],
   "source": [
    "recommendations_random_10k['user_id'].unique().shape[0], recommendations_random_10k['app_id'].unique().shape[0]"
   ]
  },
  {
   "cell_type": "code",
   "execution_count": 42,
   "id": "34ed55de",
   "metadata": {},
   "outputs": [],
   "source": [
    "MIN_GAME_INTERACTIONS = 10"
   ]
  },
  {
   "cell_type": "code",
   "execution_count": 43,
   "id": "c9ae57b1",
   "metadata": {},
   "outputs": [],
   "source": [
    "recommendations_random_10k = recommendations_random_10k.reset_index(drop=True)"
   ]
  },
  {
   "cell_type": "code",
   "execution_count": 44,
   "id": "7cf73481",
   "metadata": {},
   "outputs": [
    {
     "name": "stdout",
     "output_type": "stream",
     "text": [
      "-> Prima filtraggio giochi: 21120 righe rimaste\n",
      "-> Prima filtraggio utenti: 15000 righe rimaste\n",
      "-> Dopo filtraggio giochi: 5789 righe rimaste\n",
      "-> Dopo filtraggio utenti: 13207 righe rimaste\n"
     ]
    }
   ],
   "source": [
    "print(f\"-> Prima filtraggio giochi: {recommendations_random_10k['app_id'].unique().size} righe rimaste\")\n",
    "print(f\"-> Prima filtraggio utenti: {recommendations_random_10k['user_id'].unique().size} righe rimaste\")\n",
    "    \n",
    "# Filtra i giochi con poche interazioni\n",
    "game_counts = recommendations_random_10k['app_id'].value_counts()\n",
    "games_to_keep = game_counts[game_counts >= MIN_GAME_INTERACTIONS].index\n",
    "df_filtered_games = recommendations_random_10k[recommendations_random_10k['app_id'].isin(games_to_keep)]\n",
    "\n",
    "\n",
    "# Filtra gli utenti con poche interazioni\n",
    "user_counts = df_filtered_games['user_id'].value_counts()\n",
    "users_to_keep = user_counts[user_counts >= MIN_GAME_INTERACTIONS].index\n",
    "new_recommendations = df_filtered_games[df_filtered_games['user_id'].isin(users_to_keep)]\n",
    "\n",
    "print(f\"-> Dopo filtraggio giochi: {new_recommendations['app_id'].unique().size} righe rimaste\")\n",
    "print(f\"-> Dopo filtraggio utenti: {new_recommendations['user_id'].unique().size} righe rimaste\")"
   ]
  },
  {
   "cell_type": "code",
   "execution_count": 45,
   "id": "1db629e3",
   "metadata": {},
   "outputs": [
    {
     "name": "stdout",
     "output_type": "stream",
     "text": [
      "-> Prima filtraggio giochi: 5789 righe rimaste\n",
      "-> Prima filtraggio utenti: 13207 righe rimaste\n",
      "-> Dopo filtraggio giochi: 5540 righe rimaste\n",
      "-> Dopo filtraggio utenti: 13071 righe rimaste\n"
     ]
    }
   ],
   "source": [
    "print(f\"-> Prima filtraggio giochi: {new_recommendations['app_id'].unique().size} righe rimaste\")\n",
    "print(f\"-> Prima filtraggio utenti: {new_recommendations['user_id'].unique().size} righe rimaste\")\n",
    "    \n",
    "# Filtra i giochi con poche interazioni\n",
    "game_counts = new_recommendations['app_id'].value_counts()\n",
    "games_to_keep = game_counts[game_counts >= MIN_GAME_INTERACTIONS].index\n",
    "df_filtered_games = new_recommendations[new_recommendations['app_id'].isin(games_to_keep)]\n",
    "\n",
    "\n",
    "# Filtra gli utenti con poche interazioni\n",
    "user_counts = df_filtered_games['user_id'].value_counts()\n",
    "users_to_keep = user_counts[user_counts >= MIN_GAME_INTERACTIONS].index\n",
    "new_recommendations = df_filtered_games[df_filtered_games['user_id'].isin(users_to_keep)]\n",
    "\n",
    "print(f\"-> Dopo filtraggio giochi: {new_recommendations['app_id'].unique().size} righe rimaste\")\n",
    "print(f\"-> Dopo filtraggio utenti: {new_recommendations['user_id'].unique().size} righe rimaste\")"
   ]
  },
  {
   "cell_type": "code",
   "execution_count": 46,
   "id": "2ee2f676",
   "metadata": {},
   "outputs": [
    {
     "name": "stdout",
     "output_type": "stream",
     "text": [
      "-> Prima filtraggio giochi: 5540 righe rimaste\n",
      "-> Prima filtraggio utenti: 13071 righe rimaste\n",
      "-> Dopo filtraggio giochi: 5523 righe rimaste\n",
      "-> Dopo filtraggio utenti: 13063 righe rimaste\n"
     ]
    }
   ],
   "source": [
    "print(f\"-> Prima filtraggio giochi: {new_recommendations['app_id'].unique().size} righe rimaste\")\n",
    "print(f\"-> Prima filtraggio utenti: {new_recommendations['user_id'].unique().size} righe rimaste\")\n",
    "    \n",
    "# Filtra i giochi con poche interazioni\n",
    "game_counts = new_recommendations['app_id'].value_counts()\n",
    "games_to_keep = game_counts[game_counts >= MIN_GAME_INTERACTIONS].index\n",
    "df_filtered_games = new_recommendations[new_recommendations['app_id'].isin(games_to_keep)]\n",
    "\n",
    "\n",
    "# Filtra gli utenti con poche interazioni\n",
    "user_counts = df_filtered_games['user_id'].value_counts()\n",
    "users_to_keep = user_counts[user_counts >= MIN_GAME_INTERACTIONS].index\n",
    "new_recommendations = df_filtered_games[df_filtered_games['user_id'].isin(users_to_keep)]\n",
    "\n",
    "print(f\"-> Dopo filtraggio giochi: {new_recommendations['app_id'].unique().size} righe rimaste\")\n",
    "print(f\"-> Dopo filtraggio utenti: {new_recommendations['user_id'].unique().size} righe rimaste\")"
   ]
  },
  {
   "cell_type": "code",
   "execution_count": 47,
   "id": "98017c8d",
   "metadata": {},
   "outputs": [
    {
     "name": "stdout",
     "output_type": "stream",
     "text": [
      "-> Prima filtraggio giochi: 5523 righe rimaste\n",
      "-> Prima filtraggio utenti: 13063 righe rimaste\n",
      "-> Dopo filtraggio giochi: 5522 righe rimaste\n",
      "-> Dopo filtraggio utenti: 13061 righe rimaste\n"
     ]
    }
   ],
   "source": [
    "print(f\"-> Prima filtraggio giochi: {new_recommendations['app_id'].unique().size} righe rimaste\")\n",
    "print(f\"-> Prima filtraggio utenti: {new_recommendations['user_id'].unique().size} righe rimaste\")\n",
    "    \n",
    "# Filtra i giochi con poche interazioni\n",
    "game_counts = new_recommendations['app_id'].value_counts()\n",
    "games_to_keep = game_counts[game_counts >= MIN_GAME_INTERACTIONS].index\n",
    "df_filtered_games = new_recommendations[new_recommendations['app_id'].isin(games_to_keep)]\n",
    "\n",
    "\n",
    "# Filtra gli utenti con poche interazioni\n",
    "user_counts = df_filtered_games['user_id'].value_counts()\n",
    "users_to_keep = user_counts[user_counts >= MIN_GAME_INTERACTIONS].index\n",
    "new_recommendations = df_filtered_games[df_filtered_games['user_id'].isin(users_to_keep)]\n",
    "\n",
    "print(f\"-> Dopo filtraggio giochi: {new_recommendations['app_id'].unique().size} righe rimaste\")\n",
    "print(f\"-> Dopo filtraggio utenti: {new_recommendations['user_id'].unique().size} righe rimaste\")"
   ]
  },
  {
   "cell_type": "code",
   "execution_count": 48,
   "id": "37ac2631",
   "metadata": {},
   "outputs": [
    {
     "name": "stdout",
     "output_type": "stream",
     "text": [
      "-> Prima filtraggio giochi: 5522 righe rimaste\n",
      "-> Prima filtraggio utenti: 13061 righe rimaste\n",
      "-> Dopo filtraggio giochi: 5522 righe rimaste\n",
      "-> Dopo filtraggio utenti: 13061 righe rimaste\n"
     ]
    }
   ],
   "source": [
    "print(f\"-> Prima filtraggio giochi: {new_recommendations['app_id'].unique().size} righe rimaste\")\n",
    "print(f\"-> Prima filtraggio utenti: {new_recommendations['user_id'].unique().size} righe rimaste\")\n",
    "    \n",
    "# Filtra i giochi con poche interazioni\n",
    "game_counts = new_recommendations['app_id'].value_counts()\n",
    "games_to_keep = game_counts[game_counts >= MIN_GAME_INTERACTIONS].index\n",
    "df_filtered_games = new_recommendations[new_recommendations['app_id'].isin(games_to_keep)]\n",
    "\n",
    "\n",
    "# Filtra gli utenti con poche interazioni\n",
    "user_counts = df_filtered_games['user_id'].value_counts()\n",
    "users_to_keep = user_counts[user_counts >= MIN_GAME_INTERACTIONS].index\n",
    "new_recommendations = df_filtered_games[df_filtered_games['user_id'].isin(users_to_keep)]\n",
    "\n",
    "print(f\"-> Dopo filtraggio giochi: {new_recommendations['app_id'].unique().size} righe rimaste\")\n",
    "print(f\"-> Dopo filtraggio utenti: {new_recommendations['user_id'].unique().size} righe rimaste\")"
   ]
  },
  {
   "cell_type": "code",
   "execution_count": 50,
   "id": "5035ee7d",
   "metadata": {},
   "outputs": [],
   "source": [
    "new_recommendations.to_csv(\"mid/recommendations.csv\", index=False)"
   ]
  }
 ],
 "metadata": {
  "kernelspec": {
   "display_name": "RecSysFramework",
   "language": "python",
   "name": "python3"
  },
  "language_info": {
   "codemirror_mode": {
    "name": "ipython",
    "version": 3
   },
   "file_extension": ".py",
   "mimetype": "text/x-python",
   "name": "python",
   "nbconvert_exporter": "python",
   "pygments_lexer": "ipython3",
   "version": "3.8.20"
  }
 },
 "nbformat": 4,
 "nbformat_minor": 5
}
