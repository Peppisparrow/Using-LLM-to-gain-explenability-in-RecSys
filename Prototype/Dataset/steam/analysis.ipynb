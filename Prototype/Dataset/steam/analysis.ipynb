{
 "cells": [
  {
   "cell_type": "code",
   "execution_count": 39,
   "id": "5117e4f3",
   "metadata": {},
   "outputs": [
    {
     "name": "stdout",
     "output_type": "stream",
     "text": [
      "Games:50872\n",
      "Recommendations:41154794\n",
      "Users:14306064\n"
     ]
    }
   ],
   "source": [
    "import pandas as pd\n",
    "import json\n",
    "games = pd.read_csv('games.csv')\n",
    "recommendations = pd.read_csv('recommendations.csv')\n",
    "users = pd.read_csv('users.csv')\n",
    "\n",
    "print(f'Games:{len(games)}')\n",
    "print(f'Recommendations:{len(recommendations)}')\n",
    "print(f'Users:{len(users)}')"
   ]
  },
  {
   "cell_type": "code",
   "execution_count": 40,
   "id": "9843af58",
   "metadata": {},
   "outputs": [
    {
     "name": "stdout",
     "output_type": "stream",
     "text": [
      "Caricamento metadata dei giochi...\n"
     ]
    },
    {
     "name": "stderr",
     "output_type": "stream",
     "text": [
      "Lettura metadata: 50872it [00:00, 310202.72it/s]\n"
     ]
    }
   ],
   "source": [
    "from tqdm import tqdm\n",
    "\"\"\"Carica le descrizioni dei giochi da games_metadata.json in un dizionario.\"\"\"\n",
    "metadata_dict = {}\n",
    "print(\"Caricamento metadata dei giochi...\")\n",
    "try:\n",
    "    with open(\"games_metadata.json\", 'r', encoding='utf-8') as f:\n",
    "        for line in tqdm(f, desc=\"Lettura metadata\"):\n",
    "            try:\n",
    "                data = json.loads(line)\n",
    "                if 'app_id' in data and 'description' in data:\n",
    "                    metadata_dict[data['app_id']] = data['description']\n",
    "            except json.JSONDecodeError:\n",
    "                continue # Salta le linee malformate\n",
    "except FileNotFoundError:\n",
    "    print(f\"ERRORE: File non trovato: \")"
   ]
  },
  {
   "cell_type": "markdown",
   "id": "f4ecb0d2",
   "metadata": {},
   "source": [
    "## Rimozione item con caratteri giappo/coreani"
   ]
  },
  {
   "cell_type": "code",
   "execution_count": 41,
   "id": "3bbcd7df",
   "metadata": {},
   "outputs": [
    {
     "name": "stdout",
     "output_type": "stream",
     "text": [
      "Apertura del file: games_metadata.json\n",
      "\n",
      "Elaborazione completata.\n",
      "\n",
      "✅ Trovati 787 app_id con caratteri giapponesi/coreani/cinesi:\n",
      "[910320, 570770, 716710, 1310990, 1700220, 1066290, 1126310, 987480, 1503670, 1475430, 1536080, 2105980, 1294060, 1973610, 1571140, 1168430, 2185770, 1395850, 1228520, 2020530, 2111860, 1345740, 913160, 1536070, 2059810, 965820, 1457630, 2101110, 1879640, 1549240, 1744910, 1058770, 2020510, 1984350, 1084520, 1478410, 909380, 1121300, 1180320, 876850, 1168470, 1261220, 1164000, 948830, 1070020, 1401220, 1017410, 2258590, 1161190, 1900340, 1120370, 1437840, 1176050, 1649730, 2193880, 1130620, 1672670, 528060, 2097720, 779640, 929200, 1267310, 1559300, 899160, 1411330, 2020520, 738510, 1437850, 1597460, 1250770, 1025070, 1306750, 1546570, 2109640, 769550, 1043230, 1437870, 2155310, 1069230, 1611490, 745880, 1195830, 1315160, 1508750, 1424720, 1840540, 937570, 1266630, 342380, 982400, 983150, 1422540, 1374480, 2020480, 1189490, 1658880, 2115700, 1161930, 1437830, 2200190, 2098070, 1563700, 1983940, 2232200, 1568880, 1621680, 1502120, 1100170, 1225780, 1424870, 1710750, 1843090, 1223020, 1545290, 1700180, 1416240, 1526520, 1777430, 1091740, 1845260, 2059790, 942930, 1100180, 1590700, 1870140, 1611410, 1508740, 948770, 1950570, 1057680, 970500, 1094530, 1173010, 2098790, 1092590, 1006400, 1870150, 1646350, 2261090, 1993150, 1653050, 2135500, 1100140, 1733680, 1254360, 1542280, 844920, 1969870, 1306620, 1434480, 913550, 1648470, 1939560, 1420650, 1348300, 1620100, 2074910, 924650, 659960, 1569930, 2150870, 1437860, 1457660, 1494190, 915130, 1854980, 1191070, 1765350, 1708870, 1728520, 2066360, 570780, 1549420, 1183260, 1944250, 2026520, 2249830, 1566410, 1754720, 2011470, 2249520, 1200110, 1079160, 1100160, 1347450, 1512720, 1437820, 2020630, 937580, 1393350, 1729410, 1840440, 1346770, 1730910, 1776970, 1829650, 831660, 1461810, 1043240, 1879280, 1956830, 2106520, 1000440, 1102980, 1638220, 2201400, 1908250, 1642580, 1538460, 2061260, 1240480, 1349960, 1787120, 2061020, 2161530, 1100150, 1400290, 1502040, 1420810, 880950, 1787500, 1903370, 1739610, 1825930, 2027920, 1920390, 1115640, 473460, 1452990, 1863750, 1111460, 1801640, 2015700, 904320, 1440500, 836640, 1986010, 1162680, 1437880, 2269460, 1002850, 1457430, 1486750, 1972910, 992700, 1230980, 1909020, 1461990, 719470, 819870, 735600, 783810, 907330, 1012180, 1383500, 952120, 816080, 1675590, 1305690, 1612910, 2109320, 2050720, 2141230, 1908320, 985020, 1567830, 1929850, 1108320, 1150130, 1705220, 975050, 1863540, 1353680, 1786670, 1061010, 1995830, 1001010, 1753490, 903150, 993980, 1066200, 1598750, 742360, 1417940, 1590570, 1348680, 1508650, 1654120, 1714660, 1836970, 1508730, 1287230, 1695150, 1724860, 1998660, 1059460, 822470, 2001460, 1597780, 1674340, 2066780, 1159000, 1177100, 2259740, 1069710, 1499520, 1814990, 1052500, 1081810, 1095790, 1511970, 2088250, 1118100, 1240910, 1408220, 1676880, 590910, 934710, 1403750, 779320, 1165230, 1861620, 1447430, 1973970, 1255640, 1128450, 2003510, 1293040, 2095600, 1583670, 1348510, 1889420, 1378730, 1429610, 2181430, 1841400, 970530, 1137160, 1508660, 1062200, 1637670, 2066420, 896670, 1508670, 1610610, 989710, 1248220, 1447470, 1062260, 2096710, 1211350, 1737330, 1829340, 1175120, 895990, 1874810, 926310, 1207210, 1875140, 2148830, 1533940, 385310, 787370, 1669330, 1414210, 1116960, 1642610, 1981380, 2020500, 2304030, 1833040, 1978240, 1362260, 1978000, 2003740, 2172470, 1845560, 809250, 1100030, 1111450, 1819020, 953570, 1352740, 1798300, 1891440, 1920820, 679490, 1780850, 1865680, 992260, 1447870, 1457650, 1305960, 1914940, 2015860, 989450, 908350, 1641210, 1987130, 932570, 883870, 1834500, 974450, 1689480, 1888010, 801600, 1832720, 2159860, 1147950, 1194560, 779560, 977500, 951130, 1849310, 1851320, 664130, 934580, 702080, 1132730, 850820, 1043470, 2083570, 1815000, 2138280, 1005950, 1113580, 456760, 1209990, 1221290, 972200, 1558430, 1749840, 1248120, 1457620, 1786760, 842190, 2002450, 1483310, 1558630, 1952490, 1193630, 1640810, 1768880, 1616520, 2091630, 711710, 1760690, 1812780, 2236580, 949970, 974200, 1455430, 835530, 1758360, 1828540, 2093020, 1151610, 1300670, 1096330, 1221420, 1096300, 1425790, 1758450, 1500750, 1959900, 2264080, 1099400, 1123400, 1864590, 1928470, 1371170, 1131280, 723420, 737500, 765640, 1094010, 1412510, 2020550, 1177400, 1494920, 1788170, 1240810, 1875590, 1906870, 1006800, 1091720, 1654130, 1086680, 1087960, 1825880, 2242590, 1392540, 1011970, 1162010, 1012800, 1080990, 2220680, 2050560, 905690, 1730980, 1795170, 747850, 1667920, 1266600, 1397070, 1872330, 1945230, 1686870, 793180, 1420780, 2214370, 1243700, 1630570, 1809310, 787110, 1975460, 934810, 1198320, 1304470, 1737240, 1781840, 2124470, 869660, 953740, 1430010, 1072490, 1249060, 1700250, 1216080, 1739630, 1598730, 1345400, 2153850, 705810, 2153570, 2240000, 858010, 1224900, 2075410, 1457640, 1304320, 2173550, 700510, 1373180, 1492870, 1702550, 1739600, 1788850, 1038680, 1551030, 1562470, 859200, 1021670, 1385880, 937690, 2135690, 1042560, 1558440, 2066460, 1185270, 1669340, 1265570, 964240, 1055760, 1591500, 1874660, 806720, 1560060, 1805490, 1850480, 835040, 1465890, 1589890, 1693990, 1090560, 1370060, 781590, 892420, 1800890, 1311440, 1933890, 2191620, 1098680, 2009300, 1840590, 2096470, 1339410, 1587260, 1689750, 1070230, 1765160, 1425770, 1339260, 1492860, 1504760, 1675940, 1149430, 1196620, 1360190, 1669870, 717980, 737710, 1986310, 2020540, 1531680, 1002360, 1940910, 1247880, 1557690, 1234030, 1272970, 1776250, 1002290, 1227250, 1516820, 1209000, 1548680, 1632310, 1731360, 1827680, 1164100, 1205590, 1264230, 1315620, 819790, 1002210, 1036960, 1985500, 2299150, 791390, 985680, 1167790, 1189200, 1416160, 765650, 1189740, 1522190, 1234750, 921390, 2020490, 1169230, 1355440, 1728460, 354560, 1041760, 1058270, 839500, 948850, 1077440, 1020830, 1253690, 1346740, 1295230, 832520, 1368860, 2109010, 868320, 1256430, 1787920, 2073710, 1210680, 1509340, 1367960, 2067930, 1387590, 1211990, 1877440, 1186860, 2089490, 1853670, 938810, 853250, 1058000, 2281300, 1632160, 2067970, 772460, 2163000, 1086470, 959870, 1780300, 1321120, 1812760, 787450, 1771830, 2321180, 2347380, 2154800, 948840, 1809300, 1910130, 2185870, 2057550, 2324020, 2316010, 2283690, 1907180, 1246060, 2358210, 2343600, 2281410, 2258650, 2323870, 1140610, 2227860, 2334850, 2056110, 2341920, 2284100, 2285650, 2321080, 1772350, 1212730, 1997230, 2321510, 2009390, 1764700, 1989740, 1469310, 965890, 1885570, 1992890, 2108110, 2163270, 1811480, 1355820, 2267740, 1007870, 2288210, 1837200, 2234030, 1923800, 1251400, 2354650, 1664490, 2116000, 2185840, 2270590, 2305480, 2214950, 2215290, 1690860, 1641270, 1476330, 1722040, 2162900, 2090650, 1350820, 1217410, 1976740, 1218950, 2281460, 2185850, 2014390, 2340400, 2166910, 2367230, 2400280, 2353450, 2425410, 2083600, 2395620, 2400590, 2378120, 2431490, 2367290, 2144260, 2134580, 2179520, 2079950, 1713200, 2337110, 2414730, 2350030, 2311320, 1040610, 2441070, 2334490, 2421300, 2440970, 1639400, 2394740, 2353910, 1495940, 2430100, 2055390, 2394040]\n"
     ]
    }
   ],
   "source": [
    "import json\n",
    "import re\n",
    "\n",
    "def filter_apps_by_language(file_path):\n",
    "    \"\"\"\n",
    "    Legge un file contenente JSON per riga e filtra gli app_id\n",
    "    con description o title in giapponese o coreano.\n",
    "    \"\"\"\n",
    "    # Questo pattern regex include gli intervalli Unicode per:\n",
    "    # Hiragana (Giapponese), Katakana (Giapponese),\n",
    "    # CJK Unified Ideographs (Kanji/Hanja/Hanzi), e Hangul (Coreano).\n",
    "    cjk_pattern = re.compile(\n",
    "        r'[\\u3040-\\u309F\\u30A0-\\u30FF\\u4E00-\\u9FFF\\uAC00-\\uD7AF]'\n",
    "    )\n",
    "\n",
    "    found_app_ids = []\n",
    "\n",
    "    print(f\"Apertura del file: {file_path}\\n\")\n",
    "\n",
    "    with open(file_path, 'r', encoding='utf-8') as f:\n",
    "        for line in f:\n",
    "            try:\n",
    "                data = json.loads(line)\n",
    "                app_id = data.get(\"app_id\")\n",
    "                \n",
    "                # Combiniamo titolo e descrizione per controllarli insieme.\n",
    "                # Usiamo .get() per evitare errori se un campo manca.\n",
    "                title = data.get(\"title\", \"\") or \"\"\n",
    "                description = data.get(\"description\", \"\") or \"\"\n",
    "                text_to_check = title + description\n",
    "\n",
    "                # re.search() è efficiente perché si ferma al primo match\n",
    "                if cjk_pattern.search(text_to_check):\n",
    "                    if app_id:\n",
    "                        found_app_ids.append(app_id)\n",
    "            \n",
    "            except json.JSONDecodeError:\n",
    "                print(f\"Attenzione: saltata una riga non valida: {line.strip()}\")\n",
    "\n",
    "    return found_app_ids\n",
    "\n",
    "# --- Come usarlo ---\n",
    "\n",
    "# 1. Salva i tuoi dati in un file chiamato \"apps.jsonl\".\n",
    "#    (Ogni oggetto JSON deve essere su una nuova riga).\n",
    "\n",
    "# 2. Esegui la funzione e stampa i risultati.\n",
    "problematic_ids = filter_apps_by_language(\"games_metadata.json\")\n",
    "\n",
    "print(\"Elaborazione completata.\\n\")\n",
    "if problematic_ids:\n",
    "    print(f\"✅ Trovati {len(problematic_ids)} app_id con caratteri giapponesi/coreani/cinesi:\")\n",
    "    print(problematic_ids)\n",
    "else:\n",
    "    print(\"ℹ️ Nessun app_id corrispondente ai criteri è stato trovato.\")"
   ]
  },
  {
   "cell_type": "code",
   "execution_count": 42,
   "id": "9c84f7b2",
   "metadata": {},
   "outputs": [
    {
     "name": "stdout",
     "output_type": "stream",
     "text": [
      "Trovati 40499 giochi con descrizione.\n",
      "Esempio dei primi 20 app_id trovati:\n",
      "[13500, 113020, 226560, 249050, 250180, 253980, 282900, 19810, 15270, 21130, 22130, 29180, 32750, 241620, 408520, 244910, 250460, 278890, 312200, 321290]\n"
     ]
    }
   ],
   "source": [
    "ids_descrizione = [\n",
    "    app_id for app_id, description in metadata_dict.items() if description\n",
    "]\n",
    "\n",
    "# --- Verifica (opzionale) ---\n",
    "# Stampa quanti ID hai trovato\n",
    "print(f\"Trovati {len(ids_descrizione)} giochi con descrizione.\")\n",
    "\n",
    "# Stampa i primi 20 ID per controllare\n",
    "if ids_descrizione:\n",
    "    print(\"Esempio dei primi 20 app_id trovati:\")\n",
    "    print(ids_descrizione[:20])"
   ]
  },
  {
   "cell_type": "code",
   "execution_count": 43,
   "id": "f299596b",
   "metadata": {},
   "outputs": [
    {
     "name": "stdout",
     "output_type": "stream",
     "text": [
      "Righe salvate: 40499\n"
     ]
    }
   ],
   "source": [
    "games_filtered = games[games['app_id'].isin(ids_descrizione)]\n",
    "print(f'Righe salvate: {len(games_filtered)}')"
   ]
  },
  {
   "cell_type": "code",
   "execution_count": 44,
   "id": "2b122c5c",
   "metadata": {},
   "outputs": [
    {
     "name": "stdout",
     "output_type": "stream",
     "text": [
      "Righe salvate: 39712\n"
     ]
    }
   ],
   "source": [
    "games_filtered = games_filtered[~games_filtered['app_id'].isin(problematic_ids)]\n",
    "print(f'Righe salvate: {len(games_filtered)}')"
   ]
  },
  {
   "cell_type": "code",
   "execution_count": 45,
   "id": "4901a5bf",
   "metadata": {},
   "outputs": [],
   "source": [
    "games_filtered.to_csv('filtering_no_desc_giappo_corean_k10/games.csv', index=False)"
   ]
  },
  {
   "cell_type": "code",
   "execution_count": 46,
   "id": "07716056",
   "metadata": {},
   "outputs": [
    {
     "data": {
      "text/plain": [
       "(np.int64(1), np.int64(319492))"
      ]
     },
     "execution_count": 46,
     "metadata": {},
     "output_type": "execute_result"
    }
   ],
   "source": [
    "recommendations['app_id'].value_counts().min(), recommendations['app_id'].value_counts().max()"
   ]
  },
  {
   "cell_type": "code",
   "execution_count": 47,
   "id": "e15df4da",
   "metadata": {},
   "outputs": [],
   "source": [
    "MIN_GAME_INTERACTIONS = 10"
   ]
  },
  {
   "cell_type": "markdown",
   "id": "9e8443e8",
   "metadata": {},
   "source": [
    "## 1"
   ]
  },
  {
   "cell_type": "code",
   "execution_count": 54,
   "id": "ac90cf68",
   "metadata": {},
   "outputs": [
    {
     "data": {
      "text/plain": [
       "787"
      ]
     },
     "execution_count": 54,
     "metadata": {},
     "output_type": "execute_result"
    }
   ],
   "source": [
    "len(problematic_ids)"
   ]
  },
  {
   "cell_type": "code",
   "execution_count": 53,
   "id": "f40c09f5",
   "metadata": {},
   "outputs": [
    {
     "name": "stdout",
     "output_type": "stream",
     "text": [
      "Skipping problematic app_id: 910320\n"
     ]
    }
   ],
   "source": [
    "for i in problematic_ids:\n",
    "    if i == 910320:\n",
    "        print(f\"Skipping problematic app_id: {i}\")\n",
    "        continue"
   ]
  },
  {
   "cell_type": "code",
   "execution_count": null,
   "id": "320767a9",
   "metadata": {},
   "outputs": [
    {
     "name": "stdout",
     "output_type": "stream",
     "text": [
      "Righe prima del filtro: 41154794\n",
      "Righe dopo il filtro: 20347591\n"
     ]
    }
   ],
   "source": [
    "# Filtra users per gli user_id presenti in new_recommendations\n",
    "print(f\"Righe prima del filtro: {len(recommendations)}\")\n",
    "recommendations = recommendations[recommendations['app_id'].isin(ids_descrizione)]\n",
    "print(f\"Righe dopo il filtro: {len(recommendations)}\")"
   ]
  },
  {
   "cell_type": "code",
   "execution_count": 63,
   "id": "1eabf641",
   "metadata": {},
   "outputs": [],
   "source": [
    "recommendations['app_id'] = recommendations['app_id'].astype('Int64')"
   ]
  },
  {
   "cell_type": "code",
   "execution_count": 68,
   "id": "d3abb45f",
   "metadata": {},
   "outputs": [
    {
     "name": "stdout",
     "output_type": "stream",
     "text": [
      "Righe prima del filtro problematici: 20347591\n",
      "Righe dopo il filtro problematici: 20182554\n"
     ]
    }
   ],
   "source": [
    "problematic_ids_int = [int(pid) for pid in problematic_ids]\n",
    "print(f\"Righe prima del filtro problematici: {len(recommendations)}\")\n",
    "recommendations = recommendations[~recommendations['app_id'].isin(problematic_ids)]\n",
    "print(f\"Righe dopo il filtro problematici: {len(recommendations)}\")"
   ]
  },
  {
   "cell_type": "code",
   "execution_count": 70,
   "id": "bb8eb9d6",
   "metadata": {},
   "outputs": [
    {
     "name": "stdout",
     "output_type": "stream",
     "text": [
      "-> Prima filtraggio giochi: 36314 righe rimaste\n",
      "-> Prima filtraggio utenti: 7449206 righe rimaste\n",
      "-> Dopo filtraggio giochi: 30061 righe rimaste\n",
      "-> Dopo filtraggio utenti: 296410 righe rimaste\n"
     ]
    }
   ],
   "source": [
    "print(f\"-> Prima filtraggio giochi: {recommendations['app_id'].unique().size} righe rimaste\")\n",
    "print(f\"-> Prima filtraggio utenti: {recommendations['user_id'].unique().size} righe rimaste\")\n",
    "    \n",
    "# Filtra i giochi con poche interazioni\n",
    "game_counts = recommendations['app_id'].value_counts()\n",
    "games_to_keep = game_counts[game_counts >= MIN_GAME_INTERACTIONS].index\n",
    "df_filtered_games = recommendations[recommendations['app_id'].isin(games_to_keep)]\n",
    "\n",
    "\n",
    "# Filtra gli utenti con poche interazioni\n",
    "user_counts = df_filtered_games['user_id'].value_counts()\n",
    "users_to_keep = user_counts[user_counts >= MIN_GAME_INTERACTIONS].index\n",
    "new_recommendations = df_filtered_games[df_filtered_games['user_id'].isin(users_to_keep)]\n",
    "\n",
    "print(f\"-> Dopo filtraggio giochi: {new_recommendations['app_id'].unique().size} righe rimaste\")\n",
    "print(f\"-> Dopo filtraggio utenti: {new_recommendations['user_id'].unique().size} righe rimaste\")"
   ]
  },
  {
   "cell_type": "markdown",
   "id": "4872a6f8",
   "metadata": {},
   "source": [
    "## 2"
   ]
  },
  {
   "cell_type": "code",
   "execution_count": 71,
   "id": "439c6b62",
   "metadata": {},
   "outputs": [
    {
     "name": "stdout",
     "output_type": "stream",
     "text": [
      "-> Prima filtraggio giochi: 30061 righe rimaste\n",
      "-> Prima filtraggio utenti: 296410 righe rimaste\n",
      "-> Dopo filtraggio giochi: 25885 righe rimaste\n",
      "-> Dopo filtraggio utenti: 295417 righe rimaste\n"
     ]
    }
   ],
   "source": [
    "print(f\"-> Prima filtraggio giochi: {new_recommendations['app_id'].unique().size} righe rimaste\")\n",
    "print(f\"-> Prima filtraggio utenti: {new_recommendations['user_id'].unique().size} righe rimaste\")\n",
    "    \n",
    "# Filtra i giochi con poche interazioni\n",
    "game_counts = new_recommendations['app_id'].value_counts()\n",
    "games_to_keep = game_counts[game_counts >= MIN_GAME_INTERACTIONS].index\n",
    "df_filtered_games = new_recommendations[new_recommendations['app_id'].isin(games_to_keep)]\n",
    "\n",
    "\n",
    "# Filtra gli utenti con poche interazioni\n",
    "user_counts = df_filtered_games['user_id'].value_counts()\n",
    "users_to_keep = user_counts[user_counts >= MIN_GAME_INTERACTIONS].index\n",
    "new_recommendations = df_filtered_games[df_filtered_games['user_id'].isin(users_to_keep)]\n",
    "\n",
    "print(f\"-> Dopo filtraggio giochi: {new_recommendations['app_id'].unique().size} righe rimaste\")\n",
    "print(f\"-> Dopo filtraggio utenti: {new_recommendations['user_id'].unique().size} righe rimaste\")"
   ]
  },
  {
   "cell_type": "markdown",
   "id": "ab77e64e",
   "metadata": {},
   "source": [
    "## 3"
   ]
  },
  {
   "cell_type": "code",
   "execution_count": 72,
   "id": "2c3c4fed",
   "metadata": {},
   "outputs": [
    {
     "name": "stdout",
     "output_type": "stream",
     "text": [
      "-> Prima filtraggio giochi: 25885 righe rimaste\n",
      "-> Prima filtraggio utenti: 295417 righe rimaste\n",
      "-> Dopo filtraggio giochi: 25846 righe rimaste\n",
      "-> Dopo filtraggio utenti: 295399 righe rimaste\n"
     ]
    }
   ],
   "source": [
    "print(f\"-> Prima filtraggio giochi: {new_recommendations['app_id'].unique().size} righe rimaste\")\n",
    "print(f\"-> Prima filtraggio utenti: {new_recommendations['user_id'].unique().size} righe rimaste\")\n",
    "    \n",
    "# Filtra i giochi con poche interazioni\n",
    "game_counts = new_recommendations['app_id'].value_counts()\n",
    "games_to_keep = game_counts[game_counts >= MIN_GAME_INTERACTIONS].index\n",
    "df_filtered_games = new_recommendations[new_recommendations['app_id'].isin(games_to_keep)]\n",
    "\n",
    "\n",
    "# Filtra gli utenti con poche interazioni\n",
    "user_counts = df_filtered_games['user_id'].value_counts()\n",
    "users_to_keep = user_counts[user_counts >= MIN_GAME_INTERACTIONS].index\n",
    "new_recommendations = df_filtered_games[df_filtered_games['user_id'].isin(users_to_keep)]\n",
    "\n",
    "print(f\"-> Dopo filtraggio giochi: {new_recommendations['app_id'].unique().size} righe rimaste\")\n",
    "print(f\"-> Dopo filtraggio utenti: {new_recommendations['user_id'].unique().size} righe rimaste\")"
   ]
  },
  {
   "cell_type": "markdown",
   "id": "c5a05ac7",
   "metadata": {},
   "source": [
    "## 4"
   ]
  },
  {
   "cell_type": "code",
   "execution_count": 73,
   "id": "35b5d5d7",
   "metadata": {},
   "outputs": [
    {
     "name": "stdout",
     "output_type": "stream",
     "text": [
      "-> Prima filtraggio giochi: 25846 righe rimaste\n",
      "-> Prima filtraggio utenti: 295399 righe rimaste\n",
      "-> Dopo filtraggio giochi: 25841 righe rimaste\n",
      "-> Dopo filtraggio utenti: 295398 righe rimaste\n"
     ]
    }
   ],
   "source": [
    "print(f\"-> Prima filtraggio giochi: {new_recommendations['app_id'].unique().size} righe rimaste\")\n",
    "print(f\"-> Prima filtraggio utenti: {new_recommendations['user_id'].unique().size} righe rimaste\")\n",
    "    \n",
    "# Filtra i giochi con poche interazioni\n",
    "game_counts = new_recommendations['app_id'].value_counts()\n",
    "games_to_keep = game_counts[game_counts >= MIN_GAME_INTERACTIONS].index\n",
    "df_filtered_games = new_recommendations[new_recommendations['app_id'].isin(games_to_keep)]\n",
    "\n",
    "\n",
    "# Filtra gli utenti con poche interazioni\n",
    "user_counts = df_filtered_games['user_id'].value_counts()\n",
    "users_to_keep = user_counts[user_counts >= MIN_GAME_INTERACTIONS].index\n",
    "new_recommendations = df_filtered_games[df_filtered_games['user_id'].isin(users_to_keep)]\n",
    "\n",
    "print(f\"-> Dopo filtraggio giochi: {new_recommendations['app_id'].unique().size} righe rimaste\")\n",
    "print(f\"-> Dopo filtraggio utenti: {new_recommendations['user_id'].unique().size} righe rimaste\")"
   ]
  },
  {
   "cell_type": "code",
   "execution_count": 74,
   "id": "acb96baa",
   "metadata": {},
   "outputs": [
    {
     "name": "stdout",
     "output_type": "stream",
     "text": [
      "-> Prima filtraggio giochi: 25841 righe rimaste\n",
      "-> Prima filtraggio utenti: 295398 righe rimaste\n",
      "-> Dopo filtraggio giochi: 25840 righe rimaste\n",
      "-> Dopo filtraggio utenti: 295398 righe rimaste\n"
     ]
    }
   ],
   "source": [
    "print(f\"-> Prima filtraggio giochi: {new_recommendations['app_id'].unique().size} righe rimaste\")\n",
    "print(f\"-> Prima filtraggio utenti: {new_recommendations['user_id'].unique().size} righe rimaste\")\n",
    "    \n",
    "# Filtra i giochi con poche interazioni\n",
    "game_counts = new_recommendations['app_id'].value_counts()\n",
    "games_to_keep = game_counts[game_counts >= MIN_GAME_INTERACTIONS].index\n",
    "df_filtered_games = new_recommendations[new_recommendations['app_id'].isin(games_to_keep)]\n",
    "\n",
    "\n",
    "# Filtra gli utenti con poche interazioni\n",
    "user_counts = df_filtered_games['user_id'].value_counts()\n",
    "users_to_keep = user_counts[user_counts >= MIN_GAME_INTERACTIONS].index\n",
    "new_recommendations = df_filtered_games[df_filtered_games['user_id'].isin(users_to_keep)]\n",
    "\n",
    "print(f\"-> Dopo filtraggio giochi: {new_recommendations['app_id'].unique().size} righe rimaste\")\n",
    "print(f\"-> Dopo filtraggio utenti: {new_recommendations['user_id'].unique().size} righe rimaste\")"
   ]
  },
  {
   "cell_type": "code",
   "execution_count": 75,
   "id": "a4e026a1",
   "metadata": {},
   "outputs": [
    {
     "name": "stdout",
     "output_type": "stream",
     "text": [
      "-> Prima filtraggio giochi: 25840 righe rimaste\n",
      "-> Prima filtraggio utenti: 295398 righe rimaste\n",
      "-> Dopo filtraggio giochi: 25840 righe rimaste\n",
      "-> Dopo filtraggio utenti: 295398 righe rimaste\n"
     ]
    }
   ],
   "source": [
    "print(f\"-> Prima filtraggio giochi: {new_recommendations['app_id'].unique().size} righe rimaste\")\n",
    "print(f\"-> Prima filtraggio utenti: {new_recommendations['user_id'].unique().size} righe rimaste\")\n",
    "    \n",
    "# Filtra i giochi con poche interazioni\n",
    "game_counts = new_recommendations['app_id'].value_counts()\n",
    "games_to_keep = game_counts[game_counts >= MIN_GAME_INTERACTIONS].index\n",
    "df_filtered_games = new_recommendations[new_recommendations['app_id'].isin(games_to_keep)]\n",
    "\n",
    "\n",
    "# Filtra gli utenti con poche interazioni\n",
    "user_counts = df_filtered_games['user_id'].value_counts()\n",
    "users_to_keep = user_counts[user_counts >= MIN_GAME_INTERACTIONS].index\n",
    "new_recommendations = df_filtered_games[df_filtered_games['user_id'].isin(users_to_keep)]\n",
    "\n",
    "print(f\"-> Dopo filtraggio giochi: {new_recommendations['app_id'].unique().size} righe rimaste\")\n",
    "print(f\"-> Dopo filtraggio utenti: {new_recommendations['user_id'].unique().size} righe rimaste\")"
   ]
  },
  {
   "cell_type": "code",
   "execution_count": 76,
   "id": "06087d0e",
   "metadata": {},
   "outputs": [
    {
     "name": "stdout",
     "output_type": "stream",
     "text": [
      "-> Giochi persi dopo il filtraggio: 10474\n",
      "-> Utenti persi dopo il filtraggio: 7153808\n"
     ]
    }
   ],
   "source": [
    "print(f\"-> Giochi persi dopo il filtraggio: {recommendations['app_id'].unique().size - new_recommendations['app_id'].unique().size}\")\n",
    "print(f\"-> Utenti persi dopo il filtraggio: {recommendations['user_id'].unique().size - new_recommendations['user_id'].unique().size}\")"
   ]
  },
  {
   "cell_type": "code",
   "execution_count": 77,
   "id": "8d1797a4",
   "metadata": {},
   "outputs": [
    {
     "data": {
      "text/html": [
       "<div>\n",
       "<style scoped>\n",
       "    .dataframe tbody tr th:only-of-type {\n",
       "        vertical-align: middle;\n",
       "    }\n",
       "\n",
       "    .dataframe tbody tr th {\n",
       "        vertical-align: top;\n",
       "    }\n",
       "\n",
       "    .dataframe thead th {\n",
       "        text-align: right;\n",
       "    }\n",
       "</style>\n",
       "<table border=\"1\" class=\"dataframe\">\n",
       "  <thead>\n",
       "    <tr style=\"text-align: right;\">\n",
       "      <th></th>\n",
       "      <th>app_id</th>\n",
       "      <th>helpful</th>\n",
       "      <th>funny</th>\n",
       "      <th>date</th>\n",
       "      <th>is_recommended</th>\n",
       "      <th>hours</th>\n",
       "      <th>user_id</th>\n",
       "      <th>review_id</th>\n",
       "    </tr>\n",
       "  </thead>\n",
       "  <tbody>\n",
       "    <tr>\n",
       "      <th>800</th>\n",
       "      <td>1544020</td>\n",
       "      <td>18</td>\n",
       "      <td>2</td>\n",
       "      <td>2022-12-02</td>\n",
       "      <td>False</td>\n",
       "      <td>9.1</td>\n",
       "      <td>9254726</td>\n",
       "      <td>800</td>\n",
       "    </tr>\n",
       "    <tr>\n",
       "      <th>954</th>\n",
       "      <td>1544020</td>\n",
       "      <td>0</td>\n",
       "      <td>0</td>\n",
       "      <td>2022-12-12</td>\n",
       "      <td>False</td>\n",
       "      <td>0.8</td>\n",
       "      <td>12303769</td>\n",
       "      <td>954</td>\n",
       "    </tr>\n",
       "    <tr>\n",
       "      <th>2090</th>\n",
       "      <td>1766740</td>\n",
       "      <td>0</td>\n",
       "      <td>0</td>\n",
       "      <td>2022-12-18</td>\n",
       "      <td>True</td>\n",
       "      <td>12.7</td>\n",
       "      <td>6766810</td>\n",
       "      <td>2090</td>\n",
       "    </tr>\n",
       "    <tr>\n",
       "      <th>2165</th>\n",
       "      <td>1325200</td>\n",
       "      <td>0</td>\n",
       "      <td>0</td>\n",
       "      <td>2021-06-10</td>\n",
       "      <td>True</td>\n",
       "      <td>94.5</td>\n",
       "      <td>11593837</td>\n",
       "      <td>2165</td>\n",
       "    </tr>\n",
       "    <tr>\n",
       "      <th>4636</th>\n",
       "      <td>1325200</td>\n",
       "      <td>0</td>\n",
       "      <td>0</td>\n",
       "      <td>2021-12-02</td>\n",
       "      <td>False</td>\n",
       "      <td>76.9</td>\n",
       "      <td>12938782</td>\n",
       "      <td>4636</td>\n",
       "    </tr>\n",
       "    <tr>\n",
       "      <th>...</th>\n",
       "      <td>...</td>\n",
       "      <td>...</td>\n",
       "      <td>...</td>\n",
       "      <td>...</td>\n",
       "      <td>...</td>\n",
       "      <td>...</td>\n",
       "      <td>...</td>\n",
       "      <td>...</td>\n",
       "    </tr>\n",
       "    <tr>\n",
       "      <th>41154770</th>\n",
       "      <td>700600</td>\n",
       "      <td>0</td>\n",
       "      <td>0</td>\n",
       "      <td>2021-07-14</td>\n",
       "      <td>True</td>\n",
       "      <td>2.0</td>\n",
       "      <td>6382076</td>\n",
       "      <td>41154770</td>\n",
       "    </tr>\n",
       "    <tr>\n",
       "      <th>41154771</th>\n",
       "      <td>362960</td>\n",
       "      <td>0</td>\n",
       "      <td>0</td>\n",
       "      <td>2019-07-06</td>\n",
       "      <td>True</td>\n",
       "      <td>35.0</td>\n",
       "      <td>7858713</td>\n",
       "      <td>41154771</td>\n",
       "    </tr>\n",
       "    <tr>\n",
       "      <th>41154777</th>\n",
       "      <td>298110</td>\n",
       "      <td>0</td>\n",
       "      <td>0</td>\n",
       "      <td>2022-03-25</td>\n",
       "      <td>True</td>\n",
       "      <td>5.0</td>\n",
       "      <td>13661350</td>\n",
       "      <td>41154777</td>\n",
       "    </tr>\n",
       "    <tr>\n",
       "      <th>41154790</th>\n",
       "      <td>758870</td>\n",
       "      <td>8</td>\n",
       "      <td>0</td>\n",
       "      <td>2019-07-18</td>\n",
       "      <td>False</td>\n",
       "      <td>8.0</td>\n",
       "      <td>1786254</td>\n",
       "      <td>41154790</td>\n",
       "    </tr>\n",
       "    <tr>\n",
       "      <th>41154791</th>\n",
       "      <td>696170</td>\n",
       "      <td>3</td>\n",
       "      <td>10</td>\n",
       "      <td>2018-03-26</td>\n",
       "      <td>False</td>\n",
       "      <td>2.0</td>\n",
       "      <td>6370324</td>\n",
       "      <td>41154791</td>\n",
       "    </tr>\n",
       "  </tbody>\n",
       "</table>\n",
       "<p>6776889 rows × 8 columns</p>\n",
       "</div>"
      ],
      "text/plain": [
       "           app_id  helpful  funny        date  is_recommended  hours  \\\n",
       "800       1544020       18      2  2022-12-02           False    9.1   \n",
       "954       1544020        0      0  2022-12-12           False    0.8   \n",
       "2090      1766740        0      0  2022-12-18            True   12.7   \n",
       "2165      1325200        0      0  2021-06-10            True   94.5   \n",
       "4636      1325200        0      0  2021-12-02           False   76.9   \n",
       "...           ...      ...    ...         ...             ...    ...   \n",
       "41154770   700600        0      0  2021-07-14            True    2.0   \n",
       "41154771   362960        0      0  2019-07-06            True   35.0   \n",
       "41154777   298110        0      0  2022-03-25            True    5.0   \n",
       "41154790   758870        8      0  2019-07-18           False    8.0   \n",
       "41154791   696170        3     10  2018-03-26           False    2.0   \n",
       "\n",
       "           user_id  review_id  \n",
       "800        9254726        800  \n",
       "954       12303769        954  \n",
       "2090       6766810       2090  \n",
       "2165      11593837       2165  \n",
       "4636      12938782       4636  \n",
       "...            ...        ...  \n",
       "41154770   6382076   41154770  \n",
       "41154771   7858713   41154771  \n",
       "41154777  13661350   41154777  \n",
       "41154790   1786254   41154790  \n",
       "41154791   6370324   41154791  \n",
       "\n",
       "[6776889 rows x 8 columns]"
      ]
     },
     "execution_count": 77,
     "metadata": {},
     "output_type": "execute_result"
    }
   ],
   "source": [
    "new_recommendations"
   ]
  },
  {
   "cell_type": "code",
   "execution_count": 78,
   "id": "dd09f5f0",
   "metadata": {},
   "outputs": [],
   "source": [
    "new_recommendations.to_csv('filtering_no_desc_giappo_corean_k10/recommendations.csv', index=False)"
   ]
  },
  {
   "cell_type": "code",
   "execution_count": 79,
   "id": "128d2b70",
   "metadata": {},
   "outputs": [
    {
     "name": "stdout",
     "output_type": "stream",
     "text": [
      "Righe salvate: 295398\n"
     ]
    }
   ],
   "source": [
    "# Filtra users per gli user_id presenti in new_recommendations\n",
    "users_filtered = users[users['user_id'].isin(new_recommendations['user_id'])]\n",
    "\n",
    "# Salva in CSV\n",
    "users_filtered.to_csv('filtering_no_desc_giappo_corean_k10/users.csv', index=False)\n",
    "\n",
    "print(f'Righe salvate: {len(users_filtered)}')"
   ]
  },
  {
   "cell_type": "code",
   "execution_count": 80,
   "id": "6a04e48e",
   "metadata": {},
   "outputs": [],
   "source": [
    "from sklearn.model_selection import train_test_split\n",
    "\n",
    "recommendations = pd.read_csv('filtering_no_desc_giappo_corean_k10/recommendations.csv')\n",
    "train_recommendations, test_recommendations = train_test_split(recommendations, test_size=0.2, random_state=42)"
   ]
  },
  {
   "cell_type": "code",
   "execution_count": 82,
   "id": "8e6882ec",
   "metadata": {},
   "outputs": [
    {
     "data": {
      "text/plain": [
       "(5421511, 1355378, 6776889)"
      ]
     },
     "execution_count": 82,
     "metadata": {},
     "output_type": "execute_result"
    }
   ],
   "source": [
    "len(train_recommendations), len(test_recommendations), len(recommendations)"
   ]
  },
  {
   "cell_type": "code",
   "execution_count": 83,
   "id": "7be08d66",
   "metadata": {},
   "outputs": [],
   "source": [
    "train_recommendations.to_csv('filtering_no_desc_giappo_corean_k10/train_recommendations.csv', index=False)\n",
    "test_recommendations.to_csv('filtering_no_desc_giappo_corean_k10/test_recommendations.csv', index=False)"
   ]
  }
 ],
 "metadata": {
  "kernelspec": {
   "display_name": "recsys2025",
   "language": "python",
   "name": "python3"
  },
  "language_info": {
   "codemirror_mode": {
    "name": "ipython",
    "version": 3
   },
   "file_extension": ".py",
   "mimetype": "text/x-python",
   "name": "python",
   "nbconvert_exporter": "python",
   "pygments_lexer": "ipython3",
   "version": "3.10.16"
  }
 },
 "nbformat": 4,
 "nbformat_minor": 5
}
