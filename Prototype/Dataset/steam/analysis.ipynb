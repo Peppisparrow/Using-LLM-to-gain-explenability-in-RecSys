{
 "cells": [
  {
   "cell_type": "code",
   "execution_count": null,
   "id": "5117e4f3",
   "metadata": {},
   "outputs": [],
   "source": [
    "import pandas as pd\n"
   ]
  }
 ],
 "metadata": {
  "kernelspec": {
   "display_name": "recsys2025",
   "language": "python",
   "name": "python3"
  },
  "language_info": {
   "name": "python",
   "version": "3.10.16"
  }
 },
 "nbformat": 4,
 "nbformat_minor": 5
}
