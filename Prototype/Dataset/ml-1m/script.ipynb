{
 "cells": [
  {
   "cell_type": "code",
   "execution_count": 1,
   "id": "d87392fb",
   "metadata": {},
   "outputs": [],
   "source": [
    "from sklearn.model_selection import train_test_split\n",
    "import pandas as pd\n",
    "ratings = pd.read_csv('ratings.csv')"
   ]
  },
  {
   "cell_type": "code",
   "execution_count": 13,
   "id": "f512feb2",
   "metadata": {},
   "outputs": [
    {
     "data": {
      "text/plain": [
       "dict_keys([1, 2, 3, 4, 5, 6, 7, 8, 9, 10, 11, 12, 13, 14, 15, 16, 17, 18, 19, 20, 21, 22, 23, 24, 25, 26, 27, 28, 29, 30, 31, 32, 33, 34, 35, 36, 37, 38, 39, 40, 41, 42, 43, 44, 45, 46, 47, 48, 49, 50, 51, 52, 53, 54, 55, 56, 57, 58, 59, 60, 61, 62, 63, 64, 65, 66, 67, 68, 69, 70, 71, 72, 73, 74, 75, 76, 77, 78, 79, 80, 81, 82, 83, 84, 85, 86, 87, 88, 89, 90, 91, 92, 93, 94, 95, 96, 97, 98, 99, 100, 101, 102, 103, 104, 105, 106, 107, 108, 109, 110, 111, 112, 113, 114, 115, 116, 117, 118, 119, 120, 121, 122, 123, 124, 125, 126, 127, 128, 129, 130, 131, 132, 133, 134, 135, 136, 137, 138, 139, 140, 141, 142, 143, 144, 145, 146, 147, 148, 149, 150, 151, 152, 153, 154, 155, 156, 157, 158, 159, 160, 161, 162, 163, 164, 165, 166, 167, 168, 169, 170, 171, 172, 173, 174, 175, 176, 177, 178, 179, 180, 181, 182, 183, 184, 185, 186, 187, 188, 189, 190, 191, 192, 193, 194, 195, 196, 197, 198, 199, 200, 201, 202, 203, 204, 205, 206, 207, 208, 209, 210, 211, 212, 213, 214, 215, 216, 217, 218, 219, 220, 221, 222, 223, 224, 225, 226, 227, 228, 229, 230, 231, 232, 233, 234, 235, 236, 237, 238, 239, 240, 241, 242, 243, 244, 245, 246, 247, 248, 249, 250, 251, 252, 253, 254, 255, 256, 257, 258, 259, 260, 261, 262, 263, 264, 265, 266, 267, 268, 269, 270, 271, 272, 273, 274, 275, 276, 277, 278, 279, 280, 281, 282, 283, 284, 285, 286, 287, 288, 289, 290, 291, 292, 293, 294, 295, 296, 297, 298, 299, 300, 301, 302, 303, 304, 305, 306, 307, 308, 309, 310, 311, 312, 313, 314, 315, 316, 317, 318, 319, 320, 321, 322, 323, 324, 325, 326, 327, 328, 329, 330, 331, 332, 333, 334, 335, 336, 337, 338, 339, 340, 341, 342, 343, 344, 345, 346, 347, 348, 349, 350, 351, 352, 353, 354, 355, 356, 357, 358, 359, 360, 361, 362, 363, 364, 365, 366, 367, 368, 369, 370, 371, 372, 373, 374, 375, 376, 377, 378, 379, 380, 381, 382, 383, 384, 385, 386, 387, 388, 389, 390, 391, 392, 393, 394, 395, 396, 397, 398, 399, 400, 401, 402, 403, 404, 405, 406, 407, 408, 409, 410, 411, 412, 413, 414, 415, 416, 417, 418, 419, 420, 421, 422, 423, 424, 425, 426, 427, 428, 429, 430, 431, 432, 433, 434, 435, 436, 437, 438, 439, 440, 441, 442, 443, 444, 445, 446, 447, 448, 449, 450, 451, 452, 453, 454, 455, 456, 457, 458, 459, 460, 461, 462, 463, 464, 465, 466, 467, 468, 469, 470, 471, 472, 473, 474, 475, 476, 477, 478, 479, 480, 481, 482, 483, 484, 485, 486, 487, 488, 489, 490, 491, 492, 493, 494, 495, 496, 497, 498, 499, 500, 501, 502, 503, 504, 505, 506, 507, 508, 509, 510, 511, 512, 513, 514, 515, 516, 517, 518, 519, 520, 521, 522, 523, 524, 525, 526, 527, 528, 529, 530, 531, 532, 533, 534, 535, 536, 537, 538, 539, 540, 541, 542, 543, 544, 545, 546, 547, 548, 549, 550, 551, 552, 553, 554, 555, 556, 557, 558, 559, 560, 561, 562, 563, 564, 565, 566, 567, 568, 569, 570, 571, 572, 573, 574, 575, 576, 577, 578, 579, 580, 581, 582, 583, 584, 585, 586, 587, 588, 589, 590, 591, 592, 593, 594, 595, 596, 597, 598, 599, 600, 601, 602, 603, 604, 605, 606, 607, 608, 609, 610])"
      ]
     },
     "execution_count": 13,
     "metadata": {},
     "output_type": "execute_result"
    }
   ],
   "source": [
    "import pickle\n",
    "import numpy as np\n",
    "from pathlib import Path\n",
    "user_histories_path = Path('item_embeddings_mxbai_MATRIX_USER.pkl')\n",
    "with open(user_histories_path, 'rb') as f:\n",
    "    user_histories_dict = pickle.load(f)\n",
    "user_histories_dict.keys()"
   ]
  },
  {
   "cell_type": "code",
   "execution_count": 34,
   "id": "c3518c6f",
   "metadata": {},
   "outputs": [
    {
     "data": {
      "text/plain": [
       "array([ 0.44590214, -0.4160801 ,  0.418914  , ...,  0.04300147,\n",
       "       -0.20246144,  0.05093052], dtype=float32)"
      ]
     },
     "execution_count": 34,
     "metadata": {},
     "output_type": "execute_result"
    }
   ],
   "source": [
    "user_histories_dict[2][0]"
   ]
  },
  {
   "cell_type": "code",
   "execution_count": 17,
   "id": "d40a7e88",
   "metadata": {},
   "outputs": [],
   "source": [
    "train_recommendations = pd.read_csv('train_recommendations.csv')\n",
    "item_embeddings = np.load('item_embeddings_mxbai.npz')"
   ]
  },
  {
   "cell_type": "code",
   "execution_count": 52,
   "id": "3970e821",
   "metadata": {},
   "outputs": [],
   "source": [
    "user189=train_recommendations[train_recommendations['user_id']==189]\n"
   ]
  },
  {
   "cell_type": "code",
   "execution_count": 50,
   "id": "629c6cc6",
   "metadata": {},
   "outputs": [
    {
     "name": "stdout",
     "output_type": "stream",
     "text": [
      "L'utente con meno interazioni è 189 (totale interazioni: 13)\n"
     ]
    }
   ],
   "source": [
    "id=train_recommendations.groupby('user_id').size()\n",
    "# ID dell’utente con meno interazioni\n",
    "id_min = id.idxmin()\n",
    "\n",
    "# Numero di interazioni di quell’utente (opzionale, ma utile per verificarlo)\n",
    "n_min = id.loc[id_min]\n",
    "\n",
    "print(f\"L'utente con meno interazioni è {id_min} (totale interazioni: {n_min})\")"
   ]
  },
  {
   "cell_type": "code",
   "execution_count": 56,
   "id": "25833c96",
   "metadata": {},
   "outputs": [
    {
     "name": "stdout",
     "output_type": "stream",
     "text": [
      "33794\n",
      "91529\n",
      "48516\n",
      "356\n",
      "5952\n",
      "58559\n",
      "68954\n",
      "2571\n",
      "527\n",
      "2959\n",
      "4993\n",
      "1265\n",
      "76093\n"
     ]
    }
   ],
   "source": [
    "for item in user189['app_id']:\n",
    "    print(item)"
   ]
  },
  {
   "cell_type": "code",
   "execution_count": 63,
   "id": "10d77fc0",
   "metadata": {},
   "outputs": [
    {
     "data": {
      "text/plain": [
       "'5644'"
      ]
     },
     "execution_count": 63,
     "metadata": {},
     "output_type": "execute_result"
    }
   ],
   "source": [
    "item_embeddings['item_id'][4000]"
   ]
  },
  {
   "cell_type": "code",
   "execution_count": 70,
   "id": "636cb1cc",
   "metadata": {},
   "outputs": [
    {
     "data": {
      "text/plain": [
       "array(['1', '2', '3', ..., '193585', '193587', '193609'], dtype='<U6')"
      ]
     },
     "execution_count": 70,
     "metadata": {},
     "output_type": "execute_result"
    }
   ],
   "source": [
    "item_embeddings['item_id']"
   ]
  },
  {
   "cell_type": "code",
   "execution_count": 80,
   "id": "fc1e0038",
   "metadata": {},
   "outputs": [
    {
     "name": "stdout",
     "output_type": "stream",
     "text": [
      "[ 0.26766276 -0.45542067  0.39248234 ... -0.10546523 -0.04645282\n",
      "  0.36024007]\n",
      "[ 0.07458868 -0.069779    0.10528068 ... -0.37448877 -0.28503156\n",
      " -0.0583121 ]\n",
      "[ 0.5093793  -0.49661088 -0.39532697 ... -0.29504013 -0.57493436\n",
      "  0.33169317]\n",
      "[ 0.89859676 -0.4278602   0.27982643 ... -0.11252339 -0.01022069\n",
      "  0.03397891]\n",
      "[-0.0624265  -0.76600057  0.08691105 ... -0.8247484  -0.42424303\n",
      "  0.1389752 ]\n",
      "[ 0.32089737 -0.04868587  0.28741598 ... -0.21841784 -0.68377876\n",
      "  0.14231806]\n",
      "[ 0.6861997  -0.08029675  0.12038855 ... -0.23224321  0.07914537\n",
      " -0.19328117]\n",
      "[ 0.17082432 -0.45249525 -0.1014679  ... -0.05797391 -0.08208055\n",
      "  0.20108743]\n",
      "[ 0.4596474  -0.5356707   0.09552311 ... -0.0974237  -0.28293797\n",
      "  0.4113273 ]\n",
      "[ 0.315041   -0.6635232   0.55964154 ...  0.09732856  0.06343631\n",
      " -0.6615091 ]\n",
      "[-0.06413118 -0.44555297  0.34632686 ... -0.8814714   0.09899006\n",
      " -0.0951758 ]\n",
      "[ 0.9723775  -0.14070863  0.22286451 ... -0.2886465  -0.07975807\n",
      " -0.18154514]\n",
      "[ 0.8202483   0.73054194  0.69437027 ...  0.06693608 -0.11194748\n",
      " -0.35207307]\n"
     ]
    }
   ],
   "source": [
    "for embedding in user_histories_dict[189]:\n",
    "    print(embedding)"
   ]
  },
  {
   "cell_type": "code",
   "execution_count": 72,
   "id": "36ec3923",
   "metadata": {},
   "outputs": [
    {
     "name": "stdout",
     "output_type": "stream",
     "text": [
      "356 [ 0.89859676 -0.4278602   0.27982643 ... -0.11252339 -0.01022069\n",
      "  0.03397891]\n",
      "527 [ 0.4596474  -0.5356707   0.09552311 ... -0.0974237  -0.28293797\n",
      "  0.4113273 ]\n",
      "1265 [ 0.9723775  -0.14070863  0.22286451 ... -0.2886465  -0.07975807\n",
      " -0.18154514]\n",
      "2571 [ 0.17082432 -0.45249525 -0.1014679  ... -0.05797391 -0.08208055\n",
      "  0.20108743]\n",
      "2959 [ 0.315041   -0.6635232   0.55964154 ...  0.09732856  0.06343631\n",
      " -0.6615091 ]\n",
      "4993 [-0.06413118 -0.44555297  0.34632686 ... -0.8814714   0.09899006\n",
      " -0.0951758 ]\n",
      "5952 [-0.0624265  -0.76600057  0.08691105 ... -0.8247484  -0.42424303\n",
      "  0.1389752 ]\n",
      "33794 [ 0.26766276 -0.45542067  0.39248234 ... -0.10546523 -0.04645282\n",
      "  0.36024007]\n",
      "48516 [ 0.5093793  -0.49661088 -0.39532697 ... -0.29504013 -0.57493436\n",
      "  0.33169317]\n",
      "58559 [ 0.32089737 -0.04868587  0.28741598 ... -0.21841784 -0.68377876\n",
      "  0.14231806]\n",
      "68954 [ 0.6861997  -0.08029675  0.12038855 ... -0.23224321  0.07914537\n",
      " -0.19328117]\n",
      "76093 [ 0.8202483   0.73054194  0.69437027 ...  0.06693608 -0.11194748\n",
      " -0.35207307]\n",
      "91529 [ 0.07458868 -0.069779    0.10528068 ... -0.37448877 -0.28503156\n",
      " -0.0583121 ]\n"
     ]
    }
   ],
   "source": [
    "for i in range(len(item_embeddings['item_id'])):\n",
    "    for item in user189['app_id']:\n",
    "        if item_embeddings['item_id'][i] == str(item):\n",
    "            print(item_embeddings['item_id'][i], item_embeddings['embeddings'][i])\n",
    "            break"
   ]
  },
  {
   "cell_type": "code",
   "execution_count": 6,
   "id": "f1f69667",
   "metadata": {},
   "outputs": [
    {
     "data": {
      "text/html": [
       "<div>\n",
       "<style scoped>\n",
       "    .dataframe tbody tr th:only-of-type {\n",
       "        vertical-align: middle;\n",
       "    }\n",
       "\n",
       "    .dataframe tbody tr th {\n",
       "        vertical-align: top;\n",
       "    }\n",
       "\n",
       "    .dataframe thead th {\n",
       "        text-align: right;\n",
       "    }\n",
       "</style>\n",
       "<table border=\"1\" class=\"dataframe\">\n",
       "  <thead>\n",
       "    <tr style=\"text-align: right;\">\n",
       "      <th></th>\n",
       "      <th>item_id</th>\n",
       "      <th>title</th>\n",
       "      <th>genres</th>\n",
       "      <th>new_title</th>\n",
       "      <th>year</th>\n",
       "      <th>titolo_match</th>\n",
       "      <th>plot</th>\n",
       "      <th>imdbId</th>\n",
       "      <th>tmdbId</th>\n",
       "    </tr>\n",
       "  </thead>\n",
       "  <tbody>\n",
       "    <tr>\n",
       "      <th>0</th>\n",
       "      <td>1</td>\n",
       "      <td>Toy Story (1995)</td>\n",
       "      <td>Adventure|Animation|Children|Comedy|Fantasy</td>\n",
       "      <td>Toy Story</td>\n",
       "      <td>1995.0</td>\n",
       "      <td>Toy Story</td>\n",
       "      <td>In a world where toys are living things who pr...</td>\n",
       "      <td>114709</td>\n",
       "      <td>862.0</td>\n",
       "    </tr>\n",
       "    <tr>\n",
       "      <th>1</th>\n",
       "      <td>2</td>\n",
       "      <td>Jumanji (1995)</td>\n",
       "      <td>Adventure|Children|Fantasy</td>\n",
       "      <td>Jumanji</td>\n",
       "      <td>1995.0</td>\n",
       "      <td>Jumanji</td>\n",
       "      <td>In 1869, near Brantford, New Hampshire, two br...</td>\n",
       "      <td>113497</td>\n",
       "      <td>8844.0</td>\n",
       "    </tr>\n",
       "    <tr>\n",
       "      <th>2</th>\n",
       "      <td>3</td>\n",
       "      <td>Grumpier Old Men (1995)</td>\n",
       "      <td>Comedy|Romance</td>\n",
       "      <td>Grumpier Old Men</td>\n",
       "      <td>1995.0</td>\n",
       "      <td>Grumpier Old Men</td>\n",
       "      <td>The feud between Max (Walter Matthau) and John...</td>\n",
       "      <td>113228</td>\n",
       "      <td>15602.0</td>\n",
       "    </tr>\n",
       "    <tr>\n",
       "      <th>3</th>\n",
       "      <td>4</td>\n",
       "      <td>Waiting to Exhale (1995)</td>\n",
       "      <td>Comedy|Drama|Romance</td>\n",
       "      <td>Waiting to Exhale</td>\n",
       "      <td>1995.0</td>\n",
       "      <td>Waiting to Exhale</td>\n",
       "      <td>\"Friends are the People who let you be yoursel...</td>\n",
       "      <td>114885</td>\n",
       "      <td>31357.0</td>\n",
       "    </tr>\n",
       "    <tr>\n",
       "      <th>4</th>\n",
       "      <td>5</td>\n",
       "      <td>Father of the Bride Part II (1995)</td>\n",
       "      <td>Comedy</td>\n",
       "      <td>Father of the Bride Part II</td>\n",
       "      <td>1995.0</td>\n",
       "      <td>Father of the Bride Part II</td>\n",
       "      <td>The film begins five years after the events of...</td>\n",
       "      <td>113041</td>\n",
       "      <td>11862.0</td>\n",
       "    </tr>\n",
       "    <tr>\n",
       "      <th>...</th>\n",
       "      <td>...</td>\n",
       "      <td>...</td>\n",
       "      <td>...</td>\n",
       "      <td>...</td>\n",
       "      <td>...</td>\n",
       "      <td>...</td>\n",
       "      <td>...</td>\n",
       "      <td>...</td>\n",
       "      <td>...</td>\n",
       "    </tr>\n",
       "    <tr>\n",
       "      <th>9737</th>\n",
       "      <td>193581</td>\n",
       "      <td>Black Butler: Book of the Atlantic (2017)</td>\n",
       "      <td>Action|Animation|Comedy|Fantasy</td>\n",
       "      <td>Black Butler: Book of the Atlantic</td>\n",
       "      <td>2017.0</td>\n",
       "      <td>Black Butler: Book of the Atlantic</td>\n",
       "      <td>Ciel, Sebastian and Snake board the luxury lin...</td>\n",
       "      <td>5476944</td>\n",
       "      <td>432131.0</td>\n",
       "    </tr>\n",
       "    <tr>\n",
       "      <th>9738</th>\n",
       "      <td>193583</td>\n",
       "      <td>No Game No Life: Zero (2017)</td>\n",
       "      <td>Animation|Comedy|Fantasy</td>\n",
       "      <td>No Game No Life: Zero</td>\n",
       "      <td>2017.0</td>\n",
       "      <td>No Game No Life: Zero</td>\n",
       "      <td>Six thousand years before Sora and Shiro were ...</td>\n",
       "      <td>5914996</td>\n",
       "      <td>445030.0</td>\n",
       "    </tr>\n",
       "    <tr>\n",
       "      <th>9739</th>\n",
       "      <td>193585</td>\n",
       "      <td>Flint (2017)</td>\n",
       "      <td>Drama</td>\n",
       "      <td>Flint</td>\n",
       "      <td>2017.0</td>\n",
       "      <td>Flint</td>\n",
       "      <td>A woman deals with the toxic water scandal in ...</td>\n",
       "      <td>6397426</td>\n",
       "      <td>479308.0</td>\n",
       "    </tr>\n",
       "    <tr>\n",
       "      <th>9740</th>\n",
       "      <td>193587</td>\n",
       "      <td>Bungo Stray Dogs: Dead Apple (2018)</td>\n",
       "      <td>Action|Animation</td>\n",
       "      <td>Bungo Stray Dogs: Dead Apple</td>\n",
       "      <td>2018.0</td>\n",
       "      <td>Bungo Stray Dogs: Dead Apple</td>\n",
       "      <td>A large scale catastrophe is occurring across ...</td>\n",
       "      <td>8391976</td>\n",
       "      <td>483455.0</td>\n",
       "    </tr>\n",
       "    <tr>\n",
       "      <th>9741</th>\n",
       "      <td>193609</td>\n",
       "      <td>Andrew Dice Clay: Dice Rules (1991)</td>\n",
       "      <td>Comedy</td>\n",
       "      <td>Andrew Dice Clay: Dice Rules</td>\n",
       "      <td>1991.0</td>\n",
       "      <td>Andrew Dice Clay: Dice Rules</td>\n",
       "      <td>Outrageous, misogynistic and vulgar-to-the-max...</td>\n",
       "      <td>101726</td>\n",
       "      <td>37891.0</td>\n",
       "    </tr>\n",
       "  </tbody>\n",
       "</table>\n",
       "<p>9742 rows × 9 columns</p>\n",
       "</div>"
      ],
      "text/plain": [
       "      item_id                                      title  \\\n",
       "0           1                           Toy Story (1995)   \n",
       "1           2                             Jumanji (1995)   \n",
       "2           3                    Grumpier Old Men (1995)   \n",
       "3           4                   Waiting to Exhale (1995)   \n",
       "4           5         Father of the Bride Part II (1995)   \n",
       "...       ...                                        ...   \n",
       "9737   193581  Black Butler: Book of the Atlantic (2017)   \n",
       "9738   193583               No Game No Life: Zero (2017)   \n",
       "9739   193585                               Flint (2017)   \n",
       "9740   193587        Bungo Stray Dogs: Dead Apple (2018)   \n",
       "9741   193609        Andrew Dice Clay: Dice Rules (1991)   \n",
       "\n",
       "                                           genres  \\\n",
       "0     Adventure|Animation|Children|Comedy|Fantasy   \n",
       "1                      Adventure|Children|Fantasy   \n",
       "2                                  Comedy|Romance   \n",
       "3                            Comedy|Drama|Romance   \n",
       "4                                          Comedy   \n",
       "...                                           ...   \n",
       "9737              Action|Animation|Comedy|Fantasy   \n",
       "9738                     Animation|Comedy|Fantasy   \n",
       "9739                                        Drama   \n",
       "9740                             Action|Animation   \n",
       "9741                                       Comedy   \n",
       "\n",
       "                               new_title    year  \\\n",
       "0                              Toy Story  1995.0   \n",
       "1                                Jumanji  1995.0   \n",
       "2                       Grumpier Old Men  1995.0   \n",
       "3                      Waiting to Exhale  1995.0   \n",
       "4            Father of the Bride Part II  1995.0   \n",
       "...                                  ...     ...   \n",
       "9737  Black Butler: Book of the Atlantic  2017.0   \n",
       "9738               No Game No Life: Zero  2017.0   \n",
       "9739                               Flint  2017.0   \n",
       "9740        Bungo Stray Dogs: Dead Apple  2018.0   \n",
       "9741        Andrew Dice Clay: Dice Rules  1991.0   \n",
       "\n",
       "                            titolo_match  \\\n",
       "0                              Toy Story   \n",
       "1                                Jumanji   \n",
       "2                       Grumpier Old Men   \n",
       "3                      Waiting to Exhale   \n",
       "4            Father of the Bride Part II   \n",
       "...                                  ...   \n",
       "9737  Black Butler: Book of the Atlantic   \n",
       "9738               No Game No Life: Zero   \n",
       "9739                               Flint   \n",
       "9740        Bungo Stray Dogs: Dead Apple   \n",
       "9741        Andrew Dice Clay: Dice Rules   \n",
       "\n",
       "                                                   plot   imdbId    tmdbId  \n",
       "0     In a world where toys are living things who pr...   114709     862.0  \n",
       "1     In 1869, near Brantford, New Hampshire, two br...   113497    8844.0  \n",
       "2     The feud between Max (Walter Matthau) and John...   113228   15602.0  \n",
       "3     \"Friends are the People who let you be yoursel...   114885   31357.0  \n",
       "4     The film begins five years after the events of...   113041   11862.0  \n",
       "...                                                 ...      ...       ...  \n",
       "9737  Ciel, Sebastian and Snake board the luxury lin...  5476944  432131.0  \n",
       "9738  Six thousand years before Sora and Shiro were ...  5914996  445030.0  \n",
       "9739  A woman deals with the toxic water scandal in ...  6397426  479308.0  \n",
       "9740  A large scale catastrophe is occurring across ...  8391976  483455.0  \n",
       "9741  Outrageous, misogynistic and vulgar-to-the-max...   101726   37891.0  \n",
       "\n",
       "[9742 rows x 9 columns]"
      ]
     },
     "execution_count": 6,
     "metadata": {},
     "output_type": "execute_result"
    }
   ],
   "source": [
    "movies_plots_final = pd.read_csv('movies_plots_final.csv')\n",
    "movies_plots_final.rename(columns={'movieId': 'item_id'}, inplace=True)\n",
    "movies_plots_final"
   ]
  },
  {
   "cell_type": "code",
   "execution_count": 7,
   "id": "e310d432",
   "metadata": {},
   "outputs": [],
   "source": [
    "movies_plots_final.to_csv('item_plots_final.csv', index=False)"
   ]
  },
  {
   "cell_type": "code",
   "execution_count": 8,
   "id": "dab4e2d4",
   "metadata": {},
   "outputs": [
    {
     "data": {
      "text/html": [
       "<div>\n",
       "<style scoped>\n",
       "    .dataframe tbody tr th:only-of-type {\n",
       "        vertical-align: middle;\n",
       "    }\n",
       "\n",
       "    .dataframe tbody tr th {\n",
       "        vertical-align: top;\n",
       "    }\n",
       "\n",
       "    .dataframe thead th {\n",
       "        text-align: right;\n",
       "    }\n",
       "</style>\n",
       "<table border=\"1\" class=\"dataframe\">\n",
       "  <thead>\n",
       "    <tr style=\"text-align: right;\">\n",
       "      <th></th>\n",
       "      <th>user_id</th>\n",
       "      <th>item_id</th>\n",
       "      <th>rating</th>\n",
       "      <th>timestamp</th>\n",
       "    </tr>\n",
       "  </thead>\n",
       "  <tbody>\n",
       "    <tr>\n",
       "      <th>0</th>\n",
       "      <td>1</td>\n",
       "      <td>1</td>\n",
       "      <td>4.0</td>\n",
       "      <td>964982703</td>\n",
       "    </tr>\n",
       "    <tr>\n",
       "      <th>1</th>\n",
       "      <td>1</td>\n",
       "      <td>3</td>\n",
       "      <td>4.0</td>\n",
       "      <td>964981247</td>\n",
       "    </tr>\n",
       "    <tr>\n",
       "      <th>2</th>\n",
       "      <td>1</td>\n",
       "      <td>6</td>\n",
       "      <td>4.0</td>\n",
       "      <td>964982224</td>\n",
       "    </tr>\n",
       "    <tr>\n",
       "      <th>3</th>\n",
       "      <td>1</td>\n",
       "      <td>47</td>\n",
       "      <td>5.0</td>\n",
       "      <td>964983815</td>\n",
       "    </tr>\n",
       "    <tr>\n",
       "      <th>4</th>\n",
       "      <td>1</td>\n",
       "      <td>50</td>\n",
       "      <td>5.0</td>\n",
       "      <td>964982931</td>\n",
       "    </tr>\n",
       "    <tr>\n",
       "      <th>...</th>\n",
       "      <td>...</td>\n",
       "      <td>...</td>\n",
       "      <td>...</td>\n",
       "      <td>...</td>\n",
       "    </tr>\n",
       "    <tr>\n",
       "      <th>100831</th>\n",
       "      <td>610</td>\n",
       "      <td>166534</td>\n",
       "      <td>4.0</td>\n",
       "      <td>1493848402</td>\n",
       "    </tr>\n",
       "    <tr>\n",
       "      <th>100832</th>\n",
       "      <td>610</td>\n",
       "      <td>168248</td>\n",
       "      <td>5.0</td>\n",
       "      <td>1493850091</td>\n",
       "    </tr>\n",
       "    <tr>\n",
       "      <th>100833</th>\n",
       "      <td>610</td>\n",
       "      <td>168250</td>\n",
       "      <td>5.0</td>\n",
       "      <td>1494273047</td>\n",
       "    </tr>\n",
       "    <tr>\n",
       "      <th>100834</th>\n",
       "      <td>610</td>\n",
       "      <td>168252</td>\n",
       "      <td>5.0</td>\n",
       "      <td>1493846352</td>\n",
       "    </tr>\n",
       "    <tr>\n",
       "      <th>100835</th>\n",
       "      <td>610</td>\n",
       "      <td>170875</td>\n",
       "      <td>3.0</td>\n",
       "      <td>1493846415</td>\n",
       "    </tr>\n",
       "  </tbody>\n",
       "</table>\n",
       "<p>100836 rows × 4 columns</p>\n",
       "</div>"
      ],
      "text/plain": [
       "        user_id  item_id  rating   timestamp\n",
       "0             1        1     4.0   964982703\n",
       "1             1        3     4.0   964981247\n",
       "2             1        6     4.0   964982224\n",
       "3             1       47     5.0   964983815\n",
       "4             1       50     5.0   964982931\n",
       "...         ...      ...     ...         ...\n",
       "100831      610   166534     4.0  1493848402\n",
       "100832      610   168248     5.0  1493850091\n",
       "100833      610   168250     5.0  1494273047\n",
       "100834      610   168252     5.0  1493846352\n",
       "100835      610   170875     3.0  1493846415\n",
       "\n",
       "[100836 rows x 4 columns]"
      ]
     },
     "execution_count": 8,
     "metadata": {},
     "output_type": "execute_result"
    }
   ],
   "source": [
    "ratings.rename(columns={'userId': 'user_id', 'movieId': 'item_id'}, inplace=True)\n",
    "ratings"
   ]
  },
  {
   "cell_type": "code",
   "execution_count": 4,
   "id": "855b5af8",
   "metadata": {},
   "outputs": [],
   "source": [
    "import pandas as pd\n",
    "from sklearn.model_selection import train_test_split\n",
    "ratings = pd.read_csv('recommendations.csv')"
   ]
  },
  {
   "cell_type": "code",
   "execution_count": 5,
   "id": "c50fc086",
   "metadata": {},
   "outputs": [],
   "source": [
    "train_recommendations, test_recommendations = train_test_split(ratings, test_size=0.1, random_state=42)\n"
   ]
  },
  {
   "cell_type": "code",
   "execution_count": 7,
   "id": "338a849c",
   "metadata": {},
   "outputs": [
    {
     "data": {
      "text/plain": [
       "(900188, 100021, 1000209)"
      ]
     },
     "execution_count": 7,
     "metadata": {},
     "output_type": "execute_result"
    }
   ],
   "source": [
    "len(train_recommendations), len(test_recommendations), len(ratings)"
   ]
  },
  {
   "cell_type": "code",
   "execution_count": 11,
   "id": "ad46f97c",
   "metadata": {},
   "outputs": [
    {
     "data": {
      "text/plain": [
       "(610, 610, 610)"
      ]
     },
     "execution_count": 11,
     "metadata": {},
     "output_type": "execute_result"
    }
   ],
   "source": [
    "len(train_recommendations['user_id'].unique()), len(test_recommendations['user_id'].unique()), len(ratings['user_id'].unique())"
   ]
  },
  {
   "cell_type": "code",
   "execution_count": 12,
   "id": "627de561",
   "metadata": {},
   "outputs": [
    {
     "data": {
      "text/plain": [
       "(8983, 5142, 9724)"
      ]
     },
     "execution_count": 12,
     "metadata": {},
     "output_type": "execute_result"
    }
   ],
   "source": [
    "len(train_recommendations['item_id'].unique()), len(test_recommendations['item_id'].unique()), len(ratings['item_id'].unique())"
   ]
  },
  {
   "cell_type": "code",
   "execution_count": 8,
   "id": "48f77478",
   "metadata": {},
   "outputs": [],
   "source": [
    "ratings.to_csv('final/ratings.csv', index=False)\n",
    "train_recommendations.to_csv('final/train_recommendations.csv', index=False)\n",
    "test_recommendations.to_csv('final/test_recommendations.csv', index=False)"
   ]
  },
  {
   "cell_type": "code",
   "execution_count": 9,
   "id": "d31f58c2",
   "metadata": {},
   "outputs": [],
   "source": [
    "recommendation = train_recommendations"
   ]
  },
  {
   "cell_type": "code",
   "execution_count": 11,
   "id": "525f7ec6",
   "metadata": {},
   "outputs": [
    {
     "data": {
      "text/plain": [
       "(792165, 108023, 900188)"
      ]
     },
     "execution_count": 11,
     "metadata": {},
     "output_type": "execute_result"
    }
   ],
   "source": [
    "train_recommendations, test_recommendations = train_test_split(recommendation, test_size=0.12, random_state=42)\n",
    "len(train_recommendations), len(test_recommendations), len(recommendation)"
   ]
  },
  {
   "cell_type": "code",
   "execution_count": 13,
   "id": "8779d641",
   "metadata": {},
   "outputs": [],
   "source": [
    "recommendation.to_csv('tuning/recommendations.csv', index=False)\n",
    "train_recommendations.to_csv('tuning/train_recommendations.csv', index=False)\n",
    "test_recommendations.to_csv('tuning/test_recommendations.csv', index=False)"
   ]
  },
  {
   "cell_type": "code",
   "execution_count": 15,
   "id": "c53ea57d",
   "metadata": {},
   "outputs": [],
   "source": [
    "item_plots_final = pd.read_csv('item_plots_final.csv')\n",
    "item_plots_final.rename(columns={'item_id': 'app_id'}, inplace=True)\n",
    "item_plots_final.to_csv('app_plots_final.csv', index=False)"
   ]
  },
  {
   "cell_type": "code",
   "execution_count": 18,
   "id": "49939306",
   "metadata": {},
   "outputs": [],
   "source": [
    "ratings= pd.read_csv('ratings.csv')\n",
    "ratings.rename(columns={'userId': 'user_id', 'movieId': 'app_id'}, inplace=True)\n",
    "ratings.to_csv('recommendations.csv', index=False)\n"
   ]
  },
  {
   "cell_type": "code",
   "execution_count": 19,
   "id": "38e46884",
   "metadata": {},
   "outputs": [
    {
     "data": {
      "text/html": [
       "<div>\n",
       "<style scoped>\n",
       "    .dataframe tbody tr th:only-of-type {\n",
       "        vertical-align: middle;\n",
       "    }\n",
       "\n",
       "    .dataframe tbody tr th {\n",
       "        vertical-align: top;\n",
       "    }\n",
       "\n",
       "    .dataframe thead th {\n",
       "        text-align: right;\n",
       "    }\n",
       "</style>\n",
       "<table border=\"1\" class=\"dataframe\">\n",
       "  <thead>\n",
       "    <tr style=\"text-align: right;\">\n",
       "      <th></th>\n",
       "      <th>user_id</th>\n",
       "      <th>app_id</th>\n",
       "      <th>rating</th>\n",
       "      <th>timestamp</th>\n",
       "    </tr>\n",
       "  </thead>\n",
       "  <tbody>\n",
       "    <tr>\n",
       "      <th>0</th>\n",
       "      <td>509</td>\n",
       "      <td>7347</td>\n",
       "      <td>3.0</td>\n",
       "      <td>1435994597</td>\n",
       "    </tr>\n",
       "    <tr>\n",
       "      <th>1</th>\n",
       "      <td>326</td>\n",
       "      <td>71462</td>\n",
       "      <td>4.0</td>\n",
       "      <td>1322252335</td>\n",
       "    </tr>\n",
       "    <tr>\n",
       "      <th>2</th>\n",
       "      <td>57</td>\n",
       "      <td>2115</td>\n",
       "      <td>3.0</td>\n",
       "      <td>965798155</td>\n",
       "    </tr>\n",
       "    <tr>\n",
       "      <th>3</th>\n",
       "      <td>610</td>\n",
       "      <td>1127</td>\n",
       "      <td>4.0</td>\n",
       "      <td>1479544102</td>\n",
       "    </tr>\n",
       "    <tr>\n",
       "      <th>4</th>\n",
       "      <td>462</td>\n",
       "      <td>2409</td>\n",
       "      <td>2.0</td>\n",
       "      <td>1174438249</td>\n",
       "    </tr>\n",
       "    <tr>\n",
       "      <th>...</th>\n",
       "      <td>...</td>\n",
       "      <td>...</td>\n",
       "      <td>...</td>\n",
       "      <td>...</td>\n",
       "    </tr>\n",
       "    <tr>\n",
       "      <th>80663</th>\n",
       "      <td>42</td>\n",
       "      <td>4005</td>\n",
       "      <td>4.0</td>\n",
       "      <td>996259059</td>\n",
       "    </tr>\n",
       "    <tr>\n",
       "      <th>80664</th>\n",
       "      <td>364</td>\n",
       "      <td>141</td>\n",
       "      <td>4.0</td>\n",
       "      <td>869443367</td>\n",
       "    </tr>\n",
       "    <tr>\n",
       "      <th>80665</th>\n",
       "      <td>480</td>\n",
       "      <td>6867</td>\n",
       "      <td>4.0</td>\n",
       "      <td>1179163171</td>\n",
       "    </tr>\n",
       "    <tr>\n",
       "      <th>80666</th>\n",
       "      <td>6</td>\n",
       "      <td>981</td>\n",
       "      <td>3.0</td>\n",
       "      <td>845556567</td>\n",
       "    </tr>\n",
       "    <tr>\n",
       "      <th>80667</th>\n",
       "      <td>103</td>\n",
       "      <td>6711</td>\n",
       "      <td>5.0</td>\n",
       "      <td>1431957425</td>\n",
       "    </tr>\n",
       "  </tbody>\n",
       "</table>\n",
       "<p>80668 rows × 4 columns</p>\n",
       "</div>"
      ],
      "text/plain": [
       "       user_id  app_id  rating   timestamp\n",
       "0          509    7347     3.0  1435994597\n",
       "1          326   71462     4.0  1322252335\n",
       "2           57    2115     3.0   965798155\n",
       "3          610    1127     4.0  1479544102\n",
       "4          462    2409     2.0  1174438249\n",
       "...        ...     ...     ...         ...\n",
       "80663       42    4005     4.0   996259059\n",
       "80664      364     141     4.0   869443367\n",
       "80665      480    6867     4.0  1179163171\n",
       "80666        6     981     3.0   845556567\n",
       "80667      103    6711     5.0  1431957425\n",
       "\n",
       "[80668 rows x 4 columns]"
      ]
     },
     "execution_count": 19,
     "metadata": {},
     "output_type": "execute_result"
    }
   ],
   "source": [
    "train_recommendations = pd.read_csv('train_recommendations.csv')\n",
    "test_recommendations = pd.read_csv('test_recommendations.csv')\n",
    "train_recommendations.rename(columns={'item_id': 'app_id'}, inplace=True)\n",
    "test_recommendations.rename(columns={'item_id': 'app_id'}, inplace=True)\n",
    "train_recommendations"
   ]
  },
  {
   "cell_type": "code",
   "execution_count": 21,
   "id": "66c3267f",
   "metadata": {},
   "outputs": [],
   "source": [
    "train_recommendations.to_csv('train_recommendations.csv', index=False)\n",
    "test_recommendations.to_csv('test_recommendations.csv', index=False)"
   ]
  }
 ],
 "metadata": {
  "kernelspec": {
   "display_name": "recsys2025",
   "language": "python",
   "name": "python3"
  },
  "language_info": {
   "codemirror_mode": {
    "name": "ipython",
    "version": 3
   },
   "file_extension": ".py",
   "mimetype": "text/x-python",
   "name": "python",
   "nbconvert_exporter": "python",
   "pygments_lexer": "ipython3",
   "version": "3.10.16"
  }
 },
 "nbformat": 4,
 "nbformat_minor": 5
}
