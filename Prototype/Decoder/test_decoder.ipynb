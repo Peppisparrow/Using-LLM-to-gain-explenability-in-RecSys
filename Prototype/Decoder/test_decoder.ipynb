{
 "cells": [
  {
   "cell_type": "markdown",
   "id": "6a718550",
   "metadata": {},
   "source": [
    "# Setup"
   ]
  },
  {
   "cell_type": "code",
   "execution_count": 1,
   "id": "71cec25e",
   "metadata": {},
   "outputs": [],
   "source": [
    "# Setting path the main directory two directories up\n",
    "import sys\n",
    "import os\n",
    "\n",
    "# Setting the path to the main directory two directories up\n",
    "main_directory = os.path.abspath(os.path.join(os.getcwd(), os.pardir, os.pardir))\n",
    "if main_directory not in sys.path:\n",
    "    sys.path.append(main_directory)\n",
    "    \n",
    "os.chdir('../../')"
   ]
  },
  {
   "cell_type": "markdown",
   "id": "894a48e8",
   "metadata": {},
   "source": [
    "---\n",
    "# Simple test"
   ]
  },
  {
   "cell_type": "code",
   "execution_count": 2,
   "id": "a7e3eca8",
   "metadata": {},
   "outputs": [],
   "source": [
    "# Generate a random URM\n",
    "import numpy as np\n",
    "import scipy.sparse as sps\n",
    "\n",
    "n_users = 1000\n",
    "n_items = 500\n",
    "n_interactions = 10000\n",
    "user_ids = np.random.randint(0, n_users, n_interactions)\n",
    "item_ids = np.random.randint(0, n_items, n_interactions)\n",
    "data = np.random.rand(n_interactions)\n",
    "URM = sps.coo_matrix((data, (user_ids, item_ids)), shape=(n_users, n_items)).tocsr()"
   ]
  },
  {
   "cell_type": "code",
   "execution_count": 3,
   "id": "bdc46178",
   "metadata": {},
   "outputs": [
    {
     "name": "stdout",
     "output_type": "stream",
     "text": [
      "Warning: 136 (13.60 %) of 1000 users have no sampled items\n",
      "URM Train shape: (1000, 500)\n",
      "URM Test shape: (1000, 500)\n"
     ]
    }
   ],
   "source": [
    "from RecSysFramework.Data_manager.split_functions.split_train_validation_random_holdout import split_train_in_two_percentage_global_sample\n",
    "\n",
    "URM_train, URM_test = split_train_in_two_percentage_global_sample(URM, train_percentage=0.8)\n",
    "print(f\"URM Train shape: {URM_train.shape}\")\n",
    "print(f\"URM Test shape: {URM_test.shape}\")"
   ]
  },
  {
   "cell_type": "code",
   "execution_count": null,
   "id": "7f9bbc23",
   "metadata": {},
   "outputs": [],
   "source": [
    "from Prototype.Decoder.src.RecommenderDecoder import RecommenderDecoder\n",
    "# Create a dummy USER_FACTORS matrix\n",
    "N_FACTORS = 1000  # Number of latent factors\n",
    "USER_FACTORS = np.random.rand(n_users, N_FACTORS)  # 20 latent factors\n",
    "\n",
    "decoder = RecommenderDecoder(URM_train=URM_train)"
   ]
  },
  {
   "cell_type": "code",
   "execution_count": 5,
   "id": "30015e8a",
   "metadata": {},
   "outputs": [
    {
     "name": "stdout",
     "output_type": "stream",
     "text": [
      "RecommenderDecoder: Epoch 1 of 1. Elapsed time 20.01 sec\n",
      "RecommenderDecoder: Terminating at epoch 1. Elapsed time 20.02 sec\n"
     ]
    }
   ],
   "source": [
    "decoder.fit(epochs=1, num_factors=N_FACTORS, user_factors=USER_FACTORS)"
   ]
  }
 ],
 "metadata": {
  "kernelspec": {
   "display_name": "THESIS",
   "language": "python",
   "name": "python3"
  },
  "language_info": {
   "codemirror_mode": {
    "name": "ipython",
    "version": 3
   },
   "file_extension": ".py",
   "mimetype": "text/x-python",
   "name": "python",
   "nbconvert_exporter": "python",
   "pygments_lexer": "ipython3",
   "version": "3.10.13"
  }
 },
 "nbformat": 4,
 "nbformat_minor": 5
}
